{
  "nbformat": 4,
  "nbformat_minor": 0,
  "metadata": {
    "colab": {
      "provenance": [],
      "authorship_tag": "ABX9TyO/2y41Q5rU3zSIu5gfboXC",
      "include_colab_link": true
    },
    "kernelspec": {
      "name": "python3",
      "display_name": "Python 3"
    },
    "language_info": {
      "name": "python"
    }
  },
  "cells": [
    {
      "cell_type": "markdown",
      "metadata": {
        "id": "view-in-github",
        "colab_type": "text"
      },
      "source": [
        "<a href=\"https://colab.research.google.com/github/ethansong206/Climate-Plus-Project/blob/main/DataCleaning.ipynb\" target=\"_parent\"><img src=\"https://colab.research.google.com/assets/colab-badge.svg\" alt=\"Open In Colab\"/></a>"
      ]
    },
    {
      "cell_type": "markdown",
      "source": [
        "##Import necessary packages for the code\n",
        "\n",
        "---"
      ],
      "metadata": {
        "id": "RGa1ITd5pwR7"
      }
    },
    {
      "cell_type": "code",
      "execution_count": 132,
      "metadata": {
        "id": "e6u2wlQbblpm"
      },
      "outputs": [],
      "source": [
        "import pandas as pd\n",
        "import numpy as np\n",
        "from datetime import datetime\n",
        "import re"
      ]
    },
    {
      "cell_type": "markdown",
      "source": [
        "---\n",
        "Load the Duke Dining csv file and make the data easier to handle. This includes but is not limited to:\n",
        "\n",
        "1) Renaming locations\n",
        "\n",
        "2) Changing the date from a string to a date object\n",
        "\n",
        "---"
      ],
      "metadata": {
        "id": "59ncjUuWp_Nj"
      }
    },
    {
      "cell_type": "code",
      "source": [
        "DiningDataFull = pd.read_csv('Climate+ Data 2019 thru 2023.csv', \n",
        "                             dtype = {'Priority 1': str, 'Priority 2': str,\n",
        "                                      'Priority 3': str})\n",
        "#print(DiningDataFull['Unit Name'].value_counts()) # Show how many entries there are of each location\n",
        "\n",
        "#below code to make 'Unit Name' column easier to handle\n",
        "#can add more lines given more locations\n",
        "def location_rename(location):\n",
        "    if(\"Marketplace\" in location): #Combine data for Marketplace Kitchen and Marketplace Special Event\n",
        "        return \"Marketplace\"\n",
        "    if(\"Marine Lab\" in location):\n",
        "        return \"DuML\"\n",
        "    if(\"Trinity\" in location):\n",
        "        return \"Trinity\"\n",
        "    if(\"Freeman\" in location):\n",
        "        return \"Freeman\"\n",
        "    return None\n",
        "\n",
        "DiningDataFull['Unit Name'] = DiningDataFull.apply(lambda d: location_rename(d['Unit Name']), axis = 1)\n",
        "\n",
        "DiningDataFull['Purchase Date'] = DiningDataFull.apply(lambda d: datetime.strptime(d['Purchase Date'], '%m/%d/%Y').date(), axis = 1)\n",
        "\n",
        "print(\"Rows in DiningDataFull: \", DiningDataFull.shape[0])"
      ],
      "metadata": {
        "colab": {
          "base_uri": "https://localhost:8080/"
        },
        "id": "X6FApqgppspd",
        "outputId": "79ab7759-91e1-46bd-f7d4-8293565d58a3"
      },
      "execution_count": 133,
      "outputs": [
        {
          "output_type": "stream",
          "name": "stdout",
          "text": [
            "Rows in DiningDataFull:  90534\n"
          ]
        }
      ]
    },
    {
      "cell_type": "markdown",
      "source": [
        "---\n",
        "Extract the unit names for each item into a new column called `Unit`, then rename each unit into a more simple label (i.e. LB CS to LB). Convert cans and bottle cases into the equivalent value in OZ.\n",
        "\n",
        "Extract the simplified item name from `Vendor Item Description` into a new column called `Item Name`.\n",
        "\n",
        "---\n",
        "Note on Exclusion: Some units are left out in this first calculation of emissions as they are either not directly food (i.e. gloves) or are too difficult to go through individually and find a measurement that is not ambiguous. The total number of entries left out is 12171. **The number of non-food items in this amount can be calculated later.**\n",
        "\n",
        "---\n",
        "Note on Conversions: The column `Vendor Item Purchase Unit` is in the format x/y n which should be read as x bags of y units of n food.\n",
        "\n",
        "---"
      ],
      "metadata": {
        "id": "y6s4AxAUOoKQ"
      }
    },
    {
      "cell_type": "code",
      "source": [
        "#this code extracts just the unit information\n",
        "DiningDataFull['Unit'] = DiningDataFull['Vendor Item Purchase Unit'].str.extract(r\" ?([A-Za-zÀ-ÿ ]*)$\").astype(str)\n",
        "#below code to simplify redundant labels (i.e. LB CS to LB)\n",
        "def unit_rename(unit):\n",
        "    if('LB' in unit) | ('lb' in unit) | ('Lb' in unit) | ('Pound' in unit):\n",
        "        return 'LB'\n",
        "    if('OZ' in unit) | ('oz' in unit) | ('Oz' in unit) | (' Z' in unit):\n",
        "        return 'OZ'\n",
        "    if('GA' in unit) | ('Gal' in unit):\n",
        "        return 'GA'\n",
        "    if('QT' in unit):\n",
        "        return 'QT'\n",
        "    if('PT' in unit) | ('Pint' in unit) | ('PINT' in unit):\n",
        "        return 'PT'\n",
        "    if('LT' in unit):\n",
        "        return 'LT' \n",
        "    if('BU' in unit) | ('Bushel' in unit): #bushels\n",
        "        return 'BU'\n",
        "    if('KG' in unit):\n",
        "        return 'KG' \n",
        "    if('GR' in unit): #grams\n",
        "        return 'GR' \n",
        "    if('ML' in unit) | ('ml' in unit) | ('Ml' in unit): #milliliters\n",
        "        return 'ML'\n",
        "    if('CN' in unit) | ('Can' in unit):\n",
        "        return 'CN'\n",
        "    if('Bottle Case' in unit):\n",
        "        return 'Bottle Case'\n",
        "    return None\n",
        "#Notes: Bottle Case is 64 oz each, find # of can and translate to oz, anything with EA is not included for now (~9000)\n",
        "DiningDataFull['Unit'] = DiningDataFull.apply(lambda d: unit_rename(d['Unit']), axis = 1)\n",
        "\n",
        "#convert cans to OZ\n",
        "#using estimates for weight of cans through https://food.unl.edu/article/how-interpret-can-size-numbers\n",
        "DiningDataFull = DiningDataFull.replace({'#10 CN' : '110.5 OZ'}, regex = True)\n",
        "DiningDataFull = DiningDataFull.replace({'#10 Can' : '110.5 OZ'}, regex = True)\n",
        "DiningDataFull = DiningDataFull.replace({'#300 CN' : '15 OZ'}, regex = True)\n",
        "DiningDataFull = DiningDataFull.replace({'CN' : 'OZ'})\n",
        "#convert bottle case to OZ\n",
        "DiningDataFull = DiningDataFull.replace({' Bottle Case' : '/64 OZ'}, regex = True)\n",
        "DiningDataFull = DiningDataFull.replace({'Bottle Case' : 'OZ'})\n",
        "\n",
        "#extract item names\n",
        "DiningDataFull['Vendor Item'] = DiningDataFull['Vendor Item Description'].str.extract(r'(.*),')\n",
        "DiningDataFull['Vendor Item'] = DiningDataFull['Vendor Item'].str.upper()"
      ],
      "metadata": {
        "id": "RPuQ7DJMOeH3"
      },
      "execution_count": 134,
      "outputs": []
    },
    {
      "cell_type": "markdown",
      "source": [
        "---\n",
        "Make a new column called `Total Amount` for the total amount of food in the current unit of measurement, before converting to grams. Make a new column called `Total Amount(g)` for converting all units to the equivalent value in grams, then filter out main descriptor word(s) in `Vendor Item Description` into a new column called `Food Name`.\n",
        "\n",
        "---\n",
        "\n",
        "Take the column with units in grams and multiply by the `Receive Quantity` if provided into a new column called `Total Grams`. If there is no value in `Receive Quantity`, then assume it is the value 1.\n",
        "\n",
        "---\n",
        "Note on Conversions: Most of these conversions are estimated to the nearest tenth. **More accurate calculations can be found later**\n",
        "\n",
        "---"
      ],
      "metadata": {
        "id": "PQbuaCZyGnUQ"
      }
    },
    {
      "cell_type": "code",
      "source": [
        "#make a new dataset for just entries with known units\n",
        "DDReduced = DiningDataFull[DiningDataFull['Unit'].notna()]\n",
        "#print(DDReduced.head())\n",
        "\n",
        "#find total amount of food before converting to grams\n",
        "DDReduced = DDReduced.copy()\n",
        "DDReduced['Total Amount'] = DDReduced['Vendor Item Purchase Unit'].str.extract(r'^[a-zA-Z]* ?-?/? ?([0-9]*/?[0-9.]*-?[0-9.]*)')\n",
        "DDReduced['Range'] = DDReduced['Total Amount'].str.extract(r'([0-9.]*-[0-9.]*)')\n",
        "DDReduced['Range'] = DDReduced['Range'].astype(str)\n",
        "DDReduced['Range'] = DDReduced['Range'].replace({'nan' : '0'})\n",
        "DDReduced['Range Average'] = DDReduced['Range'].replace({'-' : '+'}, regex = True)\n",
        "DDReduced['Range Average'] = DDReduced.apply(lambda d: eval(d['Range Average']), axis = 1)\n",
        "DDReduced['Range Average'] /= 2\n",
        "\n",
        "has_slash = ~(DDReduced['Total Amount'].str.contains('/')) & (DDReduced['Total Amount'].str.len() > 0)\n",
        "DDReduced.loc[has_slash, 'Total Amount'] = (\n",
        "    '1/' + DDReduced.loc[has_slash, 'Total Amount']\n",
        ")\n",
        "\n",
        "has_range = DDReduced['Total Amount'].str.contains('-')\n",
        "DDReduced.loc[has_range, 'Total Amount'] = (\n",
        "    DDReduced.loc[has_range, 'Total Amount'].str.split('/').str[0]\n",
        "    + '/'\n",
        "    + DDReduced.loc[has_range, 'Range Average'].astype(str)\n",
        ")\n",
        "\n",
        "just_unit = (DDReduced['Total Amount'] == '') & ~(DDReduced['Vendor Item Purchase Unit'].isna())\n",
        "DDReduced.loc[just_unit, 'Total Amount'] = '1'\n",
        "\n",
        "DDReduced = DDReduced.drop(['Range', 'Range Average'], axis = 1)\n",
        "\n",
        "DDReduced['Total Amount'] = DDReduced['Total Amount'].replace({'' : '0'})\n",
        "DDReduced['Receive Quantity'] = DDReduced['Receive Quantity'].fillna(0)\n",
        "DDReduced = DDReduced[DDReduced['Receive Quantity'] != 0] #get rid of any rows that were not received\n",
        "DDReduced['Total Amount'] = DDReduced['Total Amount'].replace({'/' : '*'}, regex = True)\n",
        "DDReduced['Total Amount'] = DDReduced.apply(lambda d: eval(d['Total Amount']), axis = 1)\n",
        "DDReduced['Total Amount'] = DDReduced['Total Amount'].astype(float) * DDReduced['Receive Quantity'].astype(float)\n",
        "\n",
        "#convert units to grams\n",
        "def convert_units(row):\n",
        "    if row['Unit'] == 'LB':\n",
        "        return row['Total Amount'] * 453.6\n",
        "    if row['Unit'] == 'OZ':\n",
        "        return row['Total Amount'] * 28.35\n",
        "    if row['Unit'] == 'GA':\n",
        "        return row['Total Amount'] * 3785.4 #assuming density of water, most drinks are MORE dense so number is underestimate\n",
        "    if row['Unit'] == 'QT':\n",
        "        return row['Total Amount'] * 3785.4 / 4\n",
        "    if row['Unit'] == 'PT':\n",
        "        return row['Total Amount'] * 3785.4 / 8\n",
        "    if (row['Unit'] == 'LT') | (row['Unit'] == 'KG'):\n",
        "        return row['Total Amount'] * 1000 #also assuming density of water, most drinks MORE dense\n",
        "    if row['Unit'] == 'BU':\n",
        "        return row['Total Amount'] * 32.5 * 453.6 #average of 40lbs per bu apples, squash, etc. and 25lbs per bu peppers, etc.\n",
        "    if (row['Unit'] == 'ML') | (row['Unit'] == 'G'):\n",
        "        return row['Total Amount'] * 453.6\n",
        "    return 0\n",
        "DDReduced['Total Amount(g)'] = DDReduced.apply(convert_units, axis = 1)\n",
        "DDReduced['Total Amount(kg)'] = DDReduced['Total Amount(g)'] / 1000\n",
        "\n",
        "#modify `Product Group` column\n",
        "DDReduced = DDReduced[DDReduced['Product Group'].notna()]\n",
        "DDReduced['Product Group'] = DDReduced['Product Group'].str.upper() #make uppercase to simplify code\n",
        "\n",
        "print(\"Excluded rows: \", DiningDataFull.shape[0] - DDReduced.shape[0])\n",
        "#print(DDReduced.head())"
      ],
      "metadata": {
        "colab": {
          "base_uri": "https://localhost:8080/"
        },
        "id": "YnLSVqA0I4K4",
        "outputId": "2d86f31c-ef99-43e8-8a43-7ac4e8ff2b43"
      },
      "execution_count": 135,
      "outputs": [
        {
          "output_type": "stream",
          "name": "stdout",
          "text": [
            "Excluded rows:  17177\n"
          ]
        },
        {
          "output_type": "stream",
          "name": "stderr",
          "text": [
            "<ipython-input-135-1aeab029a4c0>:63: SettingWithCopyWarning: \n",
            "A value is trying to be set on a copy of a slice from a DataFrame.\n",
            "Try using .loc[row_indexer,col_indexer] = value instead\n",
            "\n",
            "See the caveats in the documentation: https://pandas.pydata.org/pandas-docs/stable/user_guide/indexing.html#returning-a-view-versus-a-copy\n",
            "  DDReduced['Product Group'] = DDReduced['Product Group'].str.upper() #make uppercase to simplify code\n"
          ]
        }
      ]
    },
    {
      "cell_type": "markdown",
      "source": [
        "---\n",
        "#More item name cleaning\n",
        "\n",
        "---"
      ],
      "metadata": {
        "id": "d0ZmAoOTeQSq"
      }
    },
    {
      "cell_type": "code",
      "source": [
        "#label others meats that are not already labeled\n",
        "meat_not_labeled = (DDReduced['Product Group'].str.contains('MEAT', regex = True) | \\\n",
        "                    DDReduced['Product Group'].str.contains('MEATS', regex = True)) & \\\n",
        "                    ~(DDReduced['Product Group'].str.contains('SUBSTITUTE', regex = True)) \n",
        "                    #mask meats not labeled, but not substitutes\n",
        "vendor_item_na = (DDReduced['Vendor Item'].isna())\n",
        "\n",
        "print(vendor_item_na[[56674]])\n",
        "print(meat_not_labeled[[56674]])\n",
        "\n",
        "#if meat not labeled, but `Vendor Item` is NaN, read first word of `Vendor Item Description`\n",
        "DDReduced.loc[meat_not_labeled & vendor_item_na, 'Vendor Item'] = \\\n",
        "    (DDReduced.loc[meat_not_labeled & vendor_item_na, 'Vendor Item Description'].str.split(' ').str[0])\n",
        "\n",
        "is_meat_sub = (DDReduced['Vendor Item'].str.contains('SUB'))\n",
        "DDReduced.loc[is_meat_sub & meat_not_labeled, 'Product Group'] = 'MEAT SUBSTITUTE'\n",
        "\n",
        "sausage_like = (DDReduced['Vendor Item'].str.contains('SAUSAGE')) | \\\n",
        "               (DDReduced['Vendor Item'] == 'PEPPERONI') | \\\n",
        "               (DDReduced['Vendor Item'] == 'CORN DOG') | \\\n",
        "               (DDReduced['Vendor Item'] == 'HOT DOG') | \\\n",
        "               (DDReduced['Vendor Item'] == 'SALAMI')\n",
        "DDReduced.loc[sausage_like, 'Product Group'] = 'SAUSAGE'\n",
        "\n",
        "is_meatball = (DDReduced['Vendor Item'] == 'MEATBALL')\n",
        "DDReduced.loc[is_meatball, 'Product Group'] = 'MEATBALL'\n",
        "\n",
        "is_poultry = (DDReduced['Vendor Item'] == 'CHICKEN') | \\\n",
        "             (DDReduced['Vendor Item'] == 'TURKEY') | \\\n",
        "             (DDReduced['Vendor Item'] == 'DUCK') | \\\n",
        "             (DDReduced['Vendor Item'].str.contains('HEN'))\n",
        "DDReduced.loc[is_poultry & meat_not_labeled, 'Product Group'] = 'POULTRY'\n",
        "\n",
        "is_beef = (DDReduced['Vendor Item'] == 'BEEF') | \\\n",
        "          (DDReduced['Vendor Item'] == 'POT ROAST')\n",
        "DDReduced.loc[is_beef & meat_not_labeled, 'Product Group'] = 'BEEF'\n",
        "\n",
        "is_gyro_meat = (DDReduced['Vendor Item'] == 'GYRO MEAT') | (DDReduced['Vendor Item'] == 'LAMB')\n",
        "DDReduced.loc[is_gyro_meat & meat_not_labeled, 'Product Group'] = 'LAMB' \n",
        "#most common ingredient in gyro meat, technically has beef but the numbers are very similar\n",
        "\n",
        "is_pork = (DDReduced['Vendor Item'] == 'PORK') | \\\n",
        "          (DDReduced['Vendor Item'] == 'HAM') | \\\n",
        "          (DDReduced['Vendor Item'] == 'BACON')\n",
        "DDReduced.loc[is_pork & meat_not_labeled, 'Product Group'] = 'PORK'\n",
        "\n",
        "is_seafood = (DDReduced['Vendor Item'].str.contains('CRAB')) | \\\n",
        "          (DDReduced['Vendor Item'] == 'COD') | \\\n",
        "          (DDReduced['Vendor Item'] == 'SALMON') | \\\n",
        "          (DDReduced['Vendor Item'] == 'MAHI MAHI') | \\\n",
        "          (DDReduced['Vendor Item'] == 'SHRIMP') | \\\n",
        "          (DDReduced['Vendor Item'] == 'TUNA') | \\\n",
        "          (DDReduced['Vendor Item'] == 'CATFISH') | \\\n",
        "          (DDReduced['Vendor Item'] == 'MUSSEL') | \\\n",
        "          (DDReduced['Vendor Item'] == 'FLOUNDER')\n",
        "DDReduced.loc[is_seafood & meat_not_labeled, 'Product Group'] = 'SEAFOOD'\n",
        "\n",
        "#label sodas\n",
        "is_soda = DDReduced['Brand'] == 'Durham Coca Cola'\n",
        "DDReduced.loc[is_soda, 'Product Group'] = 'SODA'\n",
        "\n",
        "print((DDReduced.iloc[46122]))"
      ],
      "metadata": {
        "colab": {
          "base_uri": "https://localhost:8080/"
        },
        "id": "QCCi_esIeP8z",
        "outputId": "d71d3d84-d2a8-4df6-d433-5b863af70a31"
      },
      "execution_count": 225,
      "outputs": [
        {
          "output_type": "stream",
          "name": "stdout",
          "text": [
            "56674    True\n",
            "Name: Vendor Item, dtype: bool\n",
            "56674    True\n",
            "Name: Product Group, dtype: bool\n",
            "Unit Name                                              Freeman\n",
            "Vendor                                       Kosher Mart Foods\n",
            "Purchase Date                                       2022-04-11\n",
            "Vendor Item ID                                         KP70212\n",
            "Vendor Item Description      BEEF BRISKET OU GERSHONI PASSOVER\n",
            "Vendor Item Purchase Unit                             5/12 LBA\n",
            "Product Group                                             BEEF\n",
            "Brand                                                      NaN\n",
            "Receive Quantity                                        115.63\n",
            "Priority 1                                                 NaN\n",
            "Priority 2                                                 NaN\n",
            "Priority 3                                                 NaN\n",
            "Unit                                                        LB\n",
            "Vendor Item                                               BEEF\n",
            "Total Amount                                            6937.8\n",
            "Total Amount(g)                                     3146986.08\n",
            "Total Amount(kg)                                    3146.98608\n",
            "CO2e(kg)                                                   0.0\n",
            "Name: 56674, dtype: object\n"
          ]
        }
      ]
    },
    {
      "cell_type": "markdown",
      "source": [
        "---\n",
        "#Explore Data\n",
        "\n",
        "---"
      ],
      "metadata": {
        "id": "lmX7APDAdmPE"
      }
    },
    {
      "cell_type": "code",
      "source": [
        "#print(DDReduced[(DDReduced['Product Group'] == 'Beverages') & (DDReduced['Vendor Item'].isna())][0:20])\n",
        "print(DDReduced[DDReduced['Product Group'] == '651400 MEATS'][0:20])"
      ],
      "metadata": {
        "colab": {
          "base_uri": "https://localhost:8080/"
        },
        "id": "7E1M-cuqdlyO",
        "outputId": "fbc15108-a9ee-4ee3-8a1f-3bed345ff6a5"
      },
      "execution_count": 226,
      "outputs": [
        {
          "output_type": "stream",
          "name": "stdout",
          "text": [
            "         Unit Name             Vendor Purchase Date Vendor Item ID  \\\n",
            "56036         DuML           US Foods    2022-04-05        1385719   \n",
            "56676      Freeman  Kosher Mart Foods    2022-04-11          KP380   \n",
            "56678      Freeman  Kosher Mart Foods    2022-04-11           4414   \n",
            "56679      Freeman  Kosher Mart Foods    2022-04-11         KP4524   \n",
            "56680      Freeman  Kosher Mart Foods    2022-04-11         KP1423   \n",
            "58926  Marketplace           US Foods    2022-06-08         300095   \n",
            "59447         DuML           US Foods    2022-06-14        6673586   \n",
            "59452         DuML           US Foods    2022-06-14        6305166   \n",
            "60007  Marketplace           US Foods    2022-06-22         300095   \n",
            "60171  Marketplace           US Foods    2022-06-24        1294583   \n",
            "61011  Marketplace           US Foods    2022-07-06         300095   \n",
            "61870  Marketplace           US Foods    2022-07-20         300095   \n",
            "62681      Freeman  Kosher Mart Foods    2022-08-12           3723   \n",
            "62683      Freeman  Kosher Mart Foods    2022-08-12           4439   \n",
            "62684      Freeman  Kosher Mart Foods    2022-08-12          80216   \n",
            "62685      Freeman  Kosher Mart Foods    2022-08-12          91000   \n",
            "62688      Freeman  Kosher Mart Foods    2022-08-12           4414   \n",
            "63299  Marketplace           US Foods    2022-08-19        6673586   \n",
            "63778  Marketplace           US Foods    2022-08-23        6673586   \n",
            "64345  Marketplace           US Foods    2022-08-26        6673586   \n",
            "\n",
            "                                 Vendor Item Description  \\\n",
            "56036  SATAY, CHICKEN .85 OZ PHO-FREE RAW FROZEN TRAY...   \n",
            "56676            PASTRAMI FIRST CUT A & H PASSOVER 5 LBA   \n",
            "56678                    CORNED BEEF FIRST CUT A&H 5 LBA   \n",
            "56679           FISH SALMON PORTIONS 4-5 OZ DAGIM PASSOV   \n",
            "56680            PASS Fish Tuna Chunk White in Can 66 oz   \n",
            "58926  zz SHRIMP, RAW 21-25 WHITE PEELED-&-DEVEINED T...   \n",
            "59447  POTSTICKER, CHICKEN .67 OZ FROZEN GOURMET APPE...   \n",
            "59452     SURIMI, IMITATION CRABMEAT FLAKE COOKED FROZEN   \n",
            "60007  zz SHRIMP, RAW 21-25 WHITE PEELED-&-DEVEINED T...   \n",
            "60171  POLLOCK, BATTERED BEER WHITE ALE 4.3 OZ FILLET...   \n",
            "61011  zz SHRIMP, RAW 21-25 WHITE PEELED-&-DEVEINED T...   \n",
            "61870  zz SHRIMP, RAW 21-25 WHITE PEELED-&-DEVEINED T...   \n",
            "62681                BURGER BLACK BEAN DR PRAEGER 3.3 OZ   \n",
            "62683                    PASTRAMI FIRST CUT STAR K 5 LBA   \n",
            "62684       zz BEEF CHUCK BONE IN BLACK HILL FARM 30 LBA   \n",
            "62685                              HOT DOG GERSHONI 2 OZ   \n",
            "62688                    CORNED BEEF FIRST CUT A&H 5 LBA   \n",
            "63299  POTSTICKER, CHICKEN .67 OZ FROZEN GOURMET APPE...   \n",
            "63778  POTSTICKER, CHICKEN .67 OZ FROZEN GOURMET APPE...   \n",
            "64345  POTSTICKER, CHICKEN .67 OZ FROZEN GOURMET APPE...   \n",
            "\n",
            "      Vendor Item Purchase Unit Product Group       Brand  Receive Quantity  \\\n",
            "56036            4/25/.85 OZ CS  651400 MEATS  MOLLYS KIT              1.00   \n",
            "56676                   5/5 LBA  651400 MEATS         NaN             44.28   \n",
            "56678                    25 LBA  651400 MEATS         NaN             38.68   \n",
            "56679                     10 LB  651400 MEATS         NaN             10.00   \n",
            "56680                   6/66 oz  651400 MEATS       Dagim              1.00   \n",
            "58926                 5/2 LB CS  651400 MEATS      PACKER              2.00   \n",
            "59447           10/12/.67 OZ CS  651400 MEATS  ROYAL DRGN              1.00   \n",
            "59452              12/2.5 LB CS  651400 MEATS     TRIDENT              1.00   \n",
            "60007                 5/2 LB CS  651400 MEATS      PACKER              2.00   \n",
            "60171                 2/5 LB CS  651400 MEATS  HARBOR BNK              5.00   \n",
            "61011                 5/2 LB CS  651400 MEATS      PACKER              3.00   \n",
            "61870                 5/2 LB CS  651400 MEATS      PACKER              2.00   \n",
            "62681                 48/3.3 OZ  651400 MEATS         NaN              1.00   \n",
            "62683                   5/5 LBA  651400 MEATS         NaN             28.44   \n",
            "62684                  2/30 LBA  651400 MEATS         NaN             48.50   \n",
            "62685               80/2 OZ LBA  651400 MEATS         NaN             40.00   \n",
            "62688                    25 LBA  651400 MEATS         NaN             25.12   \n",
            "63299           10/12/.67 OZ CS  651400 MEATS  ROYAL DRGN              4.00   \n",
            "63778           10/12/.67 OZ CS  651400 MEATS  ROYAL DRGN              2.00   \n",
            "64345           10/12/.67 OZ CS  651400 MEATS  ROYAL DRGN              4.00   \n",
            "\n",
            "      Priority 1 Priority 2 Priority 3 Unit Vendor Item  Total Amount  \\\n",
            "56036        NaN        NaN        NaN   OZ       SATAY         100.0   \n",
            "56676        NaN        NaN        NaN   LB    PASTRAMI        1107.0   \n",
            "56678        NaN        NaN        NaN   LB      CORNED         967.0   \n",
            "56679        NaN        NaN        NaN   LB        FISH         100.0   \n",
            "56680        NaN        NaN        NaN   OZ        PASS         396.0   \n",
            "58926        NaN        NaN        NaN   LB   ZZ SHRIMP          20.0   \n",
            "59447        NaN        NaN        NaN   OZ  POTSTICKER         120.0   \n",
            "59452        NaN        NaN        NaN   LB      SURIMI          30.0   \n",
            "60007        NaN        NaN        NaN   LB   ZZ SHRIMP          20.0   \n",
            "60171        NaN        NaN        NaN   LB     POLLOCK          50.0   \n",
            "61011        NaN        NaN        NaN   LB   ZZ SHRIMP          30.0   \n",
            "61870        NaN        NaN        NaN   LB   ZZ SHRIMP          20.0   \n",
            "62681        NaN        NaN        NaN   OZ      BURGER         158.4   \n",
            "62683        NaN        NaN        NaN   LB    PASTRAMI         711.0   \n",
            "62684        NaN        NaN        NaN   LB          zz        2910.0   \n",
            "62685        NaN        NaN        NaN   LB         HOT        6400.0   \n",
            "62688        NaN        NaN        NaN   LB      CORNED         628.0   \n",
            "63299        NaN        NaN        NaN   OZ  POTSTICKER         480.0   \n",
            "63778        NaN        NaN        NaN   OZ  POTSTICKER         240.0   \n",
            "64345        NaN        NaN        NaN   OZ  POTSTICKER         480.0   \n",
            "\n",
            "       Total Amount(g)  Total Amount(kg)  CO2e(kg)  \n",
            "56036          2835.00           2.83500       0.0  \n",
            "56676        502135.20         502.13520       0.0  \n",
            "56678        438631.20         438.63120       0.0  \n",
            "56679         45360.00          45.36000       0.0  \n",
            "56680         11226.60          11.22660       0.0  \n",
            "58926          9072.00           9.07200       0.0  \n",
            "59447          3402.00           3.40200       0.0  \n",
            "59452         13608.00          13.60800       0.0  \n",
            "60007          9072.00           9.07200       0.0  \n",
            "60171         22680.00          22.68000       0.0  \n",
            "61011         13608.00          13.60800       0.0  \n",
            "61870          9072.00           9.07200       0.0  \n",
            "62681          4490.64           4.49064       0.0  \n",
            "62683        322509.60         322.50960       0.0  \n",
            "62684       1319976.00        1319.97600       0.0  \n",
            "62685       2903040.00        2903.04000       0.0  \n",
            "62688        284860.80         284.86080       0.0  \n",
            "63299         13608.00          13.60800       0.0  \n",
            "63778          6804.00           6.80400       0.0  \n",
            "64345         13608.00          13.60800       0.0  \n"
          ]
        }
      ]
    },
    {
      "cell_type": "markdown",
      "source": [
        "---\n",
        "####Load the csv with CO2 numbers and find numbers for carbon emissions\n",
        "\n",
        "---"
      ],
      "metadata": {
        "id": "d_F8fSgfo3RI"
      }
    },
    {
      "cell_type": "code",
      "source": [
        "CO2 = pd.read_csv('CO2 values for FACCWTHA v1.1 - Foods.csv')\n",
        "\n",
        "#replace values below if need to update values\n",
        "#CURRENT VALUES: from CO2 spreadsheet above (Poore and Nemecek 2018) (6/5/23)\n",
        "beef_emission_ratio = 40 #UK beef, need to find a value for US beef that is not dairy beef\n",
        "pork_emission_ratio = 10 #pork (PN18)\n",
        "poultry_emission_ratio = 4.9 #chicken for North America (PN18)\n",
        "lamb_emission_ratio = 40.0 #using global avg, lower than europe avg.\n",
        "seafood_emission_ratio = CO2[CO2['FoodAisle'] == 'Fish']['CO2eRatioSLBBook'].mean() #average of three common fish\n",
        "eggs_emission_ratio = 3.7 #avg for US (PN18)\n",
        "meatsub_emission_ratio = 2.19 #(https://www.ncbi.nlm.nih.gov/pmc/articles/PMC9936781/ , Mejia et al., 2020)\n",
        "meatball_emission_ratio = .5 * beef_emission_ratio + .5 * pork_emission_ratio\n",
        "sausage_emission_ratio = 6.4 #Ph.D. thesis Frankowska 2019, which is a more recent calculation\n",
        "#add more values here as the data gets more clean\n",
        "#later, replace means/averages with weighted averages depending on how often eaten and average amount eaten each instance\n",
        "\n",
        "print(\"beef: \", beef_emission_ratio, 'kg CO2e/kg')\n",
        "print(\"pork: \", pork_emission_ratio, 'kg CO2e/kg')\n",
        "print(\"poultry: \", poultry_emission_ratio, 'kg CO2e/kg')\n",
        "print(\"lamb: \", lamb_emission_ratio, 'kg CO2e/kg')\n",
        "print(\"seafood: \", seafood_emission_ratio, 'kg CO2e/kg')\n",
        "print(\"eggs: \", eggs_emission_ratio, 'kg CO2e/kg')\n",
        "print(\"meatsub: \", meatsub_emission_ratio, 'kg CO2e/kg')\n",
        "print(\"meatball: \", meatball_emission_ratio, 'kg CO2e/kg')\n",
        "print(\"sausage: \", sausage_emission_ratio, 'kg CO2e/kg')\n",
        "\n",
        "#print(CO2.head())"
      ],
      "metadata": {
        "colab": {
          "base_uri": "https://localhost:8080/"
        },
        "id": "hRVwXabqo36T",
        "outputId": "5b47de40-39de-474c-be01-d6758e9681d6"
      },
      "execution_count": 245,
      "outputs": [
        {
          "output_type": "stream",
          "name": "stdout",
          "text": [
            "beef:  40 kg CO2e/kg\n",
            "pork:  10 kg CO2e/kg\n",
            "poultry:  4.9 kg CO2e/kg\n",
            "lamb:  40.0 kg CO2e/kg\n",
            "seafood:  5.133333333333334 kg CO2e/kg\n",
            "eggs:  3.7 kg CO2e/kg\n",
            "meatsub:  2.19 kg CO2e/kg\n",
            "meatball:  25.0 kg CO2e/kg\n",
            "sausage:  6.4 kg CO2e/kg\n"
          ]
        }
      ]
    },
    {
      "cell_type": "markdown",
      "source": [
        "---\n",
        "#CALCULATING CARBON EMISSIONS\n",
        "\n",
        "Currently includes: Meats, Meat Alternatives, and Eggs\n",
        "\n",
        "NOTE: 651400 meats, 651401 local meats, processed meat, and specialty meats are excluded as of now, for a total of 3964 rows\n",
        "\n",
        "---"
      ],
      "metadata": {
        "id": "JyTNQtI4e4i3"
      }
    },
    {
      "cell_type": "code",
      "source": [
        "#print(DDReduced['Product Group'].value_counts())\n",
        "\n",
        "def calc_emissions(row):\n",
        "    if row['Product Group'] == 'BEEF':\n",
        "        return row['Total Amount(kg)'] * beef_emission_ratio\n",
        "    if row['Product Group'] == 'PORK':\n",
        "        return row['Total Amount(kg)'] * pork_emission_ratio\n",
        "    if row['Product Group'] == 'SEAFOOD':\n",
        "        return row['Total Amount(kg)'] * seafood_emission_ratio\n",
        "    if row['Product Group'] == 'MEAT SUBSTITUTE':\n",
        "        return row['Total Amount(kg)'] * meatsub_emission_ratio\n",
        "    if row['Product Group'] == 'LAMB':\n",
        "        return row['Total Amount(kg)'] * lamb_emission_ratio\n",
        "    if (row['Product Group'] == 'CHICKEN') | (row['Product Group'] == 'POULTRY') | \\\n",
        "       (row['Product Group'] == 'TURKEY') | (row['Product Group'] == 'DUCK'):\n",
        "        return row['Total Amount(kg)'] * beef_emission_ratio\n",
        "    if row['Product Group'] == 'EGGS':\n",
        "        return row['Total Amount(kg)'] * eggs_emission_ratio\n",
        "    if row['Product Group'] == 'MEATBALL':\n",
        "        return row['Total Amount(kg)'] * meatball_emission_ratio\n",
        "    if row['Product Group'] == 'SAUSAGE':\n",
        "        return row['Total Amount(kg)'] * sausage_emission_ratio\n",
        "    return 0\n",
        "\n",
        "DDReduced['CO2e(kg)'] = DDReduced.apply(calc_emissions, axis = 1)\n",
        "\n",
        "total_food_amount_kg = DDReduced['Total Amount(kg)'].sum()\n",
        "total_food_amount_calced_kg = DDReduced[DDReduced['CO2e(kg)'] != 0]['Total Amount(kg)'].sum()\n",
        "percent_food_calced = total_food_amount_calced_kg / total_food_amount_kg * 100\n",
        "\n",
        "print('The percentage of food (by weight) with calculated carbon emissions so far is: ', percent_food_calced, \"%\")"
      ],
      "metadata": {
        "colab": {
          "base_uri": "https://localhost:8080/"
        },
        "id": "beM1jtkMe44Q",
        "outputId": "569e04e7-b834-4696-f60f-7e4f374526e0"
      },
      "execution_count": 246,
      "outputs": [
        {
          "output_type": "stream",
          "name": "stdout",
          "text": [
            "The percentage of food (by weight) with calculated carbon emissions so far is:  62.863643737759986 %\n"
          ]
        }
      ]
    },
    {
      "cell_type": "markdown",
      "source": [
        "---\n",
        "###Making one dataset for each location and each year\n",
        "\n",
        "---"
      ],
      "metadata": {
        "id": "slofxOZkptua"
      }
    },
    {
      "cell_type": "code",
      "source": [
        "location_col = DDReduced['Unit Name']\n",
        "DiningData_Marketplace = DDReduced[location_col == \"Marketplace\"]\n",
        "DiningData_DuML = DDReduced[location_col == \"DuML\"]\n",
        "DiningData_Trinity = DDReduced[location_col == \"Trinity\"]\n",
        "DiningData_Freeman = DDReduced[location_col == \"Freeman\"]\n",
        "\n",
        "date_col = DDReduced['Purchase Date']\n",
        "DiningData_2019 = DDReduced[(date_col >= pd.Timestamp(2019, 1, 1).date()) & (date_col < pd.Timestamp(2020, 1, 1).date())]\n",
        "DiningData_2020 = DDReduced[(date_col >= pd.Timestamp(2020, 1, 1).date()) & (date_col < pd.Timestamp(2021, 1, 1).date())]\n",
        "DiningData_2021 = DDReduced[(date_col >= pd.Timestamp(2021, 1, 1).date()) & (date_col < pd.Timestamp(2022, 1, 1).date())]\n",
        "DiningData_2022 = DDReduced[(date_col >= pd.Timestamp(2022, 1, 1).date()) & (date_col < pd.Timestamp(2023, 1, 1).date())]\n",
        "DiningData_2023 = DDReduced[(date_col >= pd.Timestamp(2023, 1, 1).date()) & (date_col < pd.Timestamp(2024, 1, 1).date())]"
      ],
      "metadata": {
        "id": "mJYaZdBsykLC"
      },
      "execution_count": 247,
      "outputs": []
    },
    {
      "cell_type": "markdown",
      "source": [
        "---\n",
        "#Analysis\n",
        "\n",
        "---"
      ],
      "metadata": {
        "id": "E69_jgCrxFUj"
      }
    },
    {
      "cell_type": "code",
      "source": [
        "total_food_emissions_2022 = DiningData_2022['CO2e(kg)'].sum()\n",
        "total_duke_emissions_2022 = 194346000 #in kg, from 2022 GHG emissions\n",
        "\n",
        "total_food_amount_kg_2022 = DiningData_2022['Total Amount(kg)'].sum()\n",
        "total_food_amount_calced_kg_2022 = DiningData_2022[DiningData_2022['CO2e(kg)'] != 0]['Total Amount(kg)'].sum()\n",
        "percent_food_calced_2022 = total_food_amount_calced_kg_2022 / total_food_amount_kg_2022 * 100\n",
        "\n",
        "print('The percentage of food (by weight) with calculated carbon emissions so far in 2022 is: ', percent_food_calced_2022, \"%\")\n",
        "print('')\n",
        "print(\"Of what has been calculated, food is \", total_food_emissions_2022 / total_duke_emissions_2022 * 100, \"% of Duke's total GHG emissions in 2022\")\n",
        "print(\"The value in Metric Tons is: \", total_food_emissions_2022 / 1000)\n",
        "print(\"If food is not included in Duke's calculations, then the reported amount is: \", total_duke_emissions_2022 / (total_duke_emissions_2022 + total_food_emissions_2022) * 100, \"% of the real total emissions\")"
      ],
      "metadata": {
        "colab": {
          "base_uri": "https://localhost:8080/"
        },
        "id": "m5s8NMgNxExG",
        "outputId": "7b4178a0-c9a1-4468-c1a8-35df4b7253e9"
      },
      "execution_count": 248,
      "outputs": [
        {
          "output_type": "stream",
          "name": "stdout",
          "text": [
            "The percentage of food (by weight) with calculated carbon emissions so far in 2022 is:  65.3014667109811 %\n",
            "\n",
            "Of what has been calculated, food is  29.84891549382328 % of Duke's total GHG emissions in 2022\n",
            "The value in Metric Tons is:  58010.173305625794\n",
            "If food is not included in Duke's calculations, then the reported amount is:  77.01258005867354 % of the real total emissions\n"
          ]
        }
      ]
    }
  ]
}
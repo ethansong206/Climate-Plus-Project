{
  "nbformat": 4,
  "nbformat_minor": 0,
  "metadata": {
    "colab": {
      "provenance": [],
      "authorship_tag": "ABX9TyOPi97gkGUkPoeDSebDaqRJ",
      "include_colab_link": true
    },
    "kernelspec": {
      "name": "python3",
      "display_name": "Python 3"
    },
    "language_info": {
      "name": "python"
    }
  },
  "cells": [
    {
      "cell_type": "markdown",
      "metadata": {
        "id": "view-in-github",
        "colab_type": "text"
      },
      "source": [
        "<a href=\"https://colab.research.google.com/github/ethansong206/Climate-Plus-Project/blob/main/DataCleaning.ipynb\" target=\"_parent\"><img src=\"https://colab.research.google.com/assets/colab-badge.svg\" alt=\"Open In Colab\"/></a>"
      ]
    },
    {
      "cell_type": "markdown",
      "source": [
        "Import necessary packages for the code"
      ],
      "metadata": {
        "id": "RGa1ITd5pwR7"
      }
    },
    {
      "cell_type": "code",
      "execution_count": 15,
      "metadata": {
        "id": "e6u2wlQbblpm"
      },
      "outputs": [],
      "source": [
        "import pandas as pd\n",
        "import numpy as np\n",
        "from datetime import datetime\n",
        "import re"
      ]
    },
    {
      "cell_type": "markdown",
      "source": [
        "Load the Duke Dining csv file and make the data easier to handle. This includes but is not limited to:\n",
        "\n",
        "1) Renaming locations\n",
        "\n",
        "2) Changing the date from a string to a date object\n",
        "\n"
      ],
      "metadata": {
        "id": "59ncjUuWp_Nj"
      }
    },
    {
      "cell_type": "code",
      "source": [
        "DiningDataFull = pd.read_csv('Climate+ Data 2019 thru 2023.csv', \n",
        "                             dtype = {'Priority 1': str, 'Priority 2': str,\n",
        "                                      'Priority 3': str})\n",
        "#print(DiningDataFull['Unit Name'].value_counts()) # Show how many entries there are of each location\n",
        "\n",
        "#below code to make 'Unit Name' column easier to handle\n",
        "#can add more lines given more locations\n",
        "def location_rename(location):\n",
        "    if(\"Marketplace\" in location): #Combine data for Marketplace Kitchen and Marketplace Special Event\n",
        "        return \"Marketplace\"\n",
        "    if(\"Marine Lab\" in location):\n",
        "        return \"DuML\"\n",
        "    if(\"Trinity\" in location):\n",
        "        return \"Trinity\"\n",
        "    if(\"Freeman\" in location):\n",
        "        return \"Freeman\"\n",
        "    return None\n",
        "\n",
        "DiningDataFull['Unit Name'] = DiningDataFull.apply(lambda d: location_rename(d['Unit Name']), axis = 1)\n",
        "\n",
        "DiningDataFull['Purchase Date'] = DiningDataFull.apply(lambda d: datetime.strptime(d['Purchase Date'], '%m/%d/%Y').date(), axis = 1)\n",
        "\n",
        "print(\"Rows in DiningDataFull: \", DiningDataFull.shape[0])"
      ],
      "metadata": {
        "colab": {
          "base_uri": "https://localhost:8080/"
        },
        "id": "X6FApqgppspd",
        "outputId": "31ea5c58-514b-4e0f-c857-ca3440e76b2f"
      },
      "execution_count": 3,
      "outputs": [
        {
          "output_type": "stream",
          "name": "stdout",
          "text": [
            "Rows in DiningDataFull:  90534\n"
          ]
        }
      ]
    },
    {
      "cell_type": "markdown",
      "source": [
        "#**\\*\\*\\*WIP\\*\\*\\***\n",
        "\n",
        "Extract the unit names for each item into a new column called `Unit`, then rename each unit into a more simple label (i.e. LB CS to LB). Convert cans and bottle cases into the equivalent value in OZ. Make a new column called `Total Food Amount` for the total amount of food in the current unit of measurement, before converting to grams. Make a new column called `Unit(g)` for converting all units to the equivalent value in grams, then filter out main descriptor word(s) in `Vendor Item Description` into a new column called `Food Name`.\n",
        "\n",
        "---\n",
        "Note on Exclusion: Some units are left out in this first calculation of emissions as they are either not directly food (i.e. gloves) or are too difficult to go through individually and find a measurement that is not ambiguous. The total number of entries left out is 12171. **The number of non-food items in this amount can be calculated later.**\n",
        "\n",
        "---\n",
        "Note on Conversions: The column `Vendor Item Purchase Unit` is in the format x/y n which should be read as x bags of y units of n food.\n",
        "\n",
        "---\n",
        "\n",
        "Take the column with units in grams and multiply by the `Receive Quantity` if provided into a new column called `Total Grams`. If there is no value in `Receive Quantity`, then assume it is the value 1.\n"
      ],
      "metadata": {
        "id": "PQbuaCZyGnUQ"
      }
    },
    {
      "cell_type": "code",
      "source": [
        "#this code extracts just the unit information\n",
        "DiningDataFull['Unit'] = DiningDataFull['Vendor Item Purchase Unit'].str.extract(r\" ?([A-Za-zÀ-ÿ ]*)$\").astype(str)\n",
        "#below code to simplify redundant labels (i.e. LB CS to LB)\n",
        "def unit_rename(unit):\n",
        "    if('LB' in unit) | ('lb' in unit) | ('Lb' in unit) | ('Pound' in unit):\n",
        "        return 'LB'\n",
        "    if('OZ' in unit) | ('oz' in unit) | ('Oz' in unit) | ('Z' in unit):\n",
        "        return 'OZ'\n",
        "    if('GA' in unit) | ('Gal' in unit):\n",
        "        return 'GA'\n",
        "    if('QT' in unit):\n",
        "        return 'QT'\n",
        "    if('PT' in unit) | ('Pint' in unit) | ('PINT' in unit):\n",
        "        return 'PT'\n",
        "    if('LT' in unit):\n",
        "        return 'LT' \n",
        "    if('BU' in unit) | ('Bushel' in unit): #bushels\n",
        "        return 'BU'\n",
        "    if('KG' in unit):\n",
        "        return 'KG' \n",
        "    if('GR' in unit): #grams\n",
        "        return 'GR' \n",
        "    if('ML' in unit) | ('ml' in unit) | ('Ml' in unit): #milliliters\n",
        "        return 'ML'\n",
        "    if('CN' in unit) | ('Can' in unit):\n",
        "        return 'CN'\n",
        "    if('Bottle Case' in unit):\n",
        "        return 'Bottle Case'\n",
        "    return None\n",
        "#Notes: Bottle Case is 64 oz each, find # of can and translate to oz, anything with EA is not included for now (~9000)\n",
        "DiningDataFull['Unit'] = DiningDataFull.apply(lambda d: unit_rename(d['Unit']), axis = 1)\n",
        "\n",
        "#make a new dataset for just entries with known units\n",
        "DiningDataReduced = DiningDataFull[DiningDataFull['Unit'].notna()]\n",
        "#print(DiningDataReduced.head())\n",
        "print(\"Excluded rows: \", DiningDataFull.shape[0] - DiningDataReduced.shape[0])\n",
        "\n",
        "#CONVERT UNITS\n",
        "#first convert cans to OZ\n",
        "#using estimates for weight of cans through https://food.unl.edu/article/how-interpret-can-size-numbers\n",
        "DiningDataReduced = DiningDataReduced.replace({'#10 CN' : '110.5 OZ'}, regex = True)\n",
        "DiningDataReduced = DiningDataReduced.replace({'#300 CN' : '15 OZ'}, regex = True)\n",
        "DiningDataReduced = DiningDataReduced.replace({'CN' : 'OZ'})\n",
        "#next convert bottle case to OZ\n",
        "DiningDataReduced = DiningDataReduced.replace({' Bottle Case' : '/64 OZ'}, regex = True)\n",
        "DiningDataReduced = DiningDataReduced.replace({'Bottle Case' : 'OZ'})\n",
        "\n",
        "#find total amount of food before converting to grams\n",
        "#DO THIS NEXT\n",
        "DiningDataReduced['Total Food Amount'] = DiningDataReduced['Vendor Item Purchase Unit'] \\\n",
        "                                              .str.extract(r'^[a-zA-Z]* ?([0-9]*/?[0-9.]*-?[0-9.]*)')\n",
        "\n",
        "print(DiningDataReduced[{'Vendor Item Purchase Unit', 'Total Food Amount'}][0:50])\n",
        "print(DiningDataReduced.head())"
      ],
      "metadata": {
        "colab": {
          "base_uri": "https://localhost:8080/"
        },
        "id": "YnLSVqA0I4K4",
        "outputId": "ad7f6f78-2114-4457-86e3-a72fffda0a12"
      },
      "execution_count": 29,
      "outputs": [
        {
          "output_type": "stream",
          "name": "stdout",
          "text": [
            "Excluded rows:  11638\n",
            "   Total Food Amount Vendor Item Purchase Unit\n",
            "0                6/5                    6/5 LB\n",
            "1                6/5                    6/5 LB\n",
            "2              6/4.5                  6/4.5 LB\n",
            "3               2/10                   2/10 LB\n",
            "4                6/5                    6/5 LB\n",
            "5               2/10                   2/10 LB\n",
            "6                6/5                    6/5 LB\n",
            "7                6/5                    6/5 LB\n",
            "8                2/5                    2/5 LB\n",
            "9               2/10                   2/10 LB\n",
            "10               6/4                    6/4 LB\n",
            "11               3/5                    3/5 LB\n",
            "12             4/2.5                  4/2.5 LB\n",
            "13              4/18                 4/18/3 OZ\n",
            "14              2/10                   2/10 LB\n",
            "15               6/5                    6/5 LB\n",
            "16              2/32              2/32/2.75 OZ\n",
            "17               2/5                    2/5 LB\n",
            "18               6/5                    6/5 LB\n",
            "19               4/4                    4/4 LB\n",
            "20             6/2.5                  6/2.5 LB\n",
            "21               6/5                    6/5 LB\n",
            "22              40/4                   40/4 OZ\n",
            "23              8/10                  8/10 LBA\n",
            "24               2/5                    2/5 LB\n",
            "25              2/11                  2/11 LBA\n",
            "26              6/10                  6/10 LBA\n",
            "27              32/5                   32/5 OZ\n",
            "28           4/15-17               4/15-17 LBA\n",
            "29              5/10                  5/10 LBA\n",
            "30           3/19-25               3/19-25 LBA\n",
            "31              3/21                  3/21 LBA\n",
            "32                13                    13 LBA\n",
            "33             2/5-7                 2/5-7 LBA\n",
            "34                70                    70 LBA\n",
            "35                10                     10 LB\n",
            "36             3/3.5                  3/3.5 LT\n",
            "37             3/3.5                  3/3.5 LT\n",
            "38           144/1.2                144/1.2 OZ\n",
            "39             3/3.5                  3/3.5 LT\n",
            "40             3/3.5                  3/3.5 LT\n",
            "42             16/32                  16/32 OZ\n",
            "43             3/3.5                  3/3.5 LT\n",
            "45               6/2                    6/2 LB\n",
            "46            8/15.2                 8/15.2 OZ\n",
            "47            8/15.2                 8/15.2 OZ\n",
            "48            8/15.2                 8/15.2 OZ\n",
            "49            8/15.2                 8/15.2 OZ\n",
            "50            8/15.2                 8/15.2 OZ\n",
            "51             12/46                  12/46 OZ\n",
            "     Unit Name    Vendor Purchase Date Vendor Item ID  \\\n",
            "0  Marketplace  US Foods    2019-07-01        5018999   \n",
            "1  Marketplace  US Foods    2019-07-01        5400692   \n",
            "2  Marketplace  US Foods    2019-07-01        8012643   \n",
            "3  Marketplace  US Foods    2019-07-01         731349   \n",
            "4  Marketplace  US Foods    2019-07-01          68106   \n",
            "\n",
            "                             Vendor Item Description  \\\n",
            "0  POTATO, FRENCH-FRY 3/4 X3/8 STEAK CUT SKIN-ON ...   \n",
            "1  POTATO, FRENCH-FRY SPIRAL COATED SEASONED TFF ...   \n",
            "2  POTATO, FRENCH-FRY 1/2 CRINKLE-CUT TFF EXTRA-L...   \n",
            "3                POTATO, HASH BROWN SHRED COOKED REF   \n",
            "4    POTATO, TATER NUGGET PARFRIED FROZEN HASH BROWN   \n",
            "\n",
            "  Vendor Item Purchase Unit                              Product Group  \\\n",
            "0                    6/5 LB  APPETIZERS, ENTREES, & POTATOES REF & FZN   \n",
            "1                    6/5 LB  APPETIZERS, ENTREES, & POTATOES REF & FZN   \n",
            "2                  6/4.5 LB  APPETIZERS, ENTREES, & POTATOES REF & FZN   \n",
            "3                   2/10 LB  APPETIZERS, ENTREES, & POTATOES REF & FZN   \n",
            "4                    6/5 LB  APPETIZERS, ENTREES, & POTATOES REF & FZN   \n",
            "\n",
            "                Brand  Receive Quantity Priority 1 Priority 2 Priority 3 Unit  \\\n",
            "0  LW PRIVATE RESERVE              44.0        NaN        NaN        NaN   LB   \n",
            "1      LAMBS SEASONED              15.0        NaN        NaN        NaN   LB   \n",
            "2       LAMBS SUPREME              15.0        NaN        NaN        NaN   LB   \n",
            "3  CROSS VALLEY FARMS              20.0        NaN        NaN        NaN   LB   \n",
            "4             MONARCH              10.0        NaN        NaN        NaN   LB   \n",
            "\n",
            "  Total Food Amount  \n",
            "0               6/5  \n",
            "1               6/5  \n",
            "2             6/4.5  \n",
            "3              2/10  \n",
            "4               6/5  \n"
          ]
        },
        {
          "output_type": "stream",
          "name": "stderr",
          "text": [
            "<ipython-input-29-02b0eb250f4b>:53: FutureWarning: Passing a set as an indexer is deprecated and will raise in a future version. Use a list instead.\n",
            "  print(DiningDataReduced[{'Vendor Item Purchase Unit', 'Total Food Amount'}][0:50])\n"
          ]
        }
      ]
    },
    {
      "cell_type": "markdown",
      "source": [
        "Making one dataset for each location and each year"
      ],
      "metadata": {
        "id": "slofxOZkptua"
      }
    },
    {
      "cell_type": "code",
      "source": [
        "location_col = DiningDataReduced['Unit Name']\n",
        "DiningData_Marketplace = DiningDataReduced[location_col == \"Marketplace\"]\n",
        "DiningData_DuML = DiningDataReduced[location_col == \"DuML\"]\n",
        "DiningData_Trinity = DiningDataReduced[location_col == \"Trinity\"]\n",
        "DiningData_Freeman = DiningDataReduced[location_col == \"Freeman\"]\n",
        "\n",
        "date_col = DiningDataReduced['Purchase Date']\n",
        "DiningData_2019 = DiningDataReduced[(date_col >= pd.Timestamp(2019, 1, 1)) & (date_col < pd.Timestamp(2020, 1, 1))]\n",
        "DiningData_2020 = DiningDataReduced[(date_col >= pd.Timestamp(2020, 1, 1)) & (date_col < pd.Timestamp(2021, 1, 1))]\n",
        "DiningData_2021 = DiningDataReduced[(date_col >= pd.Timestamp(2021, 1, 1)) & (date_col < pd.Timestamp(2022, 1, 1))]\n",
        "DiningData_2022 = DiningDataReduced[(date_col >= pd.Timestamp(2022, 1, 1)) & (date_col < pd.Timestamp(2023, 1, 1))]\n",
        "DiningData_2023 = DiningDataReduced[(date_col >= pd.Timestamp(2023, 1, 1)) & (date_col < pd.Timestamp(2024, 1, 1))]"
      ],
      "metadata": {
        "colab": {
          "base_uri": "https://localhost:8080/"
        },
        "id": "mJYaZdBsykLC",
        "outputId": "43213a05-32bc-428b-a85b-d2186c134a28"
      },
      "execution_count": 4,
      "outputs": [
        {
          "output_type": "stream",
          "name": "stderr",
          "text": [
            "<ipython-input-4-51466aaa99e5>:8: FutureWarning: Comparison of Timestamp with datetime.date is deprecated in order to match the standard library behavior. In a future version these will be considered non-comparable. Use 'ts == pd.Timestamp(date)' or 'ts.date() == date' instead.\n",
            "  DiningData_2019 = DiningDataReduced[(date_col >= pd.Timestamp(2019, 1, 1)) & (date_col < pd.Timestamp(2020, 1, 1))]\n",
            "<ipython-input-4-51466aaa99e5>:9: FutureWarning: Comparison of Timestamp with datetime.date is deprecated in order to match the standard library behavior. In a future version these will be considered non-comparable. Use 'ts == pd.Timestamp(date)' or 'ts.date() == date' instead.\n",
            "  DiningData_2020 = DiningDataReduced[(date_col >= pd.Timestamp(2020, 1, 1)) & (date_col < pd.Timestamp(2021, 1, 1))]\n",
            "<ipython-input-4-51466aaa99e5>:10: FutureWarning: Comparison of Timestamp with datetime.date is deprecated in order to match the standard library behavior. In a future version these will be considered non-comparable. Use 'ts == pd.Timestamp(date)' or 'ts.date() == date' instead.\n",
            "  DiningData_2021 = DiningDataReduced[(date_col >= pd.Timestamp(2021, 1, 1)) & (date_col < pd.Timestamp(2022, 1, 1))]\n",
            "<ipython-input-4-51466aaa99e5>:11: FutureWarning: Comparison of Timestamp with datetime.date is deprecated in order to match the standard library behavior. In a future version these will be considered non-comparable. Use 'ts == pd.Timestamp(date)' or 'ts.date() == date' instead.\n",
            "  DiningData_2022 = DiningDataReduced[(date_col >= pd.Timestamp(2022, 1, 1)) & (date_col < pd.Timestamp(2023, 1, 1))]\n",
            "<ipython-input-4-51466aaa99e5>:12: FutureWarning: Comparison of Timestamp with datetime.date is deprecated in order to match the standard library behavior. In a future version these will be considered non-comparable. Use 'ts == pd.Timestamp(date)' or 'ts.date() == date' instead.\n",
            "  DiningData_2023 = DiningDataReduced[(date_col >= pd.Timestamp(2023, 1, 1)) & (date_col < pd.Timestamp(2024, 1, 1))]\n"
          ]
        }
      ]
    }
  ]
}
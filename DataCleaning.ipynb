{
  "nbformat": 4,
  "nbformat_minor": 0,
  "metadata": {
    "colab": {
      "provenance": [],
      "authorship_tag": "ABX9TyNFViPjTODyvzWI2wE1+njC",
      "include_colab_link": true
    },
    "kernelspec": {
      "name": "python3",
      "display_name": "Python 3"
    },
    "language_info": {
      "name": "python"
    }
  },
  "cells": [
    {
      "cell_type": "markdown",
      "metadata": {
        "id": "view-in-github",
        "colab_type": "text"
      },
      "source": [
        "<a href=\"https://colab.research.google.com/github/ethansong206/Climate-Plus-Project/blob/main/DataCleaning.ipynb\" target=\"_parent\"><img src=\"https://colab.research.google.com/assets/colab-badge.svg\" alt=\"Open In Colab\"/></a>"
      ]
    },
    {
      "cell_type": "markdown",
      "source": [
        "##Import necessary packages for the code\n",
        "\n",
        "---"
      ],
      "metadata": {
        "id": "RGa1ITd5pwR7"
      }
    },
    {
      "cell_type": "code",
      "execution_count": 132,
      "metadata": {
        "id": "e6u2wlQbblpm"
      },
      "outputs": [],
      "source": [
        "import pandas as pd\n",
        "import numpy as np\n",
        "from datetime import datetime\n",
        "import re"
      ]
    },
    {
      "cell_type": "markdown",
      "source": [
        "---\n",
        "Load the Duke Dining csv file and make the data easier to handle. This includes but is not limited to:\n",
        "\n",
        "1) Renaming locations\n",
        "\n",
        "2) Changing the date from a string to a date object\n",
        "\n",
        "---"
      ],
      "metadata": {
        "id": "59ncjUuWp_Nj"
      }
    },
    {
      "cell_type": "code",
      "source": [
        "DiningDataFull = pd.read_csv('Climate+ Data 2019 thru 2023.csv', \n",
        "                             dtype = {'Priority 1': str, 'Priority 2': str,\n",
        "                                      'Priority 3': str})\n",
        "#print(DiningDataFull['Unit Name'].value_counts()) # Show how many entries there are of each location\n",
        "\n",
        "#below code to make 'Unit Name' column easier to handle\n",
        "#can add more lines given more locations\n",
        "def location_rename(location):\n",
        "    if(\"Marketplace\" in location): #Combine data for Marketplace Kitchen and Marketplace Special Event\n",
        "        return \"Marketplace\"\n",
        "    if(\"Marine Lab\" in location):\n",
        "        return \"DuML\"\n",
        "    if(\"Trinity\" in location):\n",
        "        return \"Trinity\"\n",
        "    if(\"Freeman\" in location):\n",
        "        return \"Freeman\"\n",
        "    return None\n",
        "\n",
        "DiningDataFull['Unit Name'] = DiningDataFull.apply(lambda d: location_rename(d['Unit Name']), axis = 1)\n",
        "\n",
        "DiningDataFull['Purchase Date'] = DiningDataFull.apply(lambda d: datetime.strptime(d['Purchase Date'], '%m/%d/%Y').date(), axis = 1)\n",
        "\n",
        "print(\"Rows in DiningDataFull: \", DiningDataFull.shape[0])"
      ],
      "metadata": {
        "colab": {
          "base_uri": "https://localhost:8080/"
        },
        "id": "X6FApqgppspd",
        "outputId": "79ab7759-91e1-46bd-f7d4-8293565d58a3"
      },
      "execution_count": 133,
      "outputs": [
        {
          "output_type": "stream",
          "name": "stdout",
          "text": [
            "Rows in DiningDataFull:  90534\n"
          ]
        }
      ]
    },
    {
      "cell_type": "markdown",
      "source": [
        "---\n",
        "Extract the unit names for each item into a new column called `Unit`, then rename each unit into a more simple label (i.e. LB CS to LB). Convert cans and bottle cases into the equivalent value in OZ.\n",
        "\n",
        "Extract the simplified item name from `Vendor Item Description` into a new column called `Item Name`.\n",
        "\n",
        "---\n",
        "Note on Exclusion: Some units are left out in this first calculation of emissions as they are either not directly food (i.e. gloves) or are too difficult to go through individually and find a measurement that is not ambiguous. The total number of entries left out is 12171. **The number of non-food items in this amount can be calculated later.**\n",
        "\n",
        "---\n",
        "Note on Conversions: The column `Vendor Item Purchase Unit` is in the format x/y n which should be read as x bags of y units of n food.\n",
        "\n",
        "---"
      ],
      "metadata": {
        "id": "y6s4AxAUOoKQ"
      }
    },
    {
      "cell_type": "code",
      "source": [
        "#this code extracts just the unit information\n",
        "DiningDataFull['Unit'] = DiningDataFull['Vendor Item Purchase Unit'].str.extract(r\" ?([A-Za-zÀ-ÿ ]*)$\").astype(str)\n",
        "#below code to simplify redundant labels (i.e. LB CS to LB)\n",
        "def unit_rename(unit):\n",
        "    if('LB' in unit) | ('lb' in unit) | ('Lb' in unit) | ('Pound' in unit):\n",
        "        return 'LB'\n",
        "    if('OZ' in unit) | ('oz' in unit) | ('Oz' in unit) | (' Z' in unit):\n",
        "        return 'OZ'\n",
        "    if('GA' in unit) | ('Gal' in unit):\n",
        "        return 'GA'\n",
        "    if('QT' in unit):\n",
        "        return 'QT'\n",
        "    if('PT' in unit) | ('Pint' in unit) | ('PINT' in unit):\n",
        "        return 'PT'\n",
        "    if('LT' in unit):\n",
        "        return 'LT' \n",
        "    if('BU' in unit) | ('Bushel' in unit): #bushels\n",
        "        return 'BU'\n",
        "    if('KG' in unit):\n",
        "        return 'KG' \n",
        "    if('GR' in unit): #grams\n",
        "        return 'GR' \n",
        "    if('ML' in unit) | ('ml' in unit) | ('Ml' in unit): #milliliters\n",
        "        return 'ML'\n",
        "    if('CN' in unit) | ('Can' in unit):\n",
        "        return 'CN'\n",
        "    if('Bottle Case' in unit):\n",
        "        return 'Bottle Case'\n",
        "    return None\n",
        "#Notes: Bottle Case is 64 oz each, find # of can and translate to oz, anything with EA is not included for now (~9000)\n",
        "DiningDataFull['Unit'] = DiningDataFull.apply(lambda d: unit_rename(d['Unit']), axis = 1)\n",
        "\n",
        "#convert cans to OZ\n",
        "#using estimates for weight of cans through https://food.unl.edu/article/how-interpret-can-size-numbers\n",
        "DiningDataFull = DiningDataFull.replace({'#10 CN' : '110.5 OZ'}, regex = True)\n",
        "DiningDataFull = DiningDataFull.replace({'#10 Can' : '110.5 OZ'}, regex = True)\n",
        "DiningDataFull = DiningDataFull.replace({'#300 CN' : '15 OZ'}, regex = True)\n",
        "DiningDataFull = DiningDataFull.replace({'CN' : 'OZ'})\n",
        "#convert bottle case to OZ\n",
        "DiningDataFull = DiningDataFull.replace({' Bottle Case' : '/64 OZ'}, regex = True)\n",
        "DiningDataFull = DiningDataFull.replace({'Bottle Case' : 'OZ'})\n",
        "\n",
        "#extract item names\n",
        "DiningDataFull['Vendor Item'] = DiningDataFull['Vendor Item Description'].str.extract(r'(.*),')\n",
        "DiningDataFull['Vendor Item'] = DiningDataFull['Vendor Item'].str.upper()"
      ],
      "metadata": {
        "id": "RPuQ7DJMOeH3"
      },
      "execution_count": 134,
      "outputs": []
    },
    {
      "cell_type": "markdown",
      "source": [
        "---\n",
        "Make a new column called `Total Amount` for the total amount of food in the current unit of measurement, before converting to grams. Make a new column called `Total Amount(g)` for converting all units to the equivalent value in grams, then filter out main descriptor word(s) in `Vendor Item Description` into a new column called `Food Name`.\n",
        "\n",
        "---\n",
        "\n",
        "Take the column with units in grams and multiply by the `Receive Quantity` if provided into a new column called `Total Grams`. If there is no value in `Receive Quantity`, then assume it is the value 1.\n",
        "\n",
        "---\n",
        "Note on Conversions: Most of these conversions are estimated to the nearest tenth. **More accurate calculations can be found later**\n",
        "\n",
        "---"
      ],
      "metadata": {
        "id": "PQbuaCZyGnUQ"
      }
    },
    {
      "cell_type": "code",
      "source": [
        "#make a new dataset for just entries with known units\n",
        "DDReduced = DiningDataFull[DiningDataFull['Unit'].notna()]\n",
        "#print(DDReduced.head())\n",
        "\n",
        "#find total amount of food before converting to grams\n",
        "DDReduced = DDReduced.copy()\n",
        "DDReduced['Total Amount'] = DDReduced['Vendor Item Purchase Unit'].str.extract(r'^[a-zA-Z]* ?-?/? ?([0-9]*/?[0-9.]*-?[0-9.]*)')\n",
        "DDReduced['Range'] = DDReduced['Total Amount'].str.extract(r'([0-9.]*-[0-9.]*)')\n",
        "DDReduced['Range'] = DDReduced['Range'].astype(str)\n",
        "DDReduced['Range'] = DDReduced['Range'].replace({'nan' : '0'})\n",
        "DDReduced['Range Average'] = DDReduced['Range'].replace({'-' : '+'}, regex = True)\n",
        "DDReduced['Range Average'] = DDReduced.apply(lambda d: eval(d['Range Average']), axis = 1)\n",
        "DDReduced['Range Average'] /= 2\n",
        "\n",
        "has_slash = ~(DDReduced['Total Amount'].str.contains('/')) & (DDReduced['Total Amount'].str.len() > 0)\n",
        "DDReduced.loc[has_slash, 'Total Amount'] = (\n",
        "    '1/' + DDReduced.loc[has_slash, 'Total Amount']\n",
        ")\n",
        "\n",
        "has_range = DDReduced['Total Amount'].str.contains('-')\n",
        "DDReduced.loc[has_range, 'Total Amount'] = (\n",
        "    DDReduced.loc[has_range, 'Total Amount'].str.split('/').str[0]\n",
        "    + '/'\n",
        "    + DDReduced.loc[has_range, 'Range Average'].astype(str)\n",
        ")\n",
        "\n",
        "just_unit = (DDReduced['Total Amount'] == '') & ~(DDReduced['Vendor Item Purchase Unit'].isna())\n",
        "DDReduced.loc[just_unit, 'Total Amount'] = '1'\n",
        "\n",
        "DDReduced = DDReduced.drop(['Range', 'Range Average'], axis = 1)\n",
        "\n",
        "DDReduced['Total Amount'] = DDReduced['Total Amount'].replace({'' : '0'})\n",
        "DDReduced['Receive Quantity'] = DDReduced['Receive Quantity'].fillna(0)\n",
        "DDReduced = DDReduced[DDReduced['Receive Quantity'] != 0] #get rid of any rows that were not received\n",
        "DDReduced['Total Amount'] = DDReduced['Total Amount'].replace({'/' : '*'}, regex = True)\n",
        "DDReduced['Total Amount'] = DDReduced.apply(lambda d: eval(d['Total Amount']), axis = 1)\n",
        "DDReduced['Total Amount'] = DDReduced['Total Amount'].astype(float) * DDReduced['Receive Quantity'].astype(float)\n",
        "\n",
        "#convert units to grams\n",
        "def convert_units(row):\n",
        "    if row['Unit'] == 'LB':\n",
        "        return row['Total Amount'] * 453.6\n",
        "    if row['Unit'] == 'OZ':\n",
        "        return row['Total Amount'] * 28.35\n",
        "    if row['Unit'] == 'GA':\n",
        "        return row['Total Amount'] * 3785.4 #assuming density of water, most drinks are MORE dense so number is underestimate\n",
        "    if row['Unit'] == 'QT':\n",
        "        return row['Total Amount'] * 3785.4 / 4\n",
        "    if row['Unit'] == 'PT':\n",
        "        return row['Total Amount'] * 3785.4 / 8\n",
        "    if (row['Unit'] == 'LT') | (row['Unit'] == 'KG'):\n",
        "        return row['Total Amount'] * 1000 #also assuming density of water, most drinks MORE dense\n",
        "    if row['Unit'] == 'BU':\n",
        "        return row['Total Amount'] * 32.5 * 453.6 #average of 40lbs per bu apples, squash, etc. and 25lbs per bu peppers, etc.\n",
        "    if (row['Unit'] == 'ML') | (row['Unit'] == 'G'):\n",
        "        return row['Total Amount'] * 453.6\n",
        "    return 0\n",
        "DDReduced['Total Amount(g)'] = DDReduced.apply(convert_units, axis = 1)\n",
        "DDReduced['Total Amount(kg)'] = DDReduced['Total Amount(g)'] / 1000\n",
        "\n",
        "#modify `Product Group` column\n",
        "DDReduced = DDReduced[DDReduced['Product Group'].notna()]\n",
        "DDReduced['Product Group'] = DDReduced['Product Group'].str.upper() #make uppercase to simplify code\n",
        "\n",
        "print(\"Excluded rows: \", DiningDataFull.shape[0] - DDReduced.shape[0])\n",
        "#print(DDReduced.head())"
      ],
      "metadata": {
        "colab": {
          "base_uri": "https://localhost:8080/"
        },
        "id": "YnLSVqA0I4K4",
        "outputId": "2d86f31c-ef99-43e8-8a43-7ac4e8ff2b43"
      },
      "execution_count": 135,
      "outputs": [
        {
          "output_type": "stream",
          "name": "stdout",
          "text": [
            "Excluded rows:  17177\n"
          ]
        },
        {
          "output_type": "stream",
          "name": "stderr",
          "text": [
            "<ipython-input-135-1aeab029a4c0>:63: SettingWithCopyWarning: \n",
            "A value is trying to be set on a copy of a slice from a DataFrame.\n",
            "Try using .loc[row_indexer,col_indexer] = value instead\n",
            "\n",
            "See the caveats in the documentation: https://pandas.pydata.org/pandas-docs/stable/user_guide/indexing.html#returning-a-view-versus-a-copy\n",
            "  DDReduced['Product Group'] = DDReduced['Product Group'].str.upper() #make uppercase to simplify code\n"
          ]
        }
      ]
    },
    {
      "cell_type": "markdown",
      "source": [
        "---\n",
        "#More item name cleaning\n",
        "\n",
        "---"
      ],
      "metadata": {
        "id": "d0ZmAoOTeQSq"
      }
    },
    {
      "cell_type": "code",
      "source": [
        "#label others meats that are not already labeled\n",
        "meat_not_labeled = (DDReduced['Product Group'].str.contains('MEAT', regex = True) | \\\n",
        "                    DDReduced['Product Group'].str.contains('MEATS', regex = True)) & \\\n",
        "                    ~(DDReduced['Product Group'].str.contains('SUBSTITUTE', regex = True)) \n",
        "                    #mask meats not labeled, but not substitutes\n",
        "\n",
        "is_meat_sub = (DDReduced['Vendor Item'].str.contains('SUB'))\n",
        "DDReduced.loc[is_meat_sub & meat_not_labeled, 'Product Group'] = 'MEAT SUBSTITUTE'\n",
        "\n",
        "sausage_like = (DDReduced['Vendor Item'].str.contains('SAUSAGE')) | \\\n",
        "               (DDReduced['Vendor Item'] == 'PEPPERONI') | \\\n",
        "               (DDReduced['Vendor Item'] == 'CORN DOG') | \\\n",
        "               (DDReduced['Vendor Item'] == 'HOT DOG') | \\\n",
        "               (DDReduced['Vendor Item'] == 'SALAMI')\n",
        "DDReduced.loc[sausage_like & meat_not_labeled, 'Product Group'] = 'SAUSAGE'\n",
        "\n",
        "is_meatball = (DDReduced['Vendor Item'] == 'MEATBALL')\n",
        "DDReduced.loc[is_meatball & meat_not_labeled, 'Product Group'] = 'MEATBALL'\n",
        "\n",
        "is_poultry = (DDReduced['Vendor Item'] == 'CHICKEN') | (DDReduced['Vendor Item'] == 'TURKEY') | (DDReduced['Vendor Item'] == 'DUCK') | (DDReduced['Vendor Item'].str.contains('HEN'))\n",
        "DDReduced.loc[is_poultry & meat_not_labeled, 'Product Group'] = 'POULTRY'\n",
        "\n",
        "is_beef = (DDReduced['Vendor Item'] == 'BEEF')\n",
        "DDReduced.loc[is_beef & meat_not_labeled, 'Product Group'] = 'BEEF'\n",
        "\n",
        "is_gyro_meat = (DDReduced['Vendor Item'] == 'GYRO MEAT') | (DDReduced['Vendor Item'] == 'LAMB')\n",
        "DDReduced.loc[is_gyro_meat & meat_not_labeled, 'Product Group'] = 'LAMB' \n",
        "#most common ingredient in gyro meat, technically has beef but the numbers are very similar\n",
        "\n",
        "is_pork = (DDReduced['Vendor Item'] == 'PORK') | (DDReduced['Vendor Item'] == 'HAM') | (DDReduced['Vendor Item'] == 'BACON')\n",
        "DDReduced.loc[is_pork & meat_not_labeled, 'Product Group'] = 'PORK'\n",
        "\n",
        "#label sodas\n",
        "is_soda = DDReduced['Brand'] == 'Durham Coca Cola'\n",
        "DDReduced.loc[is_soda, 'Product Group'] = 'SODA'"
      ],
      "metadata": {
        "id": "QCCi_esIeP8z"
      },
      "execution_count": 141,
      "outputs": []
    },
    {
      "cell_type": "markdown",
      "source": [
        "---\n",
        "#Explore Data\n",
        "\n",
        "---"
      ],
      "metadata": {
        "id": "lmX7APDAdmPE"
      }
    },
    {
      "cell_type": "code",
      "source": [
        "#print(DDReduced[(DDReduced['Product Group'] == 'Beverages') & (DDReduced['Vendor Item'].isna())][0:20])\n",
        "print(DDReduced[DDReduced['Product Group'] == '651400 MEATS'][0:20])"
      ],
      "metadata": {
        "colab": {
          "base_uri": "https://localhost:8080/"
        },
        "id": "7E1M-cuqdlyO",
        "outputId": "4f4e9a6e-a359-4fe7-dab9-115c2887995d"
      },
      "execution_count": 142,
      "outputs": [
        {
          "output_type": "stream",
          "name": "stdout",
          "text": [
            "         Unit Name             Vendor Purchase Date Vendor Item ID  \\\n",
            "55650  Marketplace           US Foods    2022-04-01        2894475   \n",
            "55653  Marketplace           US Foods    2022-04-01        4774238   \n",
            "55654  Marketplace           US Foods    2022-04-01        3804154   \n",
            "55840      Freeman           US Foods    2022-04-04        3804154   \n",
            "55841      Freeman           US Foods    2022-04-04        4573317   \n",
            "55851  Marketplace           US Foods    2022-04-04        3619796   \n",
            "56029         DuML           US Foods    2022-04-05        6728893   \n",
            "56030         DuML           US Foods    2022-04-05        2326882   \n",
            "56036         DuML           US Foods    2022-04-05        1385719   \n",
            "56052  Marketplace           US Foods    2022-04-05        7100027   \n",
            "56207  Marketplace           US Foods    2022-04-06        3804154   \n",
            "56208  Marketplace           US Foods    2022-04-06        6731491   \n",
            "56209      Freeman           US Foods    2022-04-06        3804154   \n",
            "56448  Marketplace           US Foods    2022-04-08        6731491   \n",
            "56449  Marketplace           US Foods    2022-04-08        7100027   \n",
            "56453  Marketplace           US Foods    2022-04-08        3804154   \n",
            "56669  Marketplace           US Foods    2022-04-11        6333777   \n",
            "56672  Marketplace           US Foods    2022-04-11        7100027   \n",
            "56674      Freeman  Kosher Mart Foods    2022-04-11        KP70212   \n",
            "56675      Freeman  Kosher Mart Foods    2022-04-11         KP146A   \n",
            "\n",
            "                                 Vendor Item Description  \\\n",
            "55650  CRAB CAKE, MARYLAND STYLE 3 OZ BREADED BLUE SW...   \n",
            "55653  COD, ATLANTIC 6 OZ LOIN BONELESS SKINLESS RAW ...   \n",
            "55654  SALMON, ATLANTIC 4 OZ PORTION PBO SKINLESS RAW...   \n",
            "55840  SALMON, ATLANTIC 4 OZ PORTION PBO SKINLESS RAW...   \n",
            "55841  SALMON, SMOKED COLD NOVA LOX 2.5 LB SIDE SLICE...   \n",
            "55851  CATFISH, 3-5 OZ FILLET BONELESS SKINLESS RAW I...   \n",
            "56029  SHRIMP, 21-25 WHITE PEELED-&-DEVEINED TAIL-OFF...   \n",
            "56030  MAHI MAHI, 4 OZ PORTION BONELESS-SKINLESS RAW ...   \n",
            "56036  SATAY, CHICKEN .85 OZ PHO-FREE RAW FROZEN TRAY...   \n",
            "56052  COD, ATLANTIC 4 OZ LOIN BONELESS SKINLESS RAW ...   \n",
            "56207  SALMON, ATLANTIC 4 OZ PORTION PBO SKINLESS RAW...   \n",
            "56208  SHRIMP, RAW 21-25 WHITE PEELED-&-DEVEINED TAIL...   \n",
            "56209  SALMON, ATLANTIC 4 OZ PORTION PBO SKINLESS RAW...   \n",
            "56448  SHRIMP, RAW 21-25 WHITE PEELED-&-DEVEINED TAIL...   \n",
            "56449  COD, ATLANTIC 4 OZ LOIN BONELESS SKINLESS RAW ...   \n",
            "56453  SALMON, ATLANTIC 4 OZ PORTION PBO SKINLESS RAW...   \n",
            "56669  TUNA, WHITE ALBACORE CHUNK IN WATER CAN SHELF ...   \n",
            "56672  COD, ATLANTIC 4 OZ LOIN BONELESS SKINLESS RAW ...   \n",
            "56674                  BEEF BRISKET OU GERSHONI PASSOVER   \n",
            "56675         BEEF MEATBALLS DRY MEAL MART PASSOVER 1 OZ   \n",
            "\n",
            "      Vendor Item Purchase Unit Product Group       Brand  Receive Quantity  \\\n",
            "55650              2/12/3 OZ CS  651400 MEATS       HANDY             14.00   \n",
            "55653                  10 LB CS  651400 MEATS  HARBOR BNK              8.00   \n",
            "55654                  10 LB CS  651400 MEATS  HARBOR BNK              6.00   \n",
            "55840                  10 LB CS  651400 MEATS  HARBOR BNK              1.00   \n",
            "55841               3/2.5 LB CS  651400 MEATS  HARBOR BNK              1.00   \n",
            "55851                  15 LB CS  651400 MEATS  CRLNA CLSC              1.00   \n",
            "56029                 5/2 LB CS  651400 MEATS  HARBOR BNK              1.00   \n",
            "56030                  10 LB CS  651400 MEATS  HARBOR BNK              1.00   \n",
            "56036            4/25/.85 OZ CS  651400 MEATS  MOLLYS KIT              1.00   \n",
            "56052                40/4 OZ CS  651400 MEATS     FISHERY              8.00   \n",
            "56207                  10 LB CS  651400 MEATS  HARBOR BNK              7.00   \n",
            "56208                 5/2 LB CS  651400 MEATS      PACKER              7.00   \n",
            "56209                  10 LB CS  651400 MEATS  HARBOR BNK              1.00   \n",
            "56448                 5/2 LB CS  651400 MEATS      PACKER              8.00   \n",
            "56449                40/4 OZ CS  651400 MEATS     FISHERY              7.00   \n",
            "56453                  10 LB CS  651400 MEATS  HARBOR BNK              9.00   \n",
            "56669              6/66.5 OZ CS  651400 MEATS     MONARCH              1.00   \n",
            "56672                40/4 OZ CS  651400 MEATS     FISHERY              1.00   \n",
            "56674                  5/12 LBA  651400 MEATS         NaN            115.63   \n",
            "56675                  160/1 OZ  651400 MEATS         NaN              2.00   \n",
            "\n",
            "      Priority 1 Priority 2 Priority 3 Unit Vendor Item  Total Amount  \\\n",
            "55650        NaN        NaN        NaN   OZ   CRAB CAKE         336.0   \n",
            "55653        NaN        NaN        NaN   LB         COD          80.0   \n",
            "55654        NaN        NaN        NaN   LB      SALMON          60.0   \n",
            "55840        NaN        NaN        NaN   LB      SALMON          10.0   \n",
            "55841        NaN        NaN        NaN   LB      SALMON           7.5   \n",
            "55851        NaN        NaN        NaN   LB     CATFISH          15.0   \n",
            "56029        NaN        NaN        NaN   LB      SHRIMP          10.0   \n",
            "56030        NaN        NaN        NaN   LB   MAHI MAHI          10.0   \n",
            "56036        NaN        NaN        NaN   OZ       SATAY         100.0   \n",
            "56052        NaN        NaN        NaN   OZ         COD        1280.0   \n",
            "56207        NaN        NaN        NaN   LB      SALMON          70.0   \n",
            "56208        NaN        NaN        NaN   LB      SHRIMP          70.0   \n",
            "56209        NaN        NaN        NaN   LB      SALMON          10.0   \n",
            "56448        NaN        NaN        NaN   LB      SHRIMP          80.0   \n",
            "56449        NaN        NaN        NaN   OZ         COD        1120.0   \n",
            "56453        NaN        NaN        NaN   LB      SALMON          90.0   \n",
            "56669        NaN        NaN        NaN   OZ        TUNA         399.0   \n",
            "56672        NaN        NaN        NaN   OZ         COD         160.0   \n",
            "56674        NaN        NaN        NaN   LB         NaN        6937.8   \n",
            "56675        NaN        NaN        NaN   OZ         NaN         320.0   \n",
            "\n",
            "       Total Amount(g)  Total Amount(kg)  \n",
            "55650          9525.60           9.52560  \n",
            "55653         36288.00          36.28800  \n",
            "55654         27216.00          27.21600  \n",
            "55840          4536.00           4.53600  \n",
            "55841          3402.00           3.40200  \n",
            "55851          6804.00           6.80400  \n",
            "56029          4536.00           4.53600  \n",
            "56030          4536.00           4.53600  \n",
            "56036          2835.00           2.83500  \n",
            "56052         36288.00          36.28800  \n",
            "56207         31752.00          31.75200  \n",
            "56208         31752.00          31.75200  \n",
            "56209          4536.00           4.53600  \n",
            "56448         36288.00          36.28800  \n",
            "56449         31752.00          31.75200  \n",
            "56453         40824.00          40.82400  \n",
            "56669         11311.65          11.31165  \n",
            "56672          4536.00           4.53600  \n",
            "56674       3146986.08        3146.98608  \n",
            "56675          9072.00           9.07200  \n"
          ]
        }
      ]
    },
    {
      "cell_type": "markdown",
      "source": [
        "---\n",
        "####Load the csv with CO2 numbers and find numbers for carbon emissions\n",
        "\n",
        "---"
      ],
      "metadata": {
        "id": "d_F8fSgfo3RI"
      }
    },
    {
      "cell_type": "code",
      "source": [
        "CO2 = pd.read_csv('CO2 values for FACCWTHA v1.1 - Foods.csv')\n",
        "\n",
        "#replace values below if need to update values\n",
        "#CURRENT VALUES: from CO2 spreadsheet above (Poore and Nemecek 2018) (6/5/23)\n",
        "beef_emission_ratio = CO2[CO2['FoodDisplayName'] == 'Steak']['CO2eRatioSLBBook'].mean() #Europe average, US is LARGER at ~54kg CO2e/kg\n",
        "pork_emission_ratio = CO2[(CO2['FoodDisplayName'] == 'Ham')]['CO2eRatioSLBBook'].mean() #using just ham from CO2 data\n",
        "poultry_emission_ratio = CO2[CO2['FoodDisplayName'] == 'Chicken']['CO2eRatioSLBBook'].mean() #chicken and turkey, averaged from Europe and US, which is LARGER than just US\n",
        "lamb_emission_ratio = CO2[CO2['FoodDisplayName'] == 'Lamb']['CO2eRatioSLBBook'].mean() #Europe, slightly higher than global average of ~40\n",
        "seafood_emission_ratio = CO2[CO2['FoodAisle'] == 'Fish']['CO2eRatioSLBBook'].mean() #average of three common fish\n",
        "eggs_emission_ratio = CO2[CO2['FoodDisplayName'] == 'Eggs']['CO2eRatioSLBBook'].mean() #world average of eggs\n",
        "meatsub_emission_ratio = 2.19 #(https://www.ncbi.nlm.nih.gov/pmc/articles/PMC9936781/ , Mejia et al., 2020)\n",
        "meatball_emission_ratio = 0 #update with avg of beef and pork\n",
        "sausage_emission_ratio = 0 #update with CO2 data\n",
        "#add more values here as the data gets more clean\n",
        "#later, replace means/averages with weighted averages depending on how often eaten and average amount eaten each instance\n",
        "\n",
        "print(\"beef: \", beef_emission_ratio, 'kg CO2e/kg')\n",
        "print(\"pork: \", pork_emission_ratio, 'kg CO2e/kg')\n",
        "print(\"poultry: \", poultry_emission_ratio, 'kg CO2e/kg')\n",
        "print(\"lamb: \", lamb_emission_ratio, 'kg CO2e/kg')\n",
        "print(\"seafood: \", seafood_emission_ratio, 'kg CO2e/kg')\n",
        "print(\"eggs: \", eggs_emission_ratio, 'kg CO2e/kg')\n",
        "print(\"meatsub: \", meatsub_emission_ratio, 'kg CO2e/kg')\n",
        "\n",
        "#print(CO2.head())"
      ],
      "metadata": {
        "colab": {
          "base_uri": "https://localhost:8080/"
        },
        "id": "hRVwXabqo36T",
        "outputId": "388ba88b-3a66-4b7f-b8c7-365e1304ed76"
      },
      "execution_count": 57,
      "outputs": [
        {
          "output_type": "stream",
          "name": "stdout",
          "text": [
            "beef:  46.2 kg CO2e/kg\n",
            "pork:  10.7 kg CO2e/kg\n",
            "poultry:  6.8 kg CO2e/kg\n",
            "lamb:  43.0 kg CO2e/kg\n",
            "seafood:  5.133333333333334 kg CO2e/kg\n",
            "eggs:  4.7 kg CO2e/kg\n",
            "meatsub:  2.19 kg CO2e/kg\n"
          ]
        }
      ]
    },
    {
      "cell_type": "markdown",
      "source": [
        "---\n",
        "#CALCULATING CARBON EMISSIONS\n",
        "\n",
        "Currently includes: Meats, Meat Alternatives, and Eggs\n",
        "\n",
        "NOTE: 651400 meats, 651401 local meats, processed meat, and specialty meats are excluded as of now, for a total of 3964 rows\n",
        "\n",
        "---"
      ],
      "metadata": {
        "id": "JyTNQtI4e4i3"
      }
    },
    {
      "cell_type": "code",
      "source": [
        "#print(DDReduced['Product Group'].value_counts())\n",
        "\n",
        "def calc_emissions(row):\n",
        "    if row['Product Group'] == 'BEEF':\n",
        "        return row['Total Amount(kg)'] * beef_emission_ratio\n",
        "    if row['Product Group'] == 'PORK':\n",
        "        return row['Total Amount(kg)'] * pork_emission_ratio\n",
        "    if row['Product Group'] == 'SEAFOOD':\n",
        "        return row['Total Amount(kg)'] * seafood_emission_ratio\n",
        "    if row['Product Group'] == 'MEAT SUBSTITUTE':\n",
        "        return row['Total Amount(kg)'] * meatsub_emission_ratio\n",
        "    if row['Product Group'] == 'LAMB':\n",
        "        return row['Total Amount(kg)'] * lamb_emission_ratio\n",
        "    if (row['Product Group'] == 'CHICKEN') | (row['Product Group'] == 'POULTRY') | \\\n",
        "       (row['Product Group'] == 'TURKEY') | (row['Product Group'] == 'DUCK'):\n",
        "        return row['Total Amount(kg)'] * beef_emission_ratio\n",
        "    if row['Product Group'] == 'EGGS':\n",
        "        return row['Total Amount(kg)'] * eggs_emission_ratio\n",
        "    return 0\n",
        "\n",
        "DDReduced['CO2e(kg)'] = DDReduced.apply(calc_emissions, axis = 1)\n",
        "\n",
        "total_food_amount_kg = DDReduced['Total Amount(kg)'].sum()\n",
        "total_food_amount_calced_kg = DDReduced[DDReduced['CO2e(kg)'] != 0]['Total Amount(kg)'].sum()\n",
        "percent_food_calced = total_food_amount_calced_kg / total_food_amount_kg * 100\n",
        "\n",
        "print('The percentage of food (by weight) with calculated carbon emissions so far is: ', percent_food_calced, \"%\")"
      ],
      "metadata": {
        "colab": {
          "base_uri": "https://localhost:8080/"
        },
        "id": "beM1jtkMe44Q",
        "outputId": "ab9495b1-70e4-4dc1-b66e-ebf407fedc04"
      },
      "execution_count": 143,
      "outputs": [
        {
          "output_type": "stream",
          "name": "stdout",
          "text": [
            "The percentage of food (by weight) with calculated carbon emissions so far is:  60.795451801659695 %\n"
          ]
        }
      ]
    },
    {
      "cell_type": "markdown",
      "source": [
        "---\n",
        "###Making one dataset for each location and each year\n",
        "\n",
        "---"
      ],
      "metadata": {
        "id": "slofxOZkptua"
      }
    },
    {
      "cell_type": "code",
      "source": [
        "location_col = DDReduced['Unit Name']\n",
        "DiningData_Marketplace = DDReduced[location_col == \"Marketplace\"]\n",
        "DiningData_DuML = DDReduced[location_col == \"DuML\"]\n",
        "DiningData_Trinity = DDReduced[location_col == \"Trinity\"]\n",
        "DiningData_Freeman = DDReduced[location_col == \"Freeman\"]\n",
        "\n",
        "date_col = DDReduced['Purchase Date']\n",
        "DiningData_2019 = DDReduced[(date_col >= pd.Timestamp(2019, 1, 1).date()) & (date_col < pd.Timestamp(2020, 1, 1).date())]\n",
        "DiningData_2020 = DDReduced[(date_col >= pd.Timestamp(2020, 1, 1).date()) & (date_col < pd.Timestamp(2021, 1, 1).date())]\n",
        "DiningData_2021 = DDReduced[(date_col >= pd.Timestamp(2021, 1, 1).date()) & (date_col < pd.Timestamp(2022, 1, 1).date())]\n",
        "DiningData_2022 = DDReduced[(date_col >= pd.Timestamp(2022, 1, 1).date()) & (date_col < pd.Timestamp(2023, 1, 1).date())]\n",
        "DiningData_2023 = DDReduced[(date_col >= pd.Timestamp(2023, 1, 1).date()) & (date_col < pd.Timestamp(2024, 1, 1).date())]"
      ],
      "metadata": {
        "id": "mJYaZdBsykLC"
      },
      "execution_count": 144,
      "outputs": []
    },
    {
      "cell_type": "markdown",
      "source": [
        "---\n",
        "#Analysis\n",
        "\n",
        "---"
      ],
      "metadata": {
        "id": "E69_jgCrxFUj"
      }
    },
    {
      "cell_type": "code",
      "source": [
        "total_carbon_emissions_2022 = DiningData_2022['CO2e(kg)'].sum()\n",
        "total_duke_emissions_2022 = 194346000 #in kg, from 2022 GHG emissions\n",
        "\n",
        "total_food_amount_kg_2022 = DiningData_2022['Total Amount(kg)'].sum()\n",
        "total_food_amount_calced_kg_2022 = DiningData_2022[DiningData_2022['CO2e(kg)'] != 0]['Total Amount(kg)'].sum()\n",
        "percent_food_calced_2022 = total_food_amount_calced_kg_2022 / total_food_amount_kg_2022 * 100\n",
        "\n",
        "print('The percentage of food (by weight) with calculated carbon emissions so far in 2022 is: ', percent_food_calced_2022, \"%\")\n",
        "print('')\n",
        "print(\"Of what has been calculated, food is \", total_carbon_emissions_2022 / total_duke_emissions_2022 * 100, \"% of Duke's total GHG emissions in 2022\")\n",
        "print(\"The value in Metric Tons is: \", total_carbon_emissions_2022 / 1000)"
      ],
      "metadata": {
        "colab": {
          "base_uri": "https://localhost:8080/"
        },
        "id": "m5s8NMgNxExG",
        "outputId": "c0f407de-8026-4957-8aef-0eabaf2fe7c2"
      },
      "execution_count": 145,
      "outputs": [
        {
          "output_type": "stream",
          "name": "stdout",
          "text": [
            "The percentage of food (by weight) with calculated carbon emissions so far in 2022 is:  62.70911477324557 %\n",
            "\n",
            "Of what has been calculated, food is  33.03960877471853 % of Duke's total GHG emissions in 2022\n",
            "The value in Metric Tons is:  64211.15806931448\n"
          ]
        }
      ]
    }
  ]
}
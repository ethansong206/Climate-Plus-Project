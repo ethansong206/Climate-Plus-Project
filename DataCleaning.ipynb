{
  "nbformat": 4,
  "nbformat_minor": 0,
  "metadata": {
    "colab": {
      "provenance": [],
      "authorship_tag": "ABX9TyMdCFUOmMPRP1lu351nfAOv",
      "include_colab_link": true
    },
    "kernelspec": {
      "name": "python3",
      "display_name": "Python 3"
    },
    "language_info": {
      "name": "python"
    }
  },
  "cells": [
    {
      "cell_type": "markdown",
      "metadata": {
        "id": "view-in-github",
        "colab_type": "text"
      },
      "source": [
        "<a href=\"https://colab.research.google.com/github/ethansong206/Climate-Plus-Project/blob/main/DataCleaning.ipynb\" target=\"_parent\"><img src=\"https://colab.research.google.com/assets/colab-badge.svg\" alt=\"Open In Colab\"/></a>"
      ]
    },
    {
      "cell_type": "markdown",
      "source": [
        "Import necessary packages for the code"
      ],
      "metadata": {
        "id": "RGa1ITd5pwR7"
      }
    },
    {
      "cell_type": "code",
      "execution_count": 36,
      "metadata": {
        "id": "e6u2wlQbblpm"
      },
      "outputs": [],
      "source": [
        "import pandas as pd\n",
        "import numpy as np\n",
        "from datetime import datetime"
      ]
    },
    {
      "cell_type": "markdown",
      "source": [
        "Load the Duke Dining csv file and make the data easier to handle. This includes but is not limited to:\n",
        "\n",
        "1) Renaming locations\n",
        "\n",
        "2) Changing the date from a string to a date object\n",
        "\n"
      ],
      "metadata": {
        "id": "59ncjUuWp_Nj"
      }
    },
    {
      "cell_type": "code",
      "source": [
        "DiningDataFull = pd.read_csv('Climate+ Data 2019 thru 2023.csv')\n",
        "#print(DiningDataFull['Unit Name'].value_counts()) # Show how many entries there are of each location\n",
        "\n",
        "#below code to make 'Unit Name' column easier to handle\n",
        "#can add more lines given more locations\n",
        "def location_rename(location):\n",
        "    if(\"Marketplace\" in location): #Combine data for Marketplace Kitchen and Marketplace Special Event\n",
        "        return \"Marketplace\"\n",
        "    if(\"Marine Lab\" in location):\n",
        "        return \"DuML\"\n",
        "    if(\"Trinity\" in location):\n",
        "        return \"Trinity\"\n",
        "    if(\"Freeman\" in location):\n",
        "        return \"Freeman\"\n",
        "    return None\n",
        "\n",
        "DiningDataFull['Unit Name'] = DiningDataFull.apply(lambda d: location_rename(d['Unit Name']), axis = 1)\n",
        "\n",
        "DiningDataFull['Purchase Date'] = DiningDataFull.apply(lambda d: datetime.strptime(d['Purchase Date'], '%m/%d/%Y').date(), axis = 1)\n",
        "\n",
        "print(DiningDataFull.head())"
      ],
      "metadata": {
        "colab": {
          "base_uri": "https://localhost:8080/"
        },
        "id": "X6FApqgppspd",
        "outputId": "c988b5d9-10f7-433d-97f5-d7af9ce1672b"
      },
      "execution_count": 67,
      "outputs": [
        {
          "output_type": "stream",
          "name": "stderr",
          "text": [
            "<ipython-input-67-59ebf3b3dbb7>:1: DtypeWarning: Columns (9,10,11) have mixed types. Specify dtype option on import or set low_memory=False.\n",
            "  DiningDataFull = pd.read_csv('Climate+ Data 2019 thru 2023.csv')\n"
          ]
        },
        {
          "output_type": "stream",
          "name": "stdout",
          "text": [
            "     Unit Name    Vendor Purchase Date Vendor Item ID  \\\n",
            "0  Marketplace  US Foods    2019-07-01        5018999   \n",
            "1  Marketplace  US Foods    2019-07-01        5400692   \n",
            "2  Marketplace  US Foods    2019-07-01        8012643   \n",
            "3  Marketplace  US Foods    2019-07-01         731349   \n",
            "4  Marketplace  US Foods    2019-07-01          68106   \n",
            "\n",
            "                             Vendor Item Description  \\\n",
            "0  POTATO, FRENCH-FRY 3/4 X3/8 STEAK CUT SKIN-ON ...   \n",
            "1  POTATO, FRENCH-FRY SPIRAL COATED SEASONED TFF ...   \n",
            "2  POTATO, FRENCH-FRY 1/2 CRINKLE-CUT TFF EXTRA-L...   \n",
            "3                POTATO, HASH BROWN SHRED COOKED REF   \n",
            "4    POTATO, TATER NUGGET PARFRIED FROZEN HASH BROWN   \n",
            "\n",
            "  Vendor Item Purchase Unit                              Product Group  \\\n",
            "0                    6/5 LB  APPETIZERS, ENTREES, & POTATOES REF & FZN   \n",
            "1                    6/5 LB  APPETIZERS, ENTREES, & POTATOES REF & FZN   \n",
            "2                  6/4.5 LB  APPETIZERS, ENTREES, & POTATOES REF & FZN   \n",
            "3                   2/10 LB  APPETIZERS, ENTREES, & POTATOES REF & FZN   \n",
            "4                    6/5 LB  APPETIZERS, ENTREES, & POTATOES REF & FZN   \n",
            "\n",
            "                Brand  Receive Quantity Priority 1 Priority 2 Priority 3  \n",
            "0  LW PRIVATE RESERVE              44.0        NaN        NaN        NaN  \n",
            "1      LAMBS SEASONED              15.0        NaN        NaN        NaN  \n",
            "2       LAMBS SUPREME              15.0        NaN        NaN        NaN  \n",
            "3  CROSS VALLEY FARMS              20.0        NaN        NaN        NaN  \n",
            "4             MONARCH              10.0        NaN        NaN        NaN  \n"
          ]
        }
      ]
    },
    {
      "cell_type": "markdown",
      "source": [
        "Making one dataset for each location and each year"
      ],
      "metadata": {
        "id": "slofxOZkptua"
      }
    },
    {
      "cell_type": "code",
      "source": [
        "location_col = DiningDataFull['Unit Name']\n",
        "DiningData_Marketplace = DiningDataFull[location_col == \"Marketplace\"]\n",
        "DiningData_DuML = DiningDataFull[location_col == \"DuML\"]\n",
        "DiningData_Trinity = DiningDataFull[location_col == \"Trinity\"]\n",
        "DiningData_Freeman = DiningDataFull[location_col == \"Freeman\"]\n",
        "\n",
        "date_col = DiningDataFull['Purchase Date']\n",
        "DiningData_2019 = DiningDataFull[(date_col >= pd.Timestamp(2019, 1, 1)) & (date_col < pd.Timestamp(2020, 1, 1))]\n",
        "DiningData_2020 = DiningDataFull[(date_col >= pd.Timestamp(2020, 1, 1)) & (date_col < pd.Timestamp(2021, 1, 1))]\n",
        "DiningData_2021 = DiningDataFull[(date_col >= pd.Timestamp(2021, 1, 1)) & (date_col < pd.Timestamp(2022, 1, 1))]\n",
        "DiningData_2022 = DiningDataFull[(date_col >= pd.Timestamp(2022, 1, 1)) & (date_col < pd.Timestamp(2023, 1, 1))]\n",
        "DiningData_2023 = DiningDataFull[(date_col >= pd.Timestamp(2023, 1, 1)) & (date_col < pd.Timestamp(2024, 1, 1))]"
      ],
      "metadata": {
        "colab": {
          "base_uri": "https://localhost:8080/"
        },
        "id": "mJYaZdBsykLC",
        "outputId": "b76fed2e-4dfd-4346-9542-3d3585807562"
      },
      "execution_count": 76,
      "outputs": [
        {
          "output_type": "stream",
          "name": "stderr",
          "text": [
            "<ipython-input-76-7747d46d14ce>:8: FutureWarning: Comparison of Timestamp with datetime.date is deprecated in order to match the standard library behavior. In a future version these will be considered non-comparable. Use 'ts == pd.Timestamp(date)' or 'ts.date() == date' instead.\n",
            "  DiningData_2019 = DiningDataFull[(date_col >= pd.Timestamp(2019, 1, 1)) & (date_col < pd.Timestamp(2020, 1, 1))]\n",
            "<ipython-input-76-7747d46d14ce>:9: FutureWarning: Comparison of Timestamp with datetime.date is deprecated in order to match the standard library behavior. In a future version these will be considered non-comparable. Use 'ts == pd.Timestamp(date)' or 'ts.date() == date' instead.\n",
            "  DiningData_2020 = DiningDataFull[(date_col >= pd.Timestamp(2020, 1, 1)) & (date_col < pd.Timestamp(2021, 1, 1))]\n",
            "<ipython-input-76-7747d46d14ce>:10: FutureWarning: Comparison of Timestamp with datetime.date is deprecated in order to match the standard library behavior. In a future version these will be considered non-comparable. Use 'ts == pd.Timestamp(date)' or 'ts.date() == date' instead.\n",
            "  DiningData_2021 = DiningDataFull[(date_col >= pd.Timestamp(2021, 1, 1)) & (date_col < pd.Timestamp(2022, 1, 1))]\n",
            "<ipython-input-76-7747d46d14ce>:11: FutureWarning: Comparison of Timestamp with datetime.date is deprecated in order to match the standard library behavior. In a future version these will be considered non-comparable. Use 'ts == pd.Timestamp(date)' or 'ts.date() == date' instead.\n",
            "  DiningData_2022 = DiningDataFull[(date_col >= pd.Timestamp(2022, 1, 1)) & (date_col < pd.Timestamp(2023, 1, 1))]\n",
            "<ipython-input-76-7747d46d14ce>:12: FutureWarning: Comparison of Timestamp with datetime.date is deprecated in order to match the standard library behavior. In a future version these will be considered non-comparable. Use 'ts == pd.Timestamp(date)' or 'ts.date() == date' instead.\n",
            "  DiningData_2023 = DiningDataFull[(date_col >= pd.Timestamp(2023, 1, 1)) & (date_col < pd.Timestamp(2024, 1, 1))]\n"
          ]
        },
        {
          "output_type": "stream",
          "name": "stdout",
          "text": [
            "         Unit Name    Vendor Purchase Date Vendor Item ID  \\\n",
            "77182  Marketplace  US Foods    2023-01-04        8959935   \n",
            "77183  Marketplace  US Foods    2023-01-06        4818803   \n",
            "77184  Marketplace  US Foods    2023-01-06        2341238   \n",
            "77185  Marketplace  US Foods    2023-01-06        4985693   \n",
            "77186  Marketplace  US Foods    2023-01-06        3587490   \n",
            "...            ...       ...           ...            ...   \n",
            "90529         DuML  US Foods    2023-05-23        8744005   \n",
            "90530         DuML  US Foods    2023-05-23        6000152   \n",
            "90531         DuML  US Foods    2023-05-23        1301084   \n",
            "90532         DuML  US Foods    2023-05-23        8879942   \n",
            "90533         DuML  US Foods    2023-05-24        5281756   \n",
            "\n",
            "                                 Vendor Item Description  \\\n",
            "77182  BEEF, TENDERLOIN CANADIAN PRIME 189A PEELED-SI...   \n",
            "77183  WRAP, 12X12 WAX PAPER NATURAL FLAT PACK GREASE...   \n",
            "77184  CREAMER, HALF & HALF 10.5% BUTTERFAT UHT DAIRY...   \n",
            "77185  CHEESE, CHEDDAR MILD SLICED .75 OZ TRAY YELLOW...   \n",
            "77186                     CHEESE, PARMESAN SHRED BAG REF   \n",
            "...                                                  ...   \n",
            "90529  CAKE, POP VANILLA WHITE ICED SPRINKLE 1 OZ SS ...   \n",
            "90530  SHELL, TART 3\" SWEET DESSERT DOMESTIC TRAY PAC...   \n",
            "90531              DOUGH, COOKIE CARNIVAL ECONOMY FROZEN   \n",
            "90532  zz CAKE, RED VELVET ICED MINI UNSLICED TFF FROZEN   \n",
            "90533                YEAST, NUTRITIONAL SHELF STABLE BAG   \n",
            "\n",
            "      Vendor Item Purchase Unit                      Product Group  \\\n",
            "77182             4/14.1 LBA LB                       651400 Meats   \n",
            "77183              5/1000 EA CS         641000 Disposable Culinary   \n",
            "77184                12/1 QT CS              651100 Dairy Products   \n",
            "77185               4/2.5 LB CS              651100 Dairy Products   \n",
            "77186                 4/5 LB CS              651100 Dairy Products   \n",
            "...                         ...                                ...   \n",
            "90529              6/10/1 OZ CS  651600 Bakery Items & Baked Goods   \n",
            "90530                  72 EA CS  651600 Bakery Items & Baked Goods   \n",
            "90531               320/1 OZ CS  651600 Bakery Items & Baked Goods   \n",
            "90532              24/2.5 OZ CS                                NaN   \n",
            "90533                 4/5 OZ CS               651301 Dry Groceries   \n",
            "\n",
            "            Brand  Receive Quantity Priority 1 Priority 2 Priority 3  \n",
            "77182  CND DMD JB              94.3        NaN        NaN        NaN  \n",
            "77183   ECO CRAFT               1.0        NaN        NaN        NaN  \n",
            "77184  GLNVW FRMS               3.0        NaN        NaN        NaN  \n",
            "77185  GLNVW FRMS               2.0        NaN        NaN        NaN  \n",
            "77186      ROSELI               1.0        NaN        NaN        NaN  \n",
            "...           ...               ...        ...        ...        ...  \n",
            "90529  DEVONSHIRE               1.0        NaN        NaN        NaN  \n",
            "90530  BURRY FOOD               1.0        NaN        NaN        NaN  \n",
            "90531  OSVALUZONE               1.0        NaN        NaN        NaN  \n",
            "90532  BISTRO CLC               1.0        NaN        NaN        NaN  \n",
            "90533   BOB'S RED               1.0        NaN        NaN        NaN  \n",
            "\n",
            "[13352 rows x 12 columns]\n"
          ]
        }
      ]
    },
    {
      "cell_type": "markdown",
      "source": [
        "Make a new column called `Unit(g)` for converting all units to the equivalent value in grams, then filter out main descriptor word(s) in `Vendor Item Description` into a new column called `Food Name`.\n",
        "\n",
        "Take the column with units in grams and multiply by the `Receive Quantity` if provided into a new column called `Total Grams`\n"
      ],
      "metadata": {
        "id": "PQbuaCZyGnUQ"
      }
    },
    {
      "cell_type": "code",
      "source": [],
      "metadata": {
        "id": "YnLSVqA0I4K4"
      },
      "execution_count": null,
      "outputs": []
    }
  ]
}
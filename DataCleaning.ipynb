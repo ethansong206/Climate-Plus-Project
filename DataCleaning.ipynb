{
  "nbformat": 4,
  "nbformat_minor": 0,
  "metadata": {
    "colab": {
      "provenance": [],
      "mount_file_id": "https://github.com/ethansong206/Climate-Plus-Project/blob/main/DataCleaning.ipynb",
      "authorship_tag": "ABX9TyMs+f4EQEUj7zROwT0d3tuB",
      "include_colab_link": true
    },
    "kernelspec": {
      "name": "python3",
      "display_name": "Python 3"
    },
    "language_info": {
      "name": "python"
    }
  },
  "cells": [
    {
      "cell_type": "markdown",
      "metadata": {
        "id": "view-in-github",
        "colab_type": "text"
      },
      "source": [
        "<a href=\"https://colab.research.google.com/github/ethansong206/Climate-Plus-Project/blob/main/DataCleaning.ipynb\" target=\"_parent\"><img src=\"https://colab.research.google.com/assets/colab-badge.svg\" alt=\"Open In Colab\"/></a>"
      ]
    },
    {
      "cell_type": "code",
      "execution_count": 155,
      "metadata": {
        "id": "e6u2wlQbblpm"
      },
      "outputs": [],
      "source": [
        "#@title Import packages\n",
        "import pandas as pd\n",
        "import numpy as np\n",
        "from datetime import datetime\n",
        "import re\n",
        "import seaborn as sns\n",
        "import matplotlib.pyplot as plt\n",
        "from google.colab import files\n",
        "from matplotlib.patches import ConnectionPatch\n",
        "import matplotlib.patches as mpatches"
      ]
    },
    {
      "cell_type": "code",
      "source": [
        "#@title Load csv and clean locations + dates\n",
        "DiningDataFull = pd.read_csv('/content/drive/MyDrive/Data+/Climate+ Data 2019 thru 2023.csv',\n",
        "                             dtype = {'Priority 1': str, 'Priority 2': str,\n",
        "                                      'Priority 3': str})\n",
        "#print(DiningDataFull['Unit Name'].value_counts()) # Show how many entries there are of each location\n",
        "\n",
        "#below code to make 'Unit Name' column easier to handle\n",
        "#can add more lines given more locations\n",
        "def location_rename(location):\n",
        "    if(\"Marketplace\" in location): #Combine data for Marketplace Kitchen and Marketplace Special Event\n",
        "        return \"Marketplace\"\n",
        "    if(\"Marine Lab\" in location):\n",
        "        return \"DuML\"\n",
        "    if(\"Trinity\" in location):\n",
        "        return \"Trinity\"\n",
        "    if(\"Freeman\" in location):\n",
        "        return \"Freeman\"\n",
        "    return None\n",
        "\n",
        "DiningDataFull['Unit Name'] = DiningDataFull.apply(lambda d: location_rename(d['Unit Name']), axis = 1)\n",
        "\n",
        "DiningDataFull['Purchase Date'] = DiningDataFull.apply(lambda d: datetime.strptime(d['Purchase Date'], '%m/%d/%Y').date(), axis = 1)\n",
        "\n",
        "print(\"Rows in DiningDataFull: \", DiningDataFull.shape[0])"
      ],
      "metadata": {
        "colab": {
          "base_uri": "https://localhost:8080/"
        },
        "id": "X6FApqgppspd",
        "outputId": "9a435386-cf43-46fb-8f07-d2ce2d407dbc"
      },
      "execution_count": 105,
      "outputs": [
        {
          "output_type": "stream",
          "name": "stdout",
          "text": [
            "Rows in DiningDataFull:  90534\n"
          ]
        }
      ]
    },
    {
      "cell_type": "markdown",
      "source": [
        "---\n",
        "Extract the unit names for each item into a new column called `Unit`, then rename each unit into a more simple label (i.e. LB CS to LB). Convert cans and bottle cases into the equivalent value in OZ.\n",
        "\n",
        "Extract the simplified item name from `Vendor Item Description` into a new column called `Item Name`.\n",
        "\n",
        "---\n",
        "Note on Exclusion: Some units are left out in this first calculation of emissions as they are either not directly food (i.e. gloves) or are too difficult to go through individually and find a measurement that is not ambiguous. The total number of entries left out is 12171. **The number of non-food items in this amount can be calculated later.**\n",
        "\n",
        "---\n",
        "Note on Conversions: The column `Vendor Item Purchase Unit` is in the format x/y n which should be read as x bags of y units of n food.\n",
        "\n",
        "---"
      ],
      "metadata": {
        "id": "y6s4AxAUOoKQ"
      }
    },
    {
      "cell_type": "code",
      "source": [
        "#@title Extract and clean units and item names\n",
        "#this code extracts just the unit information\n",
        "DiningDataFull['Unit'] = DiningDataFull['Vendor Item Purchase Unit'].str.extract(r\" ?([A-Za-zÀ-ÿ ]*)$\").astype(str)\n",
        "#below code to simplify redundant labels (i.e. LB CS to LB)\n",
        "#first, make it all uppercase to simplify code\n",
        "DiningDataFull['Unit'] = DiningDataFull['Unit'].str.upper()\n",
        "def unit_rename(unit):\n",
        "    if('LB' in unit) | ('POUND' in unit):\n",
        "        return 'LB'\n",
        "    if('OZ' in unit) | (' Z' in unit):\n",
        "        return 'OZ'\n",
        "    if('GA' in unit) | ('GAL' in unit):\n",
        "        return 'GA'\n",
        "    if('QT' in unit):\n",
        "        return 'QT'\n",
        "    if('PT' in unit) | ('PINT' in unit):\n",
        "        return 'PT'\n",
        "    if('LT' in unit):\n",
        "        return 'LT'\n",
        "    if('BU' in unit) | ('Bushel' in unit): #bushels\n",
        "        return 'BU'\n",
        "    if('KG' in unit):\n",
        "        return 'KG'\n",
        "    if('GR' in unit): #grams\n",
        "        return 'GR'\n",
        "    if('ML' in unit): #milliliters\n",
        "        return 'ML'\n",
        "    if('CN' in unit) | ('Can' in unit):\n",
        "        return 'CN'\n",
        "    if('BOTTLE CASE' in unit):\n",
        "        return 'Bottle Case'\n",
        "    return None\n",
        "#Notes: Bottle Case is 64 oz each, find # of can and translate to oz, anything with EA is not included for now (~9000)\n",
        "DiningDataFull['Unit'] = DiningDataFull.apply(lambda d: unit_rename(d['Unit']), axis = 1)\n",
        "\n",
        "#convert cans to OZ\n",
        "#using estimates for weight of cans through https://food.unl.edu/article/how-interpret-can-size-numbers\n",
        "DiningDataFull = DiningDataFull.replace({'#10 CN' : '110.5 OZ'}, regex = True)\n",
        "DiningDataFull = DiningDataFull.replace({'#10 Can' : '110.5 OZ'}, regex = True)\n",
        "DiningDataFull = DiningDataFull.replace({'#300 CN' : '15 OZ'}, regex = True)\n",
        "DiningDataFull = DiningDataFull.replace({'CN' : 'OZ'})\n",
        "#convert bottle case to OZ\n",
        "DiningDataFull = DiningDataFull.replace({' Bottle Case' : '/64 OZ'}, regex = True)\n",
        "DiningDataFull = DiningDataFull.replace({'BOTTLE CASE' : 'OZ'})\n",
        "\n",
        "#extract clean item names\n",
        "#make everything uppercase and remove zz's in front of some of the item descriptions\n",
        "DiningDataFull['Vendor Item Description'] = DiningDataFull['Vendor Item Description'].str.upper()\n",
        "DiningDataFull['Vendor Item Description'] = DiningDataFull['Vendor Item Description'].apply(lambda x: re.sub(r'^ZZ ', '', x))\n",
        "DiningDataFull['Vendor Item'] = DiningDataFull['Vendor Item Description'].str.extract(r'(.*),')\n",
        "DiningDataFull['Vendor Item'] = DiningDataFull['Vendor Item'].str.upper()\n",
        "print(DiningDataFull.head())"
      ],
      "metadata": {
        "colab": {
          "base_uri": "https://localhost:8080/"
        },
        "id": "RPuQ7DJMOeH3",
        "outputId": "5065d3cd-f084-4b53-926f-dad0a76c741b"
      },
      "execution_count": 106,
      "outputs": [
        {
          "output_type": "stream",
          "name": "stdout",
          "text": [
            "     Unit Name    Vendor Purchase Date Vendor Item ID  \\\n",
            "0  Marketplace  US Foods    2019-07-01        5018999   \n",
            "1  Marketplace  US Foods    2019-07-01        5400692   \n",
            "2  Marketplace  US Foods    2019-07-01        8012643   \n",
            "3  Marketplace  US Foods    2019-07-01         731349   \n",
            "4  Marketplace  US Foods    2019-07-01          68106   \n",
            "\n",
            "                             Vendor Item Description  \\\n",
            "0  POTATO, FRENCH-FRY 3/4 X3/8 STEAK CUT SKIN-ON ...   \n",
            "1  POTATO, FRENCH-FRY SPIRAL COATED SEASONED TFF ...   \n",
            "2  POTATO, FRENCH-FRY 1/2 CRINKLE-CUT TFF EXTRA-L...   \n",
            "3                POTATO, HASH BROWN SHRED COOKED REF   \n",
            "4    POTATO, TATER NUGGET PARFRIED FROZEN HASH BROWN   \n",
            "\n",
            "  Vendor Item Purchase Unit                              Product Group  \\\n",
            "0                    6/5 LB  APPETIZERS, ENTREES, & POTATOES REF & FZN   \n",
            "1                    6/5 LB  APPETIZERS, ENTREES, & POTATOES REF & FZN   \n",
            "2                  6/4.5 LB  APPETIZERS, ENTREES, & POTATOES REF & FZN   \n",
            "3                   2/10 LB  APPETIZERS, ENTREES, & POTATOES REF & FZN   \n",
            "4                    6/5 LB  APPETIZERS, ENTREES, & POTATOES REF & FZN   \n",
            "\n",
            "                Brand  Receive Quantity Priority 1 Priority 2 Priority 3 Unit  \\\n",
            "0  LW PRIVATE RESERVE              44.0        NaN        NaN        NaN   LB   \n",
            "1      LAMBS SEASONED              15.0        NaN        NaN        NaN   LB   \n",
            "2       LAMBS SUPREME              15.0        NaN        NaN        NaN   LB   \n",
            "3  CROSS VALLEY FARMS              20.0        NaN        NaN        NaN   LB   \n",
            "4             MONARCH              10.0        NaN        NaN        NaN   LB   \n",
            "\n",
            "  Vendor Item  \n",
            "0      POTATO  \n",
            "1      POTATO  \n",
            "2      POTATO  \n",
            "3      POTATO  \n",
            "4      POTATO  \n"
          ]
        }
      ]
    },
    {
      "cell_type": "markdown",
      "source": [
        "---\n",
        "Make a new column called `Total Amount` for the total amount of food in the current unit of measurement, before converting to grams. Make a new column called `Total Amount(g)` for converting all units to the equivalent value in grams, then filter out main descriptor word(s) in `Vendor Item Description` into a new column called `Food Name`.\n",
        "\n",
        "---\n",
        "\n",
        "Take the column with units in grams and multiply by the `Receive Quantity` if provided into a new column called `Total Grams`. If there is no value in `Receive Quantity`, then assume it is the value 1.\n",
        "\n",
        "---\n",
        "Note on Conversions: Most of these conversions are estimated to the nearest tenth. **More accurate calculations can be found later**\n",
        "\n",
        "---"
      ],
      "metadata": {
        "id": "PQbuaCZyGnUQ"
      }
    },
    {
      "cell_type": "code",
      "source": [
        "#@title DDReduced and DDReducedLabeled\n",
        "#make a new dataset for just entries with known units\n",
        "DDReduced = DiningDataFull[DiningDataFull['Unit'].notna()]\n",
        "#print(DDReduced.head())\n",
        "\n",
        "#make csv to manually edit unclean entries\n",
        "#DDReduced.to_csv('DDReduced.csv', encoding = 'utf-8-sig')\n",
        "#files.download('DDReduced.csv')\n",
        "\n",
        "DDReducedLabeled = pd.read_csv('/content/drive/MyDrive/Data+/DDReducedLabeled.csv')\n",
        "\n",
        "DDReducedLabeled['Purchase Date'] = DDReducedLabeled.apply(lambda d: datetime.strptime(d['Purchase Date'], '%m/%d/%Y').date(), axis = 1)"
      ],
      "metadata": {
        "id": "uwPR4JriY-bM",
        "cellView": "form"
      },
      "execution_count": 107,
      "outputs": []
    },
    {
      "cell_type": "code",
      "source": [
        "#@title Find total amount of food\n",
        "#find total amount of food in original unit before converting to grams\n",
        "DDReduced = DDReduced.copy()\n",
        "DDReduced['Total Amount'] = DDReduced['Vendor Item Purchase Unit'].str.extract(r'^[a-zA-Z]* ?-?/? ?([0-9]*/?[0-9.]*-?[0-9.]*)')\n",
        "DDReduced['Range'] = DDReduced['Total Amount'].str.extract(r'([0-9.]*-[0-9.]*)')\n",
        "DDReduced['Range'] = DDReduced['Range'].astype(str)\n",
        "DDReduced['Range'] = DDReduced['Range'].replace({'nan' : '0'})\n",
        "DDReduced['Range Average'] = DDReduced['Range'].replace({'-' : '+'}, regex = True)\n",
        "DDReduced['Range Average'] = DDReduced.apply(lambda d: eval(d['Range Average']), axis = 1)\n",
        "DDReduced['Range Average'] /= 2\n",
        "\n",
        "has_slash = ~(DDReduced['Total Amount'].str.contains('/')) & (DDReduced['Total Amount'].str.len() > 0)\n",
        "DDReduced.loc[has_slash, 'Total Amount'] = (\n",
        "    '1/' + DDReduced.loc[has_slash, 'Total Amount']\n",
        ")\n",
        "\n",
        "has_range = DDReduced['Total Amount'].str.contains('-')\n",
        "DDReduced.loc[has_range, 'Total Amount'] = (\n",
        "    DDReduced.loc[has_range, 'Total Amount'].str.split('/').str[0]\n",
        "    + '/'\n",
        "    + DDReduced.loc[has_range, 'Range Average'].astype(str)\n",
        ")\n",
        "\n",
        "just_unit = (DDReduced['Total Amount'] == '') & ~(DDReduced['Vendor Item Purchase Unit'].isna())\n",
        "DDReduced.loc[just_unit, 'Total Amount'] = '1'\n",
        "\n",
        "DDReduced = DDReduced.drop(['Range', 'Range Average'], axis = 1)\n",
        "\n",
        "DDReduced['Total Amount'] = DDReduced['Total Amount'].replace({'' : '0'})\n",
        "DDReduced['Receive Quantity'] = DDReduced['Receive Quantity'].fillna(0)\n",
        "DDReduced = DDReduced[DDReduced['Receive Quantity'] != 0] #get rid of any rows that were not received\n",
        "DDReduced['Total Amount'] = DDReduced['Total Amount'].replace({'/' : '*'}, regex = True)\n",
        "DDReduced['Total Amount'] = DDReduced.apply(lambda d: eval(d['Total Amount']), axis = 1)\n",
        "DDReduced['Total Amount'] = DDReduced['Total Amount'].astype(float) * DDReduced['Receive Quantity'].astype(float)"
      ],
      "metadata": {
        "cellView": "form",
        "id": "sbvWefOrZl4A"
      },
      "execution_count": 108,
      "outputs": []
    },
    {
      "cell_type": "code",
      "source": [
        "#@title Convert all units to grams\n",
        "def convert_units(row):\n",
        "    if row['Unit'] == 'LB':\n",
        "        return row['Total Amount'] * 453.6\n",
        "    if row['Unit'] == 'OZ':\n",
        "        return row['Total Amount'] * 28.35\n",
        "    if row['Unit'] == 'GA':\n",
        "        return row['Total Amount'] * 3785.4 #assuming density of water, most drinks are MORE dense so number is underestimate\n",
        "    if row['Unit'] == 'QT':\n",
        "        return row['Total Amount'] * 3785.4 / 4\n",
        "    if row['Unit'] == 'PT':\n",
        "        return row['Total Amount'] * 3785.4 / 8\n",
        "    if (row['Unit'] == 'LT') | (row['Unit'] == 'KG'):\n",
        "        return row['Total Amount'] * 1000 #also assuming density of water, most drinks MORE dense\n",
        "    if (row['Unit'] == 'ML') | (row['Unit'] == 'G'):\n",
        "        return row['Total Amount'] * 453.6\n",
        "    return 0\n",
        "DDReduced['Total Amount(kg)'] = DDReduced.apply(convert_units, axis = 1) / 1000\n",
        "\n",
        "#modify `Product Group` column\n",
        "DDReduced = DDReduced[DDReduced['Product Group'].notna()]\n",
        "DDReduced['Product Group'] = DDReduced['Product Group'].str.upper() #make uppercase to simplify code"
      ],
      "metadata": {
        "id": "YnLSVqA0I4K4"
      },
      "execution_count": 109,
      "outputs": []
    },
    {
      "cell_type": "code",
      "source": [
        "#@title Excluded rows\n",
        "print(\"Excluded rows: \", DiningDataFull.shape[0] - DDReduced.shape[0])\n",
        "#print(DDReduced.head())"
      ],
      "metadata": {
        "colab": {
          "base_uri": "https://localhost:8080/"
        },
        "cellView": "form",
        "id": "dnbKU7U_bOZU",
        "outputId": "b6640e07-0fee-4768-f2a0-aca4ee07447c"
      },
      "execution_count": 110,
      "outputs": [
        {
          "output_type": "stream",
          "name": "stdout",
          "text": [
            "Excluded rows:  17161\n"
          ]
        }
      ]
    },
    {
      "cell_type": "markdown",
      "source": [
        "---\n",
        "#NLP\n",
        "\n",
        "Come back later and try this, too difficult for now\n",
        "---"
      ],
      "metadata": {
        "id": "Bzh6JeBvnyts"
      }
    },
    {
      "cell_type": "code",
      "source": [
        "#@title NLP packages\n",
        "# from google.colab import files\n",
        "# from sklearn.model_selection import train_test_split\n",
        "# from sklearn.feature_extraction.text import CountVectorizer\n",
        "# from sklearn.preprocessing import LabelEncoder\n",
        "# from sklearn.ensemble import RandomForestClassifier\n",
        "# from sklearn.metrics import classification_report"
      ],
      "metadata": {
        "id": "YbF2KcFuoBlJ",
        "cellView": "form"
      },
      "execution_count": 111,
      "outputs": []
    },
    {
      "cell_type": "code",
      "source": [
        "#@title NLP labeled data\n",
        "#Create training set with ~10000 random entries\n",
        "#DDtest = DDReduced.sample(10000)\n",
        "#DDtest.to_csv('DDtest.csv', encoding = 'utf-8-sig')\n",
        "#files.download('DDtest.csv')\n",
        "\n",
        "# DDLabeled = pd.read_csv('DDLabeled.csv')\n",
        "\n",
        "# print(DDLabeled.head())\n",
        "\n",
        "#Notes on labels:\n",
        "#syrup is 2/3 sugar 1/3 water for emissions\n",
        "#many vegetables are labeled \"Leafy greens\" for now\n",
        "#smoothies are labeled smoothie for now, can find fruits in each or average smoothie emissions later\n",
        "#mushrooms need emissions numbers\n",
        "#fruit is used to label misc less-common fruits\n",
        "#avocados need emission numbers\n",
        "#dressings need emission numbers\n",
        "#squashes need emission numbers"
      ],
      "metadata": {
        "id": "iQTPLgACnybR",
        "cellView": "form"
      },
      "execution_count": 112,
      "outputs": []
    },
    {
      "cell_type": "code",
      "source": [
        "#@title NLP model\n",
        "# import tensorflow as tf\n",
        "# from tensorflow.keras.preprocessing.text import Tokenizer\n",
        "# from tensorflow.keras.preprocessing.sequence import pad_sequences\n",
        "# from sklearn.preprocessing import LabelEncoder\n",
        "\n",
        "# # Preprocess the data\n",
        "# text_data = DDLabeled['Vendor Item Description']\n",
        "# labels = DDLabeled['Product Group']\n",
        "\n",
        "# # Label encode the target variable\n",
        "# label_encoder = LabelEncoder()\n",
        "# labels = label_encoder.fit_transform(labels)\n",
        "\n",
        "# # Tokenize the text data\n",
        "# tokenizer = Tokenizer()\n",
        "# tokenizer.fit_on_texts(text_data)\n",
        "# vocab_size = len(tokenizer.word_index) + 1\n",
        "\n",
        "# # Convert text to sequences\n",
        "# sequences = tokenizer.texts_to_sequences(text_data)\n",
        "\n",
        "# # Pad sequences to have equal length\n",
        "# max_sequence_length = max(len(seq) for seq in sequences)\n",
        "# padded_sequences = pad_sequences(sequences, maxlen=max_sequence_length)\n",
        "\n",
        "# # Split the data into training and testing sets\n",
        "# train_size = int(0.8 * len(padded_sequences))\n",
        "# train_text = padded_sequences[:train_size]\n",
        "# train_labels = labels[:train_size]\n",
        "# test_text = padded_sequences[train_size:]\n",
        "# test_labels = labels[train_size:]\n",
        "\n",
        "# # Define the neural network architecture\n",
        "# model = tf.keras.Sequential([\n",
        "#     tf.keras.layers.Embedding(vocab_size, 100, input_length=max_sequence_length),\n",
        "#     tf.keras.layers.LSTM(64),\n",
        "#     tf.keras.layers.Dense(64, activation='relu'),\n",
        "#     tf.keras.layers.Dense(len(label_encoder.classes_), activation='softmax')\n",
        "# ])\n",
        "\n",
        "# # Compile the model\n",
        "# model.compile(loss='sparse_categorical_crossentropy', optimizer='adam', metrics=['accuracy'])\n",
        "\n",
        "# # Train the model\n",
        "# model.fit(train_text, train_labels, epochs=20, batch_size=32, validation_data=(test_text, test_labels))"
      ],
      "metadata": {
        "id": "9Wyc352gcUYL",
        "cellView": "form"
      },
      "execution_count": 113,
      "outputs": []
    },
    {
      "cell_type": "code",
      "source": [
        "#@title NLP testing\n",
        "# # Evaluate the model\n",
        "# loss, accuracy = model.evaluate(test_text, test_labels)\n",
        "# print('Test Loss:', loss)\n",
        "# print('Test Accuracy:', accuracy)\n",
        "\n",
        "# # Make predictions on new data\n",
        "# new_text = ['BEET, WHOLE PEELED COOKED 17.6 OZ VACUUM-PACK REF', 'BEIGELS CHALLAH']\n",
        "# new_sequences = tokenizer.texts_to_sequences(new_text)\n",
        "# new_padded_sequences = pad_sequences(new_sequences, maxlen=max_sequence_length)\n",
        "# predictions = model.predict(new_padded_sequences)\n",
        "# predicted_labels = label_encoder.inverse_transform(tf.argmax(predictions, axis=1))\n",
        "# print('Predicted Labels:', predicted_labels)"
      ],
      "metadata": {
        "id": "7rij9QdMz9am",
        "cellView": "form"
      },
      "execution_count": 114,
      "outputs": []
    },
    {
      "cell_type": "code",
      "source": [
        "#@title Copy manually labeled data\n",
        "#last time manually labeled was 6/21/23\n",
        "DDReduced = DDReducedLabeled"
      ],
      "metadata": {
        "id": "5Fd0Apt5cnWe",
        "cellView": "form"
      },
      "execution_count": 115,
      "outputs": []
    },
    {
      "cell_type": "code",
      "source": [
        "#@title Explore labeled data\n",
        "#print(DDReduced['Vendor Item'].value_counts())\n",
        "#print(DDReduced['Vendor Item Grouped'].value_counts()[:75])"
      ],
      "metadata": {
        "id": "Vn_NbAfJ60cf",
        "cellView": "form"
      },
      "execution_count": 116,
      "outputs": []
    },
    {
      "cell_type": "code",
      "source": [
        "#@title Item name cleaning\n",
        "DDReduced['Vendor Item Grouped'] = DDReduced['Vendor Item']\n",
        "\n",
        "def group_items(item):\n",
        "    if(item == 'POTATO') | (item == 'CARROT') | (item == 'ONION') | \\\n",
        "      (item == 'SWEET POTATO') | (item == 'GARLIC') | (item == 'BEET') | \\\n",
        "      (item == 'TURNIP') | (item == 'YUCCA') | (item == 'RADISH') | \\\n",
        "      (item == 'SWEET POTATO PIE') | (item == 'POTATO SALAD') | \\\n",
        "      (item == 'SHALLOT') | (item == 'HORSERADISH') | (item == 'JICAMA') | \\\n",
        "      (item == 'RUTABAGA') | (item == 'SAMOSA') | (item == 'POTATO STARCH') | \\\n",
        "      (item == 'LATKE') | (item == 'CHIP'):\n",
        "        return 'ROOT VEGETABLE'\n",
        "\n",
        "    if(item == 'CEREAL') | (item == 'FLOUR') | (item == 'CORN STARCH') | \\\n",
        "      (item == 'QUINOA') | (item == 'CORNMEAL') | (item == 'BARLEY') | \\\n",
        "      (item == 'SUNFLOWER SEED') | (item == 'YEAST') | (item == 'CRACKER') | \\\n",
        "      (item == 'FARRO') | (item == 'PUMPKIN SEED') | (item == 'WHEAT') | \\\n",
        "      (item == 'FLAX') | (item == 'CHIA SEED') | (item == 'SNACK BAR'):\n",
        "        return 'GRAIN'\n",
        "\n",
        "    if(item == 'MUFFIN') | (item == 'CAKE') | (item == 'BAGEL') | \\\n",
        "      (item == 'CROISSANT') | (item == 'BISCUIT') | (item == 'DONUT') | \\\n",
        "      (item == 'DANISH') | (item == 'PANCAKE') | (item == 'HUSH PUPPY') | \\\n",
        "      (item == 'WAFFLE') | (item == 'BREADER') | (item == 'SCONE') | \\\n",
        "      (item == 'PIE CRUST') | (item == 'STUFFING') | (item == 'CROUTON') | \\\n",
        "      (item == 'CORNBREAD') | (item == 'CHURRO') | (item == 'DOUGH') | \\\n",
        "      (item == 'BABKA') | (item == 'MATZO') | (item == 'DESSERT BAR') | \\\n",
        "      (item == 'SANDWICH') | (item == 'PRETZEL') | (item == 'RUGALACH') | \\\n",
        "      (item == 'BOUREKAS') | (item == 'CHEESE PIZZA') | \\\n",
        "      (item == 'BOSTOM CREAM PIE') | (item == 'COOKIE'):\n",
        "        return 'BREAD'\n",
        "\n",
        "    if(item == 'TOMATO') | (item == 'STRAWBERRY') | (item == 'APPLE') | \\\n",
        "      (item == 'BANANA') | (item == 'ORANGE') | (item == 'GRAPEFRUIT') | \\\n",
        "      (item == 'BLUEBERRY') | (item == 'MANGO') | (item == 'FRUIT MIX') | \\\n",
        "      (item == 'STRAWBERRY BANANA') | (item == 'STRAWBERRY PIE') | \\\n",
        "      (item == 'CRANBERRY') | (item == 'PEACH') | (item == 'ORANGE MANGO') | \\\n",
        "      (item == 'BERRY MIX') | (item == 'LIME') | (item == 'PLANTAIN') | \\\n",
        "      (item == 'APPLE PIE') | (item == 'ORANGE PEACH') | (item == 'AVOCADO') | \\\n",
        "      (item == 'LEMON') | (item == 'LIME PIE') | (item == 'CHERRY PIE') | \\\n",
        "      (item == 'APRICOT') | (item == 'COCONUT') | (item == 'BLACKBERRY') | \\\n",
        "      (item == 'STRAWBERRY KIWI') | (item == 'RASPBERRY') | (item == 'PEAR') | \\\n",
        "      (item == 'BANANA PUDDING') | (item == 'PEACH PIE') | \\\n",
        "      (item == 'BLUEBERRY PIE') | (item == 'CHERRY') | (item == 'FIG') | \\\n",
        "      (item == 'RAISIN') | (item == 'LEMON LIME') | (item == 'PINEAPPLE') | \\\n",
        "      (item == 'LEMON PIE') | (item == 'PUMPKIN PIE') | (item == 'GRAPE') | \\\n",
        "      (item == 'WATERMELON') | (item == 'CHUTNEY') | (item == 'DATE') | \\\n",
        "      (item == 'POMEGRANATE') | (item == 'BANANA PIE') | (item == 'KIWI') | \\\n",
        "      (item == 'APPLE CIDER') | (item == 'BLUEBERRY POMEGRANATE') | \\\n",
        "      (item == 'STAR FRUIT') | (item == 'FRUIT PUNCH') | \\\n",
        "      (item == 'CHAROSET') | (item == 'PAPAYA'):\n",
        "        return 'FRUIT'\n",
        "\n",
        "    if(item == 'SEASONING') | (item == 'BASIL') | (item == 'PARSLEY') | \\\n",
        "      (item == 'CILANTRO') | (item == 'SALT') | (item == 'GINGER') | \\\n",
        "      (item == 'FLAVORING') | (item == 'THYME') | (item == 'ROSEMARY') | \\\n",
        "      (item == 'MINT') | (item == 'MUSTARD GREENS') | (item == 'CHIVE') | \\\n",
        "      (item == 'SAGE') | (item == 'OREGANO') | (item == 'LEMONGRASS') | \\\n",
        "      (item == 'PARSNIP') | (item == 'TARRAGON') | (item == 'FENNEL') | \\\n",
        "      (item == 'CURRY BASE'):\n",
        "        return 'SPICES'\n",
        "\n",
        "    if(item == 'SAUCE') | (item == 'DRESSING') | (item == 'MAYONNAISE') | \\\n",
        "      (item == 'KETCHUP') | (item == 'SPREAD') | (item == 'TOPPING') | \\\n",
        "      (item == 'SALSA') | (item == 'MUSTARD') | (item == 'JAM'):\n",
        "        return 'CONDIMENTS'\n",
        "\n",
        "    if(item == 'LETTUCE') | (item == 'BELL PEPPER') | (item == 'BROCCOLI') | \\\n",
        "      (item == 'VEGETABLE MIX') | (item == 'CORN') | (item == 'SQUASH') | \\\n",
        "      (item == 'ZUCCHINI') | (item == 'SPINACH') | (item == 'ASPARAGUS') | \\\n",
        "      (item == 'CUCUMBER') | (item == 'CAULIFLOWER') | (item == 'CABBAGE') | \\\n",
        "      (item == 'BOK CHOY') | (item == 'PICKLE') | (item == 'JALAPENO') | \\\n",
        "      (item == 'LASAGNA (VEGGIE)') | (item == 'BRUSSEL SPROUT') | \\\n",
        "      (item == 'JALAPENO PEPPER') | (item == 'COLLARD GREENS') | \\\n",
        "      (item == 'OKRA') | (item == 'BANANA PEPPER') | (item == 'EGGPLANT') | \\\n",
        "      (item == 'ARTICHOKE') | (item == 'CHILI PEPPER') | (item == 'RELISH') | \\\n",
        "      (item == 'CHIPOTLE PEPPER') | (item == 'COLESLAW') | (item == 'KALE') | \\\n",
        "      (item == 'WATER CHESTNUT') | (item == 'POBLANO PEPPER') | \\\n",
        "      (item == 'ARUGULA') | (item == 'SQUASH RAVIOLI') | (item == 'OLIVE') | \\\n",
        "      (item == 'CELERY') | (item == 'SPROUT') | (item == 'GOURD') | \\\n",
        "      (item == 'HEART OF PALM') | (item == 'POPCORN') | \\\n",
        "      (item == 'HABANERO PEPPER') | (item == 'SERRANO PEPPER') | \\\n",
        "      (item == 'THAI PEPPER') | (item == 'BEAN SPROUT') | \\\n",
        "      (item == 'TOMATILLO PEPPER') | (item == 'ENDIVE') | (item == 'BAMBOO') | \\\n",
        "      (item == 'PEPPERONCINI') | (item == 'SEAWEED') | (item == 'EGG ROLL') | \\\n",
        "      (item == 'SPRING ROLL'):\n",
        "        return 'VEGETABLE'\n",
        "\n",
        "    if(item == 'BEAN') | (item == 'HUMMUS') | (item == 'GREEN BEAN') | \\\n",
        "      (item == 'PEA') | (item == 'CHICKPEA') | (item == 'EDAMAME') | \\\n",
        "      (item == 'LENTIL') | (item == 'FALAFEL') | (item == 'PEANUT BUTTER') | \\\n",
        "      (item == 'CAPER') | (item == 'PECAN PIE'):\n",
        "        return 'LEGUMES'\n",
        "\n",
        "    if(item == 'CHICKEN') | (item == 'TURKEY') | (item == 'DUCK') | \\\n",
        "      (item == 'CHICKEN SALAD') | (item == 'CHICKEN TAMALE'):\n",
        "        return 'POULTRY'\n",
        "\n",
        "    if(item == 'SYRUP') | (item == 'HONEY') | (item == 'VANILLA EXTRACT') | \\\n",
        "      (item == 'MARSHMALLOW') | (item == 'ICING') | (item == 'CANDY') | \\\n",
        "      (item == 'POPSICLE') | (item == 'SPRINKLES') | (item == 'SHERBET') | \\\n",
        "      (item == 'SORBET') | (item == 'MOLASSES') | (item == 'GELATO'):\n",
        "        return 'SUGAR'\n",
        "\n",
        "    if(item == 'BEEF SUB') | (item == 'CHICKEN SUB') | \\\n",
        "      (item == 'HOT DOG SUB'):\n",
        "        return 'MEAT SUB'\n",
        "\n",
        "    if(item == 'MILK SOY') | (item == 'MILK OAT') | (item == 'MILK COCONUT') | \\\n",
        "      (item == 'MILK ALMOND') | (item == 'MILK RICE'):\n",
        "        return 'MILK SUB'\n",
        "\n",
        "    if(item == 'HAM') | (item == 'CORN DOG') | (item == 'CHORIZO') | \\\n",
        "      (item == 'PEA SOUP W/ HAM'):\n",
        "        return 'PORK'\n",
        "\n",
        "    if(item == 'SHRIMP') | (item == 'SALMON') | (item == 'COD') | \\\n",
        "      (item == 'CATFISH') | (item == 'MAHI MAHI') | (item == 'FLOUNDER') | \\\n",
        "      (item == 'TUNA') | (item == 'CRAB') | (item == 'SCALLOP') | \\\n",
        "      (item == 'POLLOCK') | (item == 'GROUPER') | (item == 'LOBSTER') | \\\n",
        "      (item == 'MUSSEL') | (item == 'CLAM') | (item == 'SURIMI') | \\\n",
        "      (item == 'CLAM JUICE') | (item == 'TILAPIA') | (item == 'WHITING') | \\\n",
        "      (item == 'WHITEFISH') | (item == 'CROAKER') | (item == 'HADDOCK') | \\\n",
        "      (item == 'CRAWFISH'):\n",
        "        return 'SEAFOOD'\n",
        "\n",
        "    if(item == 'ICE CREAM') | (item == 'SOUR CREAM') | \\\n",
        "      (item == 'VANILLA PUDDING') | (item == 'PUDDING') | \\\n",
        "      (item == 'COOKIES & CREAM PIE'):\n",
        "        return 'CREAM'\n",
        "\n",
        "    if(item == 'NOODLE') | (item == 'MANICOTTI') | (item == 'PASTA SALAD') | \\\n",
        "      (item == 'TORTELLINI') | (item == 'MACARONI SALAD') | \\\n",
        "      (item == 'CHEESE RAVIOLI') | (item == 'FLORENTINE RAVIOLI'):\n",
        "        return 'PASTA'\n",
        "\n",
        "    if(item == 'PEPPERONI') | (item == 'SALAMI'):\n",
        "        return 'SAUSAGE'\n",
        "\n",
        "    if(item == 'CLEANING'):\n",
        "        return 'NOT FOOD'\n",
        "\n",
        "    if(item == 'MOUSSE') | (item == 'CHOCOLATE PIE'):\n",
        "        return 'CHOCOLATE'\n",
        "\n",
        "    if(item == 'LASAGNA (MEAT)') | (item == 'PASTRAMI') | (item == 'MEATBALL'):\n",
        "        return 'BEEF'\n",
        "\n",
        "    if(item == 'MUSHROOM RAVIOLI') | (item == 'MUSHROOM SOUP'):\n",
        "        return 'MUSHROOM'\n",
        "\n",
        "    if(item == 'MARGARINE'):\n",
        "        return 'BUTTER'\n",
        "\n",
        "    if(item == 'EGG SALAD'):\n",
        "        return 'EGG'\n",
        "\n",
        "    if(item == 'CRAB SOUP') | (item == 'CLAM SOUP') | (item == 'LOBSTER SOUP'):\n",
        "        return 'SEAFOOD SOUP'\n",
        "\n",
        "    if(item == 'CORN SOUP'):\n",
        "        return 'VEGETABLE SOUP'\n",
        "\n",
        "    return item\n",
        "\n",
        "def food_group(item):\n",
        "    if(item == 'FRUIT'):\n",
        "        return 'FRUITS'\n",
        "\n",
        "    if(item == 'VEGETABLE') | (item == 'ROOT VEGETABLE') | (item == 'OIL') | \\\n",
        "      (item == 'LEGUMES') | (item == 'OIL') | (item == 'MUSHROOM') | \\\n",
        "      (item == 'VEGETABLE BASE') | (item == 'VEGETABLE SOUP'):\n",
        "        return 'VEGETABLES'\n",
        "\n",
        "    if(item == 'GRAIN') | (item == 'BREAD') | (item == 'PASTA') | \\\n",
        "      (item == 'RICE'):\n",
        "        return 'GRAINS'\n",
        "\n",
        "    if(item == 'BEEF') | (item == 'PORK') | (item == 'EGG') | \\\n",
        "      (item == 'POULTRY') | (item == 'SEAFOOD') | (item == 'MEAT SUB') | \\\n",
        "      (item == 'TOFU') | (item == 'SEAFOOD SOUP') | (item == 'SAUSAGE') | \\\n",
        "      (item == 'CHICKEN BASE') | (item == 'TEMPEH') | (item == 'BEEF BASE') | \\\n",
        "      (item == 'LAMB') | (item == 'GYRO MEAT') | (item == 'SEAFOOD BASE') | \\\n",
        "      (item == 'CHICKEN SOUP'):\n",
        "        return 'PROTEINS'\n",
        "\n",
        "    if(item == 'CREAM') | (item == 'BUTTER') | (item == 'MILK') | \\\n",
        "      (item == 'CHEESE') | (item == 'YOGURT') | (item == 'MILK SUB') | \\\n",
        "      (item == 'CHOCOLATE') | (item == 'CHEESE SUB'):\n",
        "        return 'DAIRY'\n",
        "\n",
        "    if(item == 'SODA') | (item == 'COFFEE') | (item == 'WATER') | \\\n",
        "      (item == 'WINE') | (item == 'TEA BAG'):\n",
        "        return 'BEVERAGES'\n",
        "\n",
        "    if(item == 'CONDIMENTS') | (item == 'SPICES') | (item == 'SUGAR') | \\\n",
        "      (item == 'VINEGAR') | (item == 'SUGAR SUB'):\n",
        "        return 'MISC'\n",
        "\n",
        "DDReduced['Vendor Item Grouped'] = DDReduced.apply(lambda d: group_items(d['Vendor Item']), axis = 1)\n",
        "DDReduced['Food Group'] = DDReduced.apply(lambda d: food_group(d['Vendor Item Grouped']), axis = 1)"
      ],
      "metadata": {
        "id": "QCCi_esIeP8z"
      },
      "execution_count": 117,
      "outputs": []
    },
    {
      "cell_type": "code",
      "source": [
        "#@title Load emissions csv and create emission ratio variables\n",
        "#read csv here when done\n",
        "#_______________________\n",
        "\n",
        "#CURRENT VALUES: from Carbon Emissions Spreadsheet (6/30/23)\n",
        "#er = emissions ratio\n",
        "vegetable_er = 2\n",
        "fruit_er = 1.1\n",
        "bread_er = 1.5\n",
        "root_vegetable_er = .21\n",
        "condiments_er = 3.5\n",
        "poultry_er = 5.05\n",
        "cheese_er = 15.2 #sarah bridle\n",
        "spices_er = .87\n",
        "legumes_er = 1.8 #sarah bridle beans and pulses\n",
        "grain_er = .226\n",
        "pork_er = 10.2 #sarah bridle\n",
        "beef_er = 43.7 #sarah bridle\n",
        "#beef_er = 26.45 #heller\n",
        "yogurt_er = 2.02\n",
        "milk_er = 2.5 #sarah bridle\n",
        "seafood_er = 5.72 #average of seafood, update Master spreadsheet\n",
        "sugar_er = 2.055\n",
        "oil_er = 3.16\n",
        "mushroom_er = 2.54\n",
        "cream_er = 3.77\n",
        "pasta_er = 1.505\n",
        "meat_sub_er = 2.19\n",
        "egg_er = 3.7 #sarah bridle\n",
        "milk_sub_er = .92\n",
        "rice_er = 2.6 #sarah bridle\n",
        "tofu_er = 2.1 #sarah bridle\n",
        "chocolate_er = 4.56\n",
        "water_er = .46\n",
        "soda_er = .5 * sugar_er + .5 * water_er #change later\n",
        "coffee_er = 0 #update later\n",
        "butter_er = 11.92\n",
        "sausage_er = .5 * beef_er + .5 * pork_er\n",
        "vegetable_base_er = (1/68) * vegetable_er + (67/68) * water_er\n",
        "wine_er = 1.1 #sarah bridle\n",
        "vinegar_er = 2.24\n",
        "tea_bag_er = 32.9\n",
        "chicken_base_er = (1/68) * poultry_er + (67/68) * water_er\n",
        "tempeh_er = .486\n",
        "beef_base_er = (1/68) * beef_er + (67/68) * water_er\n",
        "seafood_base_er = (1/68) * seafood_er + (67/68) * water_er\n",
        "seafood_soup_er = .05 * seafood_er + .95 * seafood_base_er\n",
        "cheese_sub_er = 0 #replace later\n",
        "vegetable_soup_er = .05 * vegetable_er + .95 * vegetable_base_er\n",
        "lamb_er = 22.9\n",
        "gyro_meat_er = .8 * beef_er + .2 * lamb_er\n",
        "sugar_sub_er = .21\n",
        "chicken_soup_er = .05 * poultry_er + .95 * chicken_base_er\n",
        "#replace values with soft-coded values later"
      ],
      "metadata": {
        "id": "hRVwXabqo36T"
      },
      "execution_count": 118,
      "outputs": []
    },
    {
      "cell_type": "code",
      "source": [
        "#@title Calculate Carbon Emissions\n",
        "#only meats, meat alternatives, and eggs done so far\n",
        "#print(DDReduced['Product Group'].value_counts())\n",
        "\n",
        "def calc_emissions(row):\n",
        "    if row['Vendor Item Grouped'] == 'VEGETABLE':\n",
        "        return row['Total Amount(kg)'] * vegetable_er\n",
        "    if row['Vendor Item Grouped'] == 'FRUIT':\n",
        "        return row['Total Amount(kg)'] * fruit_er\n",
        "    if row['Vendor Item Grouped'] == 'BREAD':\n",
        "        return row['Total Amount(kg)'] * bread_er\n",
        "    if row['Vendor Item Grouped'] == 'ROOT VEGETABLE':\n",
        "        return row['Total Amount(kg)'] * root_vegetable_er\n",
        "    if row['Vendor Item Grouped'] == 'CONDIMENTS':\n",
        "        return row['Total Amount(kg)'] * condiments_er\n",
        "    if (row['Vendor Item Grouped'] == 'POULTRY'):\n",
        "        return row['Total Amount(kg)'] * poultry_er\n",
        "    if row['Vendor Item Grouped'] == 'CHEESE':\n",
        "        return row['Total Amount(kg)'] * cheese_er\n",
        "    if row['Vendor Item Grouped'] == 'SPICES':\n",
        "        return row['Total Amount(kg)'] * spices_er\n",
        "    if row['Vendor Item Grouped'] == 'LEGUMES':\n",
        "        return row['Total Amount(kg)'] * legumes_er\n",
        "    if row['Vendor Item Grouped'] == 'GRAIN':\n",
        "        return row['Total Amount(kg)'] * grain_er\n",
        "    if row['Vendor Item Grouped'] == 'PORK':\n",
        "        return row['Total Amount(kg)'] * pork_er\n",
        "    if row['Vendor Item Grouped'] == 'BEEF':\n",
        "        return row['Total Amount(kg)'] * beef_er\n",
        "    if row['Vendor Item Grouped'] == 'YOGURT':\n",
        "        return row['Total Amount(kg)'] * yogurt_er\n",
        "    if row['Vendor Item Grouped'] == 'MILK':\n",
        "        return row['Total Amount(kg)'] * milk_er\n",
        "    if row['Vendor Item Grouped'] == 'SEAFOOD':\n",
        "        return row['Total Amount(kg)'] * seafood_er\n",
        "    if row['Vendor Item Grouped'] == 'SUGAR':\n",
        "        return row['Total Amount(kg)'] * sugar_er\n",
        "    if row['Vendor Item Grouped'] == 'OIL':\n",
        "        return row['Total Amount(kg)'] * oil_er\n",
        "    if row['Vendor Item Grouped'] == 'MUSHROOM':\n",
        "        return row['Total Amount(kg)'] * mushroom_er\n",
        "    if row['Vendor Item Grouped'] == 'CREAM':\n",
        "        return row['Total Amount(kg)'] * cream_er\n",
        "    if row['Vendor Item Grouped'] == 'PASTA':\n",
        "        return row['Total Amount(kg)'] * pasta_er\n",
        "    if row['Vendor Item Grouped'] == 'MEAT SUB':\n",
        "        return row['Total Amount(kg)'] * meat_sub_er\n",
        "    if row['Vendor Item Grouped'] == 'EGG':\n",
        "        return row['Total Amount(kg)'] * egg_er\n",
        "    if row['Vendor Item Grouped'] == 'MILK SUB':\n",
        "        return row['Total Amount(kg)'] * milk_sub_er\n",
        "    if row['Vendor Item Grouped'] == 'RICE':\n",
        "        return row['Total Amount(kg)'] * rice_er\n",
        "    if row['Vendor Item Grouped'] == 'TOFU':\n",
        "        return row['Total Amount(kg)'] * tofu_er\n",
        "    if row['Vendor Item Grouped'] == 'CHOCOLATE':\n",
        "        return row['Total Amount(kg)'] * chocolate_er\n",
        "    if row['Vendor Item Grouped'] == 'SODA':\n",
        "        return row['Total Amount(kg)'] * soda_er\n",
        "    if row['Vendor Item Grouped'] == 'COFFEE':\n",
        "        return row['Total Amount(kg)'] * coffee_er\n",
        "    if row['Vendor Item Grouped'] == 'WATER':\n",
        "        return row['Total Amount(kg)'] * water_er\n",
        "    if row['Vendor Item Grouped'] == 'SEAFOOD SOUP':\n",
        "        return row['Total Amount(kg)'] * seafood_soup_er\n",
        "    if row['Vendor Item Grouped'] == 'BUTTER':\n",
        "        return row['Total Amount(kg)'] * butter_er\n",
        "    if row['Vendor Item Grouped'] == 'SAUSAGE':\n",
        "        return row['Total Amount(kg)'] * sausage_er\n",
        "    if row['Vendor Item Grouped'] == 'VEGETABLE BASE':\n",
        "        return row['Total Amount(kg)'] * vegetable_base_er\n",
        "    if row['Vendor Item Grouped'] == 'WINE':\n",
        "        return row['Total Amount(kg)'] * wine_er\n",
        "    if row['Vendor Item Grouped'] == 'VINEGAR':\n",
        "        return row['Total Amount(kg)'] * vinegar_er\n",
        "    if row['Vendor Item Grouped'] == 'TEA BAG':\n",
        "        return row['Total Amount(kg)'] * tea_bag_er\n",
        "    if row['Vendor Item Grouped'] == 'CHICKEN BASE':\n",
        "        return row['Total Amount(kg)'] * chicken_base_er\n",
        "    if row['Vendor Item Grouped'] == 'TEMPEH':\n",
        "        return row['Total Amount(kg)'] * tempeh_er\n",
        "    if row['Vendor Item Grouped'] == 'BEEF BASE':\n",
        "        return row['Total Amount(kg)'] * beef_base_er\n",
        "    if row['Vendor Item Grouped'] == 'CHEESE SUB':\n",
        "        return row['Total Amount(kg)'] * cheese_sub_er\n",
        "    if row['Vendor Item Grouped'] == 'VEGETABLE SOUP':\n",
        "        return row['Total Amount(kg)'] * vegetable_soup_er\n",
        "    if row['Vendor Item Grouped'] == 'LAMB':\n",
        "        return row['Total Amount(kg)'] *lamb_er\n",
        "    if row['Vendor Item Grouped'] == 'GYRO MEAT':\n",
        "        return row['Total Amount(kg)'] * gyro_meat_er\n",
        "    if row['Vendor Item Grouped'] == 'SUGAR SUB':\n",
        "        return row['Total Amount(kg)'] * sugar_sub_er\n",
        "    if row['Vendor Item Grouped'] == 'SEAFOOD BASE':\n",
        "        return row['Total Amount(kg)'] * seafood_base_er\n",
        "    if row['Vendor Item Grouped'] == 'CHICKEN SOUP':\n",
        "        return row['Total Amount(kg)'] * chicken_soup_er\n",
        "    return 0\n",
        "\n",
        "DDReduced['CO2e(kg)'] = DDReduced.apply(calc_emissions, axis = 1)\n",
        "\n",
        "total_food_amount_kg = DDReduced[DDReduced['Total Amount(kg)'] != 0]['Total Amount(kg)'].sum()\n",
        "total_food_amount_calced_kg = DDReduced[(DDReduced['Total Amount(kg)'] != 0) & (DDReduced['CO2e(kg)'] != 0)]['Total Amount(kg)'].sum()\n",
        "percent_food_calced = total_food_amount_calced_kg / total_food_amount_kg * 100\n",
        "\n",
        "print('The percentage of food (by weight) with calculated carbon emissions so far is: ', percent_food_calced, \"%\")"
      ],
      "metadata": {
        "colab": {
          "base_uri": "https://localhost:8080/"
        },
        "id": "beM1jtkMe44Q",
        "outputId": "b88857e7-89ea-4e6b-aee0-2ff989f132dc"
      },
      "execution_count": 119,
      "outputs": [
        {
          "output_type": "stream",
          "name": "stdout",
          "text": [
            "The percentage of food (by weight) with calculated carbon emissions so far is:  97.72141384764203 %\n"
          ]
        }
      ]
    },
    {
      "cell_type": "code",
      "source": [
        "#@title Create separated dataframes\n",
        "DDReduced['Purchase Date'] = pd.to_datetime(DDReduced['Purchase Date'])\n",
        "DDReduced['Year'] = DDReduced['Purchase Date'].dt.year\n",
        "\n",
        "location_col = DDReduced['Unit Name']\n",
        "DDMarketplace = DDReduced[location_col == \"Marketplace\"].copy()\n",
        "DDDuML = DDReduced[location_col == \"DuML\"].copy()\n",
        "DDTrinity = DDReduced[location_col == \"Trinity\"].copy()\n",
        "DDFreeman = DDReduced[location_col == \"Freeman\"].copy()\n",
        "\n",
        "date_col = DDReduced['Purchase Date']\n",
        "DDFY20 = DDReduced[(date_col >= pd.Timestamp('2019-07-01')) & (date_col < pd.Timestamp('2020-06-30'))].copy()\n",
        "DDFY21 = DDReduced[(date_col >= pd.Timestamp('2020-07-01')) & (date_col < pd.Timestamp('2021-06-30'))].copy()\n",
        "DDFY22 = DDReduced[(date_col >= pd.Timestamp('2021-07-01')) & (date_col < pd.Timestamp('2022-06-30'))].copy()\n",
        "DDFY23 = DDReduced[(date_col >= pd.Timestamp('2022-07-01')) & (date_col < pd.Timestamp('2023-06-30'))].copy()"
      ],
      "metadata": {
        "id": "mJYaZdBsykLC"
      },
      "execution_count": 120,
      "outputs": []
    },
    {
      "cell_type": "code",
      "source": [
        "#@title Analysis\n",
        "#later, download a csv from previous code and move this to a new notebook\n",
        "total_food_emissions_2022 = DDFY22['CO2e(kg)'].sum()\n",
        "total_duke_emissions_2022 = 194346000 #in kg, from 2022 GHG emissions\n",
        "\n",
        "total_food_amount_kg_2022 = DDFY22['Total Amount(kg)'].sum()\n",
        "total_food_amount_calced_kg_2022 = DDFY22[DDFY22['CO2e(kg)'] != 0]['Total Amount(kg)'].sum()\n",
        "percent_food_calced_2022 = total_food_amount_calced_kg_2022 / total_food_amount_kg_2022 * 100\n",
        "\n",
        "print('The percentage of food (by weight) with calculated carbon emissions so far in 2022 is: ', percent_food_calced_2022, \"%\")\n",
        "print('')\n",
        "print(\"Of what has been calculated, food is \", total_food_emissions_2022 / total_duke_emissions_2022 * 100, \"% of Duke's total GHG emissions in 2022\")\n",
        "print(\"The value in Metric Tons is: \", total_food_emissions_2022 / 1000)\n",
        "print(\"If food is not included in Duke's calculations, then the reported amount is: \", total_duke_emissions_2022 / (total_duke_emissions_2022 + total_food_emissions_2022) * 100, \"% of the real total emissions\")\n",
        "print('')\n",
        "print(\"Multiplying by a ratio of 13/4 to estimate all locations gets us\", total_food_emissions_2022 * (13/4) / 1000, \"Metric Tons of CO2eq.\")\n",
        "print(\"This would make the reported amount \", total_duke_emissions_2022 / (total_duke_emissions_2022 + total_food_emissions_2022 * (13/4)) * 100, \"% of the real total emissions\")"
      ],
      "metadata": {
        "colab": {
          "base_uri": "https://localhost:8080/"
        },
        "id": "m5s8NMgNxExG",
        "outputId": "b4450d2b-3631-43a7-f38f-6c04526d0102"
      },
      "execution_count": 121,
      "outputs": [
        {
          "output_type": "stream",
          "name": "stdout",
          "text": [
            "The percentage of food (by weight) with calculated carbon emissions so far in 2022 is:  97.34156647390196 %\n",
            "\n",
            "Of what has been calculated, food is  22.828130139327747 % of Duke's total GHG emissions in 2022\n",
            "The value in Metric Tons is:  44365.55780057791\n",
            "If food is not included in Duke's calculations, then the reported amount is:  81.41457489140875 % of the real total emissions\n",
            "\n",
            "Multiplying by a ratio of 13/4 to estimate all locations gets us 144188.0628518782 Metric Tons of CO2eq.\n",
            "This would make the reported amount  57.40810787629189 % of the real total emissions\n"
          ]
        }
      ]
    },
    {
      "cell_type": "code",
      "source": [
        "pc_fruit22 = DDFY22[DDFY22['Food Group'] == 'FRUITS']['CO2e(kg)'].sum() / total_food_emissions_2022 * 100\n",
        "pc_vegetable22 = DDFY22[DDFY22['Food Group'] == 'VEGETABLES']['CO2e(kg)'].sum() / total_food_emissions_2022 * 100\n",
        "pc_grain22 = DDFY22[DDFY22['Food Group'] == 'GRAINS']['CO2e(kg)'].sum() / total_food_emissions_2022 * 100\n",
        "pc_protein22 = DDFY22[DDFY22['Food Group'] == 'PROTEINS']['CO2e(kg)'].sum() / total_food_emissions_2022 * 100\n",
        "pc_dairy22 = DDFY22[DDFY22['Food Group'] == 'DAIRY']['CO2e(kg)'].sum() / total_food_emissions_2022 * 100\n",
        "pc_beverage22 = DDFY22[DDFY22['Food Group'] == 'BEVERAGES']['CO2e(kg)'].sum() / total_food_emissions_2022 * 100\n",
        "pc_misc22 = DDFY22[DDFY22['Food Group'] == 'MISC']['CO2e(kg)'].sum() / total_food_emissions_2022 * 100\n",
        "\n",
        "print(\"Fruits =\", str.format('{0:.2f}', pc_fruit22), \"%\")\n",
        "print(\"Vegetables =\", str.format('{0:.2f}', pc_vegetable22), \"%\")\n",
        "print(\"Grains =\", str.format('{0:.2f}', pc_grain22), \"%\")\n",
        "print(\"Proteins =\", str.format('{0:.2f}', pc_protein22), \"%\")\n",
        "print(\"Dairy =\", str.format('{0:.2f}', pc_dairy22), \"%\")\n",
        "print(\"Beverages =\", str.format('{0:.2f}', pc_beverage22), \"%\")\n",
        "print(\"Misc =\", str.format('{0:.2f}', pc_misc22), \"%\")"
      ],
      "metadata": {
        "id": "XV_RGOZflCpL",
        "outputId": "30615430-9bc3-42c4-8ca5-7fe46b18fea5",
        "colab": {
          "base_uri": "https://localhost:8080/"
        }
      },
      "execution_count": 222,
      "outputs": [
        {
          "output_type": "stream",
          "name": "stdout",
          "text": [
            "Fruits = 0.40 %\n",
            "Vegetables = 0.58 %\n",
            "Grains = 0.24 %\n",
            "Proteins = 96.08 %\n",
            "Dairy = 1.19 %\n",
            "Beverages = 0.06 %\n",
            "Misc = 1.45 %\n"
          ]
        }
      ]
    },
    {
      "cell_type": "code",
      "source": [
        "pcts = [pc_fruit22, pc_vegetable22, pc_grain22, pc_protein22, pc_dairy22, pc_beverage22, pc_misc22]\n",
        "labels = ['Fruits', 'Vegetables','Grains', 'Proteins', 'Dairy', 'Beverages', 'Misc.']\n",
        "\n",
        "plt.pie(pcts,\n",
        "        labels = labels,\n",
        "        explode=[0.3, 0.2, 0.1, 0, 0.6, 0.5, 0.4],\n",
        "        pctdistance = .5,\n",
        "        labeldistance = 1.2,\n",
        "        autopct=lambda x: f'{x:.1f}%',\n",
        "        textprops={\"size\": 10},\n",
        "        radius = 1,\n",
        "        colors = [\"#9BC2E6\", \"#FF6600\", \"#F4B084\", \"#00B050\", \"#C6E0B4\", \"#8633FF\", \"#CCCCFF\"]\n",
        "        )\n",
        "plt.legend(loc=\"best\", bbox_to_anchor=(0,1), title=\"Food Groups\")\n",
        "\n",
        "plt.tight_layout()"
      ],
      "metadata": {
        "id": "KBKJ8OArqOqy",
        "outputId": "18d510fa-5c64-496b-a3b7-abbce1868a1e",
        "colab": {
          "base_uri": "https://localhost:8080/",
          "height": 485
        }
      },
      "execution_count": 159,
      "outputs": [
        {
          "output_type": "display_data",
          "data": {
            "text/plain": [
              "<Figure size 640x480 with 1 Axes>"
            ],
            "image/png": "[encoded data removed]"
          },
          "metadata": {}
        }
      ]
    },
    {
      "cell_type": "code",
      "source": [
        "import matplotlib.pyplot as plt\n",
        "\n",
        "# Data\n",
        "categories = ['Fruits', 'Vegetables', 'Grains', 'Proteins', 'Dairy', 'Beverages', 'Misc']\n",
        "percentages = [0.40, 0.58, 0.24, 96.08, 1.19, 0.06, 1.45]\n",
        "\n",
        "# Colors for each category\n",
        "colors = ['#FF7F50', '#FFD700', '#ADFF2F', '#1E90FF', '#FF69B4', '#00CED1', '#FFA500']\n",
        "\n",
        "# Create a figure and axis\n",
        "fig, ax = plt.subplots()\n",
        "\n",
        "# Create horizontal bars\n",
        "bars = ax.barh(range(len(categories)), percentages, color=colors, edgecolor='black')\n",
        "\n",
        "# Set y-axis ticks and labels\n",
        "ax.set_yticks(range(len(categories)))\n",
        "ax.set_yticklabels(categories)\n",
        "\n",
        "# Set x-axis label\n",
        "ax.set_xlabel('Percentage')\n",
        "\n",
        "# Set chart title\n",
        "ax.set_title('Food Categories')\n",
        "\n",
        "# Add data labels to the bars\n",
        "for i, bar in enumerate(bars):\n",
        "    width = bar.get_width()\n",
        "    ax.text(width + 0.5, bar.get_y() + bar.get_height() / 2, f'{percentages[i]:.2f} %', va='center')\n",
        "\n",
        "# Show the plot\n",
        "plt.show()"
      ],
      "metadata": {
        "id": "RFch2X_PKRHK",
        "outputId": "099e1e1e-2af1-4393-e331-8dec826375aa",
        "colab": {
          "base_uri": "https://localhost:8080/",
          "height": 472
        }
      },
      "execution_count": 224,
      "outputs": [
        {
          "output_type": "display_data",
          "data": {
            "text/plain": [
              "<Figure size 640x480 with 1 Axes>"
            ],
            "image/png": "[encoded data removed]"
          },
          "metadata": {}
        }
      ]
    },
    {
      "cell_type": "code",
      "source": [
        "#@title Visualize pie\n",
        "data = [22.828, 77.172]\n",
        "explode = [0.1, 0]\n",
        "keys = ['Food Emissions\\n(44365 Megatons CO2e)', \\\n",
        "        'All Other Emissions\\n(194346 Megatons CO2e)']\n",
        "\n",
        "colors = ['#5da45a', '#7c5aa4']\n",
        "\n",
        "plt.pie(data, labels=keys, colors=colors, autopct='%.3f%%', \\\n",
        "        explode = explode)\n",
        "plt.suptitle('Percent of Duke\\'s Fiscal Year 2022 Carbon Emissions from Food', fontsize = 15)\n",
        "\n",
        "plt.show()"
      ],
      "metadata": {
        "id": "7bP6p08XWMwN",
        "outputId": "7aa90f0f-d367-4066-bedf-2161f56e01d0",
        "colab": {
          "base_uri": "https://localhost:8080/",
          "height": 454
        }
      },
      "execution_count": 124,
      "outputs": [
        {
          "output_type": "display_data",
          "data": {
            "text/plain": [
              "<Figure size 640x480 with 1 Axes>"
            ],
            "image/png": "[encoded data removed]"
          },
          "metadata": {}
        }
      ]
    },
    {
      "cell_type": "code",
      "source": [
        "#@title Analyze Annual Emissions\n",
        "\n",
        "marketplace_annual20 = np.sum(DDFY22[DDFY22['Unit Name'] == 'Marketplace']['CO2e(kg)']) / 1000\n",
        "duml_annual20 = np.sum(DDFY22[DDFY22['Unit Name'] == 'DuML']['CO2e(kg)']) / 1000\n",
        "freeman_annual20 = np.sum(DDFY22[DDFY22['Unit Name'] == 'Freeman']['CO2e(kg)']) / 1000\n",
        "trinity_annual20 = np.sum(DDFY22[DDFY22['Unit Name'] == 'Trinity']['CO2e(kg)']) / 1000\n",
        "\n",
        "print('Marketplace in 2022 was responsible for ', marketplace_annual20, 'Megatons of CO2e')\n",
        "print('Duke Marine Lab in 2022 was responsible for ', duml_annual20, 'Megatons of CO2e')\n",
        "print('Freeman Center in 2022 was responsible for ', freeman_annual20, 'Megatons of CO2e')\n",
        "print('Trinity Cafe in 2022 was responsible for ', trinity_annual20, 'Megatons of CO2e')"
      ],
      "metadata": {
        "id": "adEgibT4Wb1t",
        "outputId": "e3d5f60e-b8e9-45c8-d300-6702e8828e0b",
        "colab": {
          "base_uri": "https://localhost:8080/"
        }
      },
      "execution_count": 125,
      "outputs": [
        {
          "output_type": "stream",
          "name": "stdout",
          "text": [
            "Marketplace in 2022 was responsible for  42292.71150808188 Megatons of CO2e\n",
            "Duke Marine Lab in 2022 was responsible for  626.1746245689692 Megatons of CO2e\n",
            "Freeman Center in 2022 was responsible for  851.5511609202547 Megatons of CO2e\n",
            "Trinity Cafe in 2022 was responsible for  595.1205070068 Megatons of CO2e\n"
          ]
        }
      ]
    },
    {
      "cell_type": "code",
      "source": [
        "#DD22.to_csv('DD22.csv', encoding = 'utf-8-sig')\n",
        "#files.download('DD22.csv')"
      ],
      "metadata": {
        "id": "Z9RuX09thkeN"
      },
      "execution_count": 126,
      "outputs": []
    }
  ]
}
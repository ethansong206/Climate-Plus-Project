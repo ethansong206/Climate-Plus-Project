{
  "nbformat": 4,
  "nbformat_minor": 0,
  "metadata": {
    "colab": {
      "provenance": [],
      "authorship_tag": "ABX9TyOk9ZpXFFo0WAEQAKiTocIf",
      "include_colab_link": true
    },
    "kernelspec": {
      "name": "python3",
      "display_name": "Python 3"
    },
    "language_info": {
      "name": "python"
    }
  },
  "cells": [
    {
      "cell_type": "markdown",
      "metadata": {
        "id": "view-in-github",
        "colab_type": "text"
      },
      "source": [
        "<a href=\"https://colab.research.google.com/github/ethansong206/Climate-Plus-Project/blob/main/DataCleaning.ipynb\" target=\"_parent\"><img src=\"https://colab.research.google.com/assets/colab-badge.svg\" alt=\"Open In Colab\"/></a>"
      ]
    },
    {
      "cell_type": "markdown",
      "source": [
        "##Import necessary packages for the code\n",
        "\n",
        "---"
      ],
      "metadata": {
        "id": "RGa1ITd5pwR7"
      }
    },
    {
      "cell_type": "code",
      "execution_count": 1,
      "metadata": {
        "id": "e6u2wlQbblpm"
      },
      "outputs": [],
      "source": [
        "import pandas as pd\n",
        "import numpy as np\n",
        "from datetime import datetime\n",
        "import re"
      ]
    },
    {
      "cell_type": "markdown",
      "source": [
        "---\n",
        "Load the Duke Dining csv file and make the data easier to handle. This includes but is not limited to:\n",
        "\n",
        "1) Renaming locations\n",
        "\n",
        "2) Changing the date from a string to a date object\n",
        "\n",
        "---"
      ],
      "metadata": {
        "id": "59ncjUuWp_Nj"
      }
    },
    {
      "cell_type": "code",
      "source": [
        "DiningDataFull = pd.read_csv('Climate+ Data 2019 thru 2023.csv', \n",
        "                             dtype = {'Priority 1': str, 'Priority 2': str,\n",
        "                                      'Priority 3': str})\n",
        "#print(DiningDataFull['Unit Name'].value_counts()) # Show how many entries there are of each location\n",
        "\n",
        "#below code to make 'Unit Name' column easier to handle\n",
        "#can add more lines given more locations\n",
        "def location_rename(location):\n",
        "    if(\"Marketplace\" in location): #Combine data for Marketplace Kitchen and Marketplace Special Event\n",
        "        return \"Marketplace\"\n",
        "    if(\"Marine Lab\" in location):\n",
        "        return \"DuML\"\n",
        "    if(\"Trinity\" in location):\n",
        "        return \"Trinity\"\n",
        "    if(\"Freeman\" in location):\n",
        "        return \"Freeman\"\n",
        "    return None\n",
        "\n",
        "DiningDataFull['Unit Name'] = DiningDataFull.apply(lambda d: location_rename(d['Unit Name']), axis = 1)\n",
        "\n",
        "DiningDataFull['Purchase Date'] = DiningDataFull.apply(lambda d: datetime.strptime(d['Purchase Date'], '%m/%d/%Y').date(), axis = 1)\n",
        "\n",
        "print(\"Rows in DiningDataFull: \", DiningDataFull.shape[0])"
      ],
      "metadata": {
        "colab": {
          "base_uri": "https://localhost:8080/"
        },
        "id": "X6FApqgppspd",
        "outputId": "43029d3b-856f-44a2-855f-7de97b1562d2"
      },
      "execution_count": 2,
      "outputs": [
        {
          "output_type": "stream",
          "name": "stdout",
          "text": [
            "Rows in DiningDataFull:  90534\n"
          ]
        }
      ]
    },
    {
      "cell_type": "markdown",
      "source": [
        "---\n",
        "Extract the unit names for each item into a new column called `Unit`, then rename each unit into a more simple label (i.e. LB CS to LB). Convert cans and bottle cases into the equivalent value in OZ.\n",
        "\n",
        "Extract the simplified item name from `Vendor Item Description` into a new column called `Item Name`.\n",
        "\n",
        "---\n",
        "Note on Exclusion: Some units are left out in this first calculation of emissions as they are either not directly food (i.e. gloves) or are too difficult to go through individually and find a measurement that is not ambiguous. The total number of entries left out is 12171. **The number of non-food items in this amount can be calculated later.**\n",
        "\n",
        "---\n",
        "Note on Conversions: The column `Vendor Item Purchase Unit` is in the format x/y n which should be read as x bags of y units of n food.\n",
        "\n",
        "---"
      ],
      "metadata": {
        "id": "y6s4AxAUOoKQ"
      }
    },
    {
      "cell_type": "code",
      "source": [
        "#this code extracts just the unit information\n",
        "DiningDataFull['Unit'] = DiningDataFull['Vendor Item Purchase Unit'].str.extract(r\" ?([A-Za-zÀ-ÿ ]*)$\").astype(str)\n",
        "#below code to simplify redundant labels (i.e. LB CS to LB)\n",
        "def unit_rename(unit):\n",
        "    if('LB' in unit) | ('lb' in unit) | ('Lb' in unit) | ('Pound' in unit):\n",
        "        return 'LB'\n",
        "    if('OZ' in unit) | ('oz' in unit) | ('Oz' in unit) | (' Z' in unit):\n",
        "        return 'OZ'\n",
        "    if('GA' in unit) | ('Gal' in unit):\n",
        "        return 'GA'\n",
        "    if('QT' in unit):\n",
        "        return 'QT'\n",
        "    if('PT' in unit) | ('Pint' in unit) | ('PINT' in unit):\n",
        "        return 'PT'\n",
        "    if('LT' in unit):\n",
        "        return 'LT' \n",
        "    if('BU' in unit) | ('Bushel' in unit): #bushels\n",
        "        return 'BU'\n",
        "    if('KG' in unit):\n",
        "        return 'KG' \n",
        "    if('GR' in unit): #grams\n",
        "        return 'GR' \n",
        "    if('ML' in unit) | ('ml' in unit) | ('Ml' in unit): #milliliters\n",
        "        return 'ML'\n",
        "    if('CN' in unit) | ('Can' in unit):\n",
        "        return 'CN'\n",
        "    if('Bottle Case' in unit):\n",
        "        return 'Bottle Case'\n",
        "    return None\n",
        "#Notes: Bottle Case is 64 oz each, find # of can and translate to oz, anything with EA is not included for now (~9000)\n",
        "DiningDataFull['Unit'] = DiningDataFull.apply(lambda d: unit_rename(d['Unit']), axis = 1)\n",
        "\n",
        "#convert cans to OZ\n",
        "#using estimates for weight of cans through https://food.unl.edu/article/how-interpret-can-size-numbers\n",
        "DiningDataFull = DiningDataFull.replace({'#10 CN' : '110.5 OZ'}, regex = True)\n",
        "DiningDataFull = DiningDataFull.replace({'#10 Can' : '110.5 OZ'}, regex = True)\n",
        "DiningDataFull = DiningDataFull.replace({'#300 CN' : '15 OZ'}, regex = True)\n",
        "DiningDataFull = DiningDataFull.replace({'CN' : 'OZ'})\n",
        "#convert bottle case to OZ\n",
        "DiningDataFull = DiningDataFull.replace({' Bottle Case' : '/64 OZ'}, regex = True)\n",
        "DiningDataFull = DiningDataFull.replace({'Bottle Case' : 'OZ'})\n",
        "\n",
        "#WIP\n",
        "#extract item names"
      ],
      "metadata": {
        "id": "RPuQ7DJMOeH3"
      },
      "execution_count": 3,
      "outputs": []
    },
    {
      "cell_type": "markdown",
      "source": [
        "---\n",
        "Make a new column called `Total Amount` for the total amount of food in the current unit of measurement, before converting to grams. Make a new column called `Total Amount(g)` for converting all units to the equivalent value in grams, then filter out main descriptor word(s) in `Vendor Item Description` into a new column called `Food Name`.\n",
        "\n",
        "---\n",
        "\n",
        "Take the column with units in grams and multiply by the `Receive Quantity` if provided into a new column called `Total Grams`. If there is no value in `Receive Quantity`, then assume it is the value 1.\n",
        "\n",
        "---\n",
        "Note on Conversions: Most of these conversions are estimated to the nearest tenth. **More accurate calculations can be found later**\n",
        "\n",
        "---"
      ],
      "metadata": {
        "id": "PQbuaCZyGnUQ"
      }
    },
    {
      "cell_type": "code",
      "source": [
        "#make a new dataset for just entries with known units\n",
        "DDReduced = DiningDataFull[DiningDataFull['Unit'].notna()]\n",
        "#print(DDReduced.head())\n",
        "\n",
        "#find total amount of food before converting to grams\n",
        "DDReduced = DDReduced.copy()\n",
        "DDReduced['Total Amount'] = DDReduced['Vendor Item Purchase Unit'].str.extract(r'^[a-zA-Z]* ?-?/? ?([0-9]*/?[0-9.]*-?[0-9.]*)')\n",
        "DDReduced['Range'] = DDReduced['Total Amount'].str.extract(r'([0-9.]*-[0-9.]*)')\n",
        "DDReduced['Range'] = DDReduced['Range'].astype(str)\n",
        "DDReduced['Range'] = DDReduced['Range'].replace({'nan' : '0'})\n",
        "DDReduced['Range Average'] = DDReduced['Range'].replace({'-' : '+'}, regex = True)\n",
        "DDReduced['Range Average'] = DDReduced.apply(lambda d: eval(d['Range Average']), axis = 1)\n",
        "DDReduced['Range Average'] /= 2\n",
        "\n",
        "has_slash = ~(DDReduced['Total Amount'].str.contains('/')) & (DDReduced['Total Amount'].str.len() > 0)\n",
        "DDReduced.loc[has_slash, 'Total Amount'] = (\n",
        "    '1/' + DDReduced.loc[has_slash, 'Total Amount']\n",
        ")\n",
        "\n",
        "has_range = DDReduced['Total Amount'].str.contains('-')\n",
        "DDReduced.loc[has_range, 'Total Amount'] = (\n",
        "    DDReduced.loc[has_range, 'Total Amount'].str.split('/').str[0]\n",
        "    + '/'\n",
        "    + DDReduced.loc[has_range, 'Range Average'].astype(str)\n",
        ")\n",
        "\n",
        "DDReduced = DDReduced.drop(['Range', 'Range Average'], axis = 1)\n",
        "\n",
        "DDReduced['Total Amount'] = DDReduced['Total Amount'].replace({'' : '0'})\n",
        "DDReduced['Receive Quantity'] = DDReduced['Receive Quantity'].fillna(0)\n",
        "DDReduced = DDReduced[DDReduced['Receive Quantity'] != 0] #get rid of any rows that were not received\n",
        "DDReduced['Total Amount'] = DDReduced['Total Amount'].replace({'/' : '*'}, regex = True)\n",
        "DDReduced['Total Amount'] = DDReduced.apply(lambda d: eval(d['Total Amount']), axis = 1)\n",
        "DDReduced['Total Amount'] = DDReduced['Total Amount'].astype(float) * DDReduced['Receive Quantity'].astype(float)\n",
        "\n",
        "#convert units to grams\n",
        "def convert_units(row):\n",
        "    if row['Unit'] == 'LB':\n",
        "        return row['Total Amount'] * 453.6\n",
        "    if row['Unit'] == 'OZ':\n",
        "        return row['Total Amount'] * 28.35\n",
        "    if row['Unit'] == 'GA':\n",
        "        return row['Total Amount'] * 3785.4 #assuming density of water, most drinks are MORE dense so number is underestimate\n",
        "    if row['Unit'] == 'QT':\n",
        "        return row['Total Amount'] * 3785.4 / 4\n",
        "    if row['Unit'] == 'PT':\n",
        "        return row['Total Amount'] * 3785.4 / 8\n",
        "    if (row['Unit'] == 'LT') | (row['Unit'] == 'KG'):\n",
        "        return row['Total Amount'] * 1000 #also assuming density of water, most drinks MORE dense\n",
        "    if row['Unit'] == 'BU':\n",
        "        return row['Total Amount'] * 32.5 * 453.6 #average of 40lbs per bu apples, squash, etc. and 25lbs per bu peppers, etc.\n",
        "    if (row['Unit'] == 'ML') | (row['Unit'] == 'G'):\n",
        "        return row['Total Amount'] * 453.6\n",
        "    return 0\n",
        "DDReduced['Total Amount(g)'] = DDReduced.apply(convert_units, axis = 1)\n",
        "DDReduced['Total Amount(kg)'] = DDReduced['Total Amount(g)'] / 1000\n",
        "\n",
        "print(\"Excluded rows: \", DiningDataFull.shape[0] - DDReduced.shape[0])\n",
        "#print(DDReduced.head())"
      ],
      "metadata": {
        "colab": {
          "base_uri": "https://localhost:8080/"
        },
        "id": "YnLSVqA0I4K4",
        "outputId": "62d05059-409a-4ee2-abb0-1c677996e73c"
      },
      "execution_count": 4,
      "outputs": [
        {
          "output_type": "stream",
          "name": "stderr",
          "text": [
            "<ipython-input-4-78a7d31c9a2b>:32: SettingWithCopyWarning: \n",
            "A value is trying to be set on a copy of a slice from a DataFrame.\n",
            "Try using .loc[row_indexer,col_indexer] = value instead\n",
            "\n",
            "See the caveats in the documentation: https://pandas.pydata.org/pandas-docs/stable/user_guide/indexing.html#returning-a-view-versus-a-copy\n",
            "  DDReduced['Total Amount'] = DDReduced['Total Amount'].replace({'/' : '*'}, regex = True)\n"
          ]
        },
        {
          "output_type": "stream",
          "name": "stdout",
          "text": [
            "Excluded rows:  17099\n"
          ]
        }
      ]
    },
    {
      "cell_type": "markdown",
      "source": [
        "---\n",
        "####Load the csv with CO2 numbers and find numbers for carbon emissions\n",
        "\n",
        "---"
      ],
      "metadata": {
        "id": "d_F8fSgfo3RI"
      }
    },
    {
      "cell_type": "code",
      "source": [
        "CO2 = pd.read_csv('CO2 values for FACCWTHA v1.1 - Foods.csv')\n",
        "\n",
        "#replace values below if need to update values\n",
        "#CURRENT VALUES: from CO2 spreadsheet above (Poore and Nemecek 2018) (6/5/23)\n",
        "beef_emission_ratio = CO2[CO2['FoodDisplayName'] == 'Steak']['CO2eRatioSLBBook'].mean() #Europe average, US is LARGER at ~54kg CO2e/kg\n",
        "pork_emission_ratio = CO2[(CO2['FoodDisplayName'] == 'Ham') | (CO2['FoodDisplayName'] == 'Sausage')]['CO2eRatioSLBBook'].mean()\n",
        "poultry_emission_ratio = CO2[CO2['FoodDisplayName'] == 'Chicken']['CO2eRatioSLBBook'].mean() #chicken and turkey, averaged from Europe and US, which is LARGER than just US\n",
        "lamb_emission_ratio = CO2[CO2['FoodDisplayName'] == 'Lamb']['CO2eRatioSLBBook'].mean() #Europe, slightly higher than global average of ~40\n",
        "seafood_emission_ratio = CO2[CO2['FoodAisle'] == 'Fish']['CO2eRatioSLBBook'].mean() #average of three common fish\n",
        "eggs_emission_ratio = CO2[CO2['FoodDisplayName'] == 'Eggs']['CO2eRatioSLBBook'].mean() #world average of eggs\n",
        "meatsub_emission_ratio = 2.19 #(https://www.ncbi.nlm.nih.gov/pmc/articles/PMC9936781/ , Mejia et al., 2020)\n",
        "#add more values here as the data gets more clean\n",
        "#later, replace means/averages with weighted averages depending on how often eaten and average amount eaten each instance\n",
        "\n",
        "print(\"beef: \", beef_emission_ratio)\n",
        "print(\"pork: \", pork_emission_ratio)\n",
        "print(\"poultry: \", poultry_emission_ratio)\n",
        "print(\"lamb: \", lamb_emission_ratio)\n",
        "print(\"seafood: \", seafood_emission_ratio)\n",
        "print(\"eggs: \", eggs_emission_ratio)\n",
        "print(\"meatsub: \", meatsub_emission_ratio)\n",
        "\n",
        "#print(CO2.head())"
      ],
      "metadata": {
        "colab": {
          "base_uri": "https://localhost:8080/"
        },
        "id": "hRVwXabqo36T",
        "outputId": "3f49d800-c864-4f2e-8395-f31bc1f00e19"
      },
      "execution_count": 5,
      "outputs": [
        {
          "output_type": "stream",
          "name": "stdout",
          "text": [
            "beef:  46.2\n",
            "pork:  9.774999999999999\n",
            "poultry:  6.8\n",
            "lamb:  43.0\n",
            "seafood:  5.133333333333334\n",
            "eggs:  4.7\n",
            "meatsub:  2.19\n"
          ]
        }
      ]
    },
    {
      "cell_type": "markdown",
      "source": [
        "---\n",
        "#CALCULATING CARBON EMISSIONS\n",
        "\n",
        "Currently includes: Meats, Meat Alternatives, and Eggs\n",
        "\n",
        "NOTE: 651400 meats, 651401 local meats, processed meat, and specialty meats are excluded as of now, for a total of 3964 rows\n",
        "\n",
        "---"
      ],
      "metadata": {
        "id": "JyTNQtI4e4i3"
      }
    },
    {
      "cell_type": "code",
      "source": [
        "DDReduced['Product Group'] = DDReduced['Product Group'].str.lower() #make lowercase to simplify code\n",
        "\n",
        "#print(DDReduced['Product Group'].value_counts())\n",
        "\n",
        "def calc_emissions(row):\n",
        "    if row['Product Group'] == 'beef':\n",
        "        return row['Total Amount(kg)'] * beef_emission_ratio\n",
        "    if row['Product Group'] == 'pork':\n",
        "        return row['Total Amount(kg)'] * pork_emission_ratio\n",
        "    if row['Product Group'] == 'seafood':\n",
        "        return row['Total Amount(kg)'] * seafood_emission_ratio\n",
        "    if row['Product Group'] == 'meat substitute':\n",
        "        return row['Total Amount(kg)'] * meatsub_emission_ratio\n",
        "    if row['Product Group'] == 'lamb':\n",
        "        return row['Total Amount(kg)'] * lamb_emission_ratio\n",
        "    if (row['Product Group'] == 'chicken') | (row['Product Group'] == 'poultry') | (row['Product Group'] == 'turkey') \\\n",
        "    | (row['Product Group'] == 'duck'):\n",
        "        return row['Total Amount(kg)'] * beef_emission_ratio\n",
        "    if row['Product Group'] == 'eggs':\n",
        "        return row['Total Amount(kg)'] * eggs_emission_ratio\n",
        "    return 0\n",
        "\n",
        "DDReduced['CO2e(kg)'] = DDReduced.apply(calc_emissions, axis = 1)\n",
        "\n",
        "total_food_amount_kg = DDReduced['Total Amount(kg)'].sum()\n",
        "total_food_amount_calced_kg = DDReduced[DDReduced['CO2e(kg)'] != 0]['Total Amount(kg)'].sum()\n",
        "percent_food_calced = total_food_amount_calced_kg / total_food_amount_kg * 100\n",
        "\n",
        "print('The percentage of food (by weight) with calculated carbon emissions so far is: ', percent_food_calced, \"%\")"
      ],
      "metadata": {
        "colab": {
          "base_uri": "https://localhost:8080/"
        },
        "id": "beM1jtkMe44Q",
        "outputId": "a9e621fc-43f1-45d1-e93a-5c7a49a9dcee"
      },
      "execution_count": 26,
      "outputs": [
        {
          "output_type": "stream",
          "name": "stdout",
          "text": [
            "The percentage of food (by weight) with calculated carbon emissions so far is:  37.66037229036413 %\n"
          ]
        }
      ]
    },
    {
      "cell_type": "markdown",
      "source": [
        "---\n",
        "###Making one dataset for each location and each year\n",
        "\n",
        "---"
      ],
      "metadata": {
        "id": "slofxOZkptua"
      }
    },
    {
      "cell_type": "code",
      "source": [
        "location_col = DDReduced['Unit Name']\n",
        "DiningData_Marketplace = DDReduced[location_col == \"Marketplace\"]\n",
        "DiningData_DuML = DDReduced[location_col == \"DuML\"]\n",
        "DiningData_Trinity = DDReduced[location_col == \"Trinity\"]\n",
        "DiningData_Freeman = DDReduced[location_col == \"Freeman\"]\n",
        "\n",
        "date_col = DDReduced['Purchase Date']\n",
        "DiningData_2019 = DDReduced[(date_col >= pd.Timestamp(2019, 1, 1)) & (date_col < pd.Timestamp(2020, 1, 1))]\n",
        "DiningData_2020 = DDReduced[(date_col >= pd.Timestamp(2020, 1, 1)) & (date_col < pd.Timestamp(2021, 1, 1))]\n",
        "DiningData_2021 = DDReduced[(date_col >= pd.Timestamp(2021, 1, 1)) & (date_col < pd.Timestamp(2022, 1, 1))]\n",
        "DiningData_2022 = DDReduced[(date_col >= pd.Timestamp(2022, 1, 1)) & (date_col < pd.Timestamp(2023, 1, 1))]\n",
        "DiningData_2023 = DDReduced[(date_col >= pd.Timestamp(2023, 1, 1)) & (date_col < pd.Timestamp(2024, 1, 1))]"
      ],
      "metadata": {
        "colab": {
          "base_uri": "https://localhost:8080/"
        },
        "id": "mJYaZdBsykLC",
        "outputId": "66138026-4b70-4171-9a9e-574d89adde7a"
      },
      "execution_count": 18,
      "outputs": [
        {
          "output_type": "stream",
          "name": "stderr",
          "text": [
            "<ipython-input-18-3a296608f43f>:8: FutureWarning: Comparison of Timestamp with datetime.date is deprecated in order to match the standard library behavior. In a future version these will be considered non-comparable. Use 'ts == pd.Timestamp(date)' or 'ts.date() == date' instead.\n",
            "  DiningData_2019 = DDReduced[(date_col >= pd.Timestamp(2019, 1, 1)) & (date_col < pd.Timestamp(2020, 1, 1))]\n",
            "<ipython-input-18-3a296608f43f>:9: FutureWarning: Comparison of Timestamp with datetime.date is deprecated in order to match the standard library behavior. In a future version these will be considered non-comparable. Use 'ts == pd.Timestamp(date)' or 'ts.date() == date' instead.\n",
            "  DiningData_2020 = DDReduced[(date_col >= pd.Timestamp(2020, 1, 1)) & (date_col < pd.Timestamp(2021, 1, 1))]\n",
            "<ipython-input-18-3a296608f43f>:10: FutureWarning: Comparison of Timestamp with datetime.date is deprecated in order to match the standard library behavior. In a future version these will be considered non-comparable. Use 'ts == pd.Timestamp(date)' or 'ts.date() == date' instead.\n",
            "  DiningData_2021 = DDReduced[(date_col >= pd.Timestamp(2021, 1, 1)) & (date_col < pd.Timestamp(2022, 1, 1))]\n",
            "<ipython-input-18-3a296608f43f>:11: FutureWarning: Comparison of Timestamp with datetime.date is deprecated in order to match the standard library behavior. In a future version these will be considered non-comparable. Use 'ts == pd.Timestamp(date)' or 'ts.date() == date' instead.\n",
            "  DiningData_2022 = DDReduced[(date_col >= pd.Timestamp(2022, 1, 1)) & (date_col < pd.Timestamp(2023, 1, 1))]\n",
            "<ipython-input-18-3a296608f43f>:12: FutureWarning: Comparison of Timestamp with datetime.date is deprecated in order to match the standard library behavior. In a future version these will be considered non-comparable. Use 'ts == pd.Timestamp(date)' or 'ts.date() == date' instead.\n",
            "  DiningData_2023 = DDReduced[(date_col >= pd.Timestamp(2023, 1, 1)) & (date_col < pd.Timestamp(2024, 1, 1))]\n"
          ]
        }
      ]
    },
    {
      "cell_type": "markdown",
      "source": [
        "---\n",
        "#Analysis\n",
        "\n",
        "---"
      ],
      "metadata": {
        "id": "E69_jgCrxFUj"
      }
    },
    {
      "cell_type": "code",
      "source": [
        "total_carbon_emissions_2022 = DiningData_2022['CO2e(kg)'].sum()\n",
        "total_duke_emissions_2022 = 194346000 #in kg, from 2022 GHG emissions\n",
        "\n",
        "print(\"Of what has been calculated, food is \", total_carbon_emissions_2022 / total_duke_emissions_2022 * 100, \"% of Duke's total GHG emissions in 2022\")"
      ],
      "metadata": {
        "colab": {
          "base_uri": "https://localhost:8080/"
        },
        "id": "m5s8NMgNxExG",
        "outputId": "9f9936c8-b2d4-4497-b8f7-96b3ebb01768"
      },
      "execution_count": 19,
      "outputs": [
        {
          "output_type": "stream",
          "name": "stdout",
          "text": [
            "Of what has been calculated, food is  15.819781918627395 % of Duke's total GHG emissions in 2022\n"
          ]
        }
      ]
    }
  ]
}
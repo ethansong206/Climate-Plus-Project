{
  "nbformat": 4,
  "nbformat_minor": 0,
  "metadata": {
    "colab": {
      "provenance": [],
      "authorship_tag": "ABX9TyO4kgaGYUZ+EZOcBGhomW4P",
      "include_colab_link": true
    },
    "kernelspec": {
      "name": "python3",
      "display_name": "Python 3"
    },
    "language_info": {
      "name": "python"
    }
  },
  "cells": [
    {
      "cell_type": "markdown",
      "metadata": {
        "id": "view-in-github",
        "colab_type": "text"
      },
      "source": [
        "<a href=\"https://colab.research.google.com/github/ethansong206/Climate-Plus-Project/blob/main/DataCleaning.ipynb\" target=\"_parent\"><img src=\"https://colab.research.google.com/assets/colab-badge.svg\" alt=\"Open In Colab\"/></a>"
      ]
    },
    {
      "cell_type": "markdown",
      "source": [
        "##Import necessary packages for the code\n",
        "\n",
        "---"
      ],
      "metadata": {
        "id": "RGa1ITd5pwR7"
      }
    },
    {
      "cell_type": "code",
      "execution_count": 1,
      "metadata": {
        "id": "e6u2wlQbblpm"
      },
      "outputs": [],
      "source": [
        "import pandas as pd\n",
        "import numpy as np\n",
        "from datetime import datetime\n",
        "import re\n",
        "import seaborn\n",
        "import matplotlib.pyplot as plt"
      ]
    },
    {
      "cell_type": "markdown",
      "source": [
        "---\n",
        "Load the Duke Dining csv file and make the data easier to handle. This includes but is not limited to:\n",
        "\n",
        "1) Renaming locations\n",
        "\n",
        "2) Changing the date from a string to a date object\n",
        "\n",
        "---"
      ],
      "metadata": {
        "id": "59ncjUuWp_Nj"
      }
    },
    {
      "cell_type": "code",
      "source": [
        "DiningDataFull = pd.read_csv('Climate+ Data 2019 thru 2023.csv', \n",
        "                             dtype = {'Priority 1': str, 'Priority 2': str,\n",
        "                                      'Priority 3': str})\n",
        "#print(DiningDataFull['Unit Name'].value_counts()) # Show how many entries there are of each location\n",
        "\n",
        "#below code to make 'Unit Name' column easier to handle\n",
        "#can add more lines given more locations\n",
        "def location_rename(location):\n",
        "    if(\"Marketplace\" in location): #Combine data for Marketplace Kitchen and Marketplace Special Event\n",
        "        return \"Marketplace\"\n",
        "    if(\"Marine Lab\" in location):\n",
        "        return \"DuML\"\n",
        "    if(\"Trinity\" in location):\n",
        "        return \"Trinity\"\n",
        "    if(\"Freeman\" in location):\n",
        "        return \"Freeman\"\n",
        "    return None\n",
        "\n",
        "DiningDataFull['Unit Name'] = DiningDataFull.apply(lambda d: location_rename(d['Unit Name']), axis = 1)\n",
        "\n",
        "DiningDataFull['Purchase Date'] = DiningDataFull.apply(lambda d: datetime.strptime(d['Purchase Date'], '%m/%d/%Y').date(), axis = 1)\n",
        "\n",
        "print(\"Rows in DiningDataFull: \", DiningDataFull.shape[0])"
      ],
      "metadata": {
        "colab": {
          "base_uri": "https://localhost:8080/"
        },
        "id": "X6FApqgppspd",
        "outputId": "cec286a3-5a2b-490a-a493-92b51aa59afe"
      },
      "execution_count": 2,
      "outputs": [
        {
          "output_type": "stream",
          "name": "stdout",
          "text": [
            "Rows in DiningDataFull:  90534\n"
          ]
        }
      ]
    },
    {
      "cell_type": "markdown",
      "source": [
        "---\n",
        "Extract the unit names for each item into a new column called `Unit`, then rename each unit into a more simple label (i.e. LB CS to LB). Convert cans and bottle cases into the equivalent value in OZ.\n",
        "\n",
        "Extract the simplified item name from `Vendor Item Description` into a new column called `Item Name`.\n",
        "\n",
        "---\n",
        "Note on Exclusion: Some units are left out in this first calculation of emissions as they are either not directly food (i.e. gloves) or are too difficult to go through individually and find a measurement that is not ambiguous. The total number of entries left out is 12171. **The number of non-food items in this amount can be calculated later.**\n",
        "\n",
        "---\n",
        "Note on Conversions: The column `Vendor Item Purchase Unit` is in the format x/y n which should be read as x bags of y units of n food.\n",
        "\n",
        "---"
      ],
      "metadata": {
        "id": "y6s4AxAUOoKQ"
      }
    },
    {
      "cell_type": "code",
      "source": [
        "#this code extracts just the unit information\n",
        "DiningDataFull['Unit'] = DiningDataFull['Vendor Item Purchase Unit'].str.extract(r\" ?([A-Za-zÀ-ÿ ]*)$\").astype(str)\n",
        "#below code to simplify redundant labels (i.e. LB CS to LB)\n",
        "def unit_rename(unit):\n",
        "    if('LB' in unit) | ('lb' in unit) | ('Lb' in unit) | ('Pound' in unit):\n",
        "        return 'LB'\n",
        "    if('OZ' in unit) | ('oz' in unit) | ('Oz' in unit) | (' Z' in unit):\n",
        "        return 'OZ'\n",
        "    if('GA' in unit) | ('Gal' in unit):\n",
        "        return 'GA'\n",
        "    if('QT' in unit):\n",
        "        return 'QT'\n",
        "    if('PT' in unit) | ('Pint' in unit) | ('PINT' in unit):\n",
        "        return 'PT'\n",
        "    if('LT' in unit):\n",
        "        return 'LT' \n",
        "    if('BU' in unit) | ('Bushel' in unit): #bushels\n",
        "        return 'BU'\n",
        "    if('KG' in unit):\n",
        "        return 'KG' \n",
        "    if('GR' in unit): #grams\n",
        "        return 'GR' \n",
        "    if('ML' in unit) | ('ml' in unit) | ('Ml' in unit): #milliliters\n",
        "        return 'ML'\n",
        "    if('CN' in unit) | ('Can' in unit):\n",
        "        return 'CN'\n",
        "    if('Bottle Case' in unit):\n",
        "        return 'Bottle Case'\n",
        "    return None\n",
        "#Notes: Bottle Case is 64 oz each, find # of can and translate to oz, anything with EA is not included for now (~9000)\n",
        "DiningDataFull['Unit'] = DiningDataFull.apply(lambda d: unit_rename(d['Unit']), axis = 1)\n",
        "\n",
        "#convert cans to OZ\n",
        "#using estimates for weight of cans through https://food.unl.edu/article/how-interpret-can-size-numbers\n",
        "DiningDataFull = DiningDataFull.replace({'#10 CN' : '110.5 OZ'}, regex = True)\n",
        "DiningDataFull = DiningDataFull.replace({'#10 Can' : '110.5 OZ'}, regex = True)\n",
        "DiningDataFull = DiningDataFull.replace({'#300 CN' : '15 OZ'}, regex = True)\n",
        "DiningDataFull = DiningDataFull.replace({'CN' : 'OZ'})\n",
        "#convert bottle case to OZ\n",
        "DiningDataFull = DiningDataFull.replace({' Bottle Case' : '/64 OZ'}, regex = True)\n",
        "DiningDataFull = DiningDataFull.replace({'Bottle Case' : 'OZ'})\n",
        "\n",
        "#extract item names\n",
        "#make everything uppercase and remove zz's in front of some of the item descriptions\n",
        "DiningDataFull['Vendor Item Description'] = DiningDataFull['Vendor Item Description'].str.upper()\n",
        "DiningDataFull['Vendor Item Description'] = DiningDataFull['Vendor Item Description'].str.extract(r'Z?Z? ?(.*)')\n",
        "DiningDataFull['Vendor Item'] = DiningDataFull['Vendor Item Description'].str.extract(r'(.*),')\n",
        "DiningDataFull['Vendor Item'] = DiningDataFull['Vendor Item'].str.upper()\n",
        "print(DiningDataFull.head())"
      ],
      "metadata": {
        "colab": {
          "base_uri": "https://localhost:8080/"
        },
        "id": "RPuQ7DJMOeH3",
        "outputId": "29f3bb1a-4816-48db-991a-4a3fd3e2cb17"
      },
      "execution_count": 3,
      "outputs": [
        {
          "output_type": "stream",
          "name": "stdout",
          "text": [
            "     Unit Name    Vendor Purchase Date Vendor Item ID  \\\n",
            "0  Marketplace  US Foods    2019-07-01        5018999   \n",
            "1  Marketplace  US Foods    2019-07-01        5400692   \n",
            "2  Marketplace  US Foods    2019-07-01        8012643   \n",
            "3  Marketplace  US Foods    2019-07-01         731349   \n",
            "4  Marketplace  US Foods    2019-07-01          68106   \n",
            "\n",
            "                             Vendor Item Description  \\\n",
            "0  POTATO, FRENCH-FRY 3/4 X3/8 STEAK CUT SKIN-ON ...   \n",
            "1  POTATO, FRENCH-FRY SPIRAL COATED SEASONED TFF ...   \n",
            "2  POTATO, FRENCH-FRY 1/2 CRINKLE-CUT TFF EXTRA-L...   \n",
            "3                POTATO, HASH BROWN SHRED COOKED REF   \n",
            "4    POTATO, TATER NUGGET PARFRIED FROZEN HASH BROWN   \n",
            "\n",
            "  Vendor Item Purchase Unit                              Product Group  \\\n",
            "0                    6/5 LB  APPETIZERS, ENTREES, & POTATOES REF & FZN   \n",
            "1                    6/5 LB  APPETIZERS, ENTREES, & POTATOES REF & FZN   \n",
            "2                  6/4.5 LB  APPETIZERS, ENTREES, & POTATOES REF & FZN   \n",
            "3                   2/10 LB  APPETIZERS, ENTREES, & POTATOES REF & FZN   \n",
            "4                    6/5 LB  APPETIZERS, ENTREES, & POTATOES REF & FZN   \n",
            "\n",
            "                Brand  Receive Quantity Priority 1 Priority 2 Priority 3 Unit  \\\n",
            "0  LW PRIVATE RESERVE              44.0        NaN        NaN        NaN   LB   \n",
            "1      LAMBS SEASONED              15.0        NaN        NaN        NaN   LB   \n",
            "2       LAMBS SUPREME              15.0        NaN        NaN        NaN   LB   \n",
            "3  CROSS VALLEY FARMS              20.0        NaN        NaN        NaN   LB   \n",
            "4             MONARCH              10.0        NaN        NaN        NaN   LB   \n",
            "\n",
            "  Vendor Item  \n",
            "0      POTATO  \n",
            "1      POTATO  \n",
            "2      POTATO  \n",
            "3      POTATO  \n",
            "4      POTATO  \n"
          ]
        }
      ]
    },
    {
      "cell_type": "markdown",
      "source": [
        "---\n",
        "Make a new column called `Total Amount` for the total amount of food in the current unit of measurement, before converting to grams. Make a new column called `Total Amount(g)` for converting all units to the equivalent value in grams, then filter out main descriptor word(s) in `Vendor Item Description` into a new column called `Food Name`.\n",
        "\n",
        "---\n",
        "\n",
        "Take the column with units in grams and multiply by the `Receive Quantity` if provided into a new column called `Total Grams`. If there is no value in `Receive Quantity`, then assume it is the value 1.\n",
        "\n",
        "---\n",
        "Note on Conversions: Most of these conversions are estimated to the nearest tenth. **More accurate calculations can be found later**\n",
        "\n",
        "---"
      ],
      "metadata": {
        "id": "PQbuaCZyGnUQ"
      }
    },
    {
      "cell_type": "code",
      "source": [
        "#make a new dataset for just entries with known units\n",
        "DDReduced = DiningDataFull[DiningDataFull['Unit'].notna()]\n",
        "#print(DDReduced.head())\n",
        "\n",
        "#find total amount of food before converting to grams\n",
        "DDReduced = DDReduced.copy()\n",
        "DDReduced['Total Amount'] = DDReduced['Vendor Item Purchase Unit'].str.extract(r'^[a-zA-Z]* ?-?/? ?([0-9]*/?[0-9.]*-?[0-9.]*)')\n",
        "DDReduced['Range'] = DDReduced['Total Amount'].str.extract(r'([0-9.]*-[0-9.]*)')\n",
        "DDReduced['Range'] = DDReduced['Range'].astype(str)\n",
        "DDReduced['Range'] = DDReduced['Range'].replace({'nan' : '0'})\n",
        "DDReduced['Range Average'] = DDReduced['Range'].replace({'-' : '+'}, regex = True)\n",
        "DDReduced['Range Average'] = DDReduced.apply(lambda d: eval(d['Range Average']), axis = 1)\n",
        "DDReduced['Range Average'] /= 2\n",
        "\n",
        "has_slash = ~(DDReduced['Total Amount'].str.contains('/')) & (DDReduced['Total Amount'].str.len() > 0)\n",
        "DDReduced.loc[has_slash, 'Total Amount'] = (\n",
        "    '1/' + DDReduced.loc[has_slash, 'Total Amount']\n",
        ")\n",
        "\n",
        "has_range = DDReduced['Total Amount'].str.contains('-')\n",
        "DDReduced.loc[has_range, 'Total Amount'] = (\n",
        "    DDReduced.loc[has_range, 'Total Amount'].str.split('/').str[0]\n",
        "    + '/'\n",
        "    + DDReduced.loc[has_range, 'Range Average'].astype(str)\n",
        ")\n",
        "\n",
        "just_unit = (DDReduced['Total Amount'] == '') & ~(DDReduced['Vendor Item Purchase Unit'].isna())\n",
        "DDReduced.loc[just_unit, 'Total Amount'] = '1'\n",
        "\n",
        "DDReduced = DDReduced.drop(['Range', 'Range Average'], axis = 1)\n",
        "\n",
        "DDReduced['Total Amount'] = DDReduced['Total Amount'].replace({'' : '0'})\n",
        "DDReduced['Receive Quantity'] = DDReduced['Receive Quantity'].fillna(0)\n",
        "DDReduced = DDReduced[DDReduced['Receive Quantity'] != 0] #get rid of any rows that were not received\n",
        "DDReduced['Total Amount'] = DDReduced['Total Amount'].replace({'/' : '*'}, regex = True)\n",
        "DDReduced['Total Amount'] = DDReduced.apply(lambda d: eval(d['Total Amount']), axis = 1)\n",
        "DDReduced['Total Amount'] = DDReduced['Total Amount'].astype(float) * DDReduced['Receive Quantity'].astype(float)\n",
        "\n",
        "#convert units to grams\n",
        "def convert_units(row):\n",
        "    if row['Unit'] == 'LB':\n",
        "        return row['Total Amount'] * 453.6\n",
        "    if row['Unit'] == 'OZ':\n",
        "        return row['Total Amount'] * 28.35\n",
        "    if row['Unit'] == 'GA':\n",
        "        return row['Total Amount'] * 3785.4 #assuming density of water, most drinks are MORE dense so number is underestimate\n",
        "    if row['Unit'] == 'QT':\n",
        "        return row['Total Amount'] * 3785.4 / 4\n",
        "    if row['Unit'] == 'PT':\n",
        "        return row['Total Amount'] * 3785.4 / 8\n",
        "    if (row['Unit'] == 'LT') | (row['Unit'] == 'KG'):\n",
        "        return row['Total Amount'] * 1000 #also assuming density of water, most drinks MORE dense\n",
        "    if row['Unit'] == 'BU':\n",
        "        return row['Total Amount'] * 32.5 * 453.6 #average of 40lbs per bu apples, squash, etc. and 25lbs per bu peppers, etc.\n",
        "    if (row['Unit'] == 'ML') | (row['Unit'] == 'G'):\n",
        "        return row['Total Amount'] * 453.6\n",
        "    return 0\n",
        "DDReduced['Total Amount(g)'] = DDReduced.apply(convert_units, axis = 1)\n",
        "DDReduced['Total Amount(kg)'] = DDReduced['Total Amount(g)'] / 1000\n",
        "\n",
        "#modify `Product Group` column\n",
        "DDReduced = DDReduced[DDReduced['Product Group'].notna()]\n",
        "DDReduced['Product Group'] = DDReduced['Product Group'].str.upper() #make uppercase to simplify code\n",
        "\n",
        "print(\"Excluded rows: \", DiningDataFull.shape[0] - DDReduced.shape[0])\n",
        "#print(DDReduced.head())"
      ],
      "metadata": {
        "colab": {
          "base_uri": "https://localhost:8080/"
        },
        "id": "YnLSVqA0I4K4",
        "outputId": "f0fe1a41-aa6a-4482-b09b-840958f9ab32"
      },
      "execution_count": 4,
      "outputs": [
        {
          "output_type": "stream",
          "name": "stderr",
          "text": [
            "<ipython-input-4-1aeab029a4c0>:35: SettingWithCopyWarning: \n",
            "A value is trying to be set on a copy of a slice from a DataFrame.\n",
            "Try using .loc[row_indexer,col_indexer] = value instead\n",
            "\n",
            "See the caveats in the documentation: https://pandas.pydata.org/pandas-docs/stable/user_guide/indexing.html#returning-a-view-versus-a-copy\n",
            "  DDReduced['Total Amount'] = DDReduced['Total Amount'].replace({'/' : '*'}, regex = True)\n"
          ]
        },
        {
          "output_type": "stream",
          "name": "stdout",
          "text": [
            "Excluded rows:  17177\n"
          ]
        },
        {
          "output_type": "stream",
          "name": "stderr",
          "text": [
            "<ipython-input-4-1aeab029a4c0>:63: SettingWithCopyWarning: \n",
            "A value is trying to be set on a copy of a slice from a DataFrame.\n",
            "Try using .loc[row_indexer,col_indexer] = value instead\n",
            "\n",
            "See the caveats in the documentation: https://pandas.pydata.org/pandas-docs/stable/user_guide/indexing.html#returning-a-view-versus-a-copy\n",
            "  DDReduced['Product Group'] = DDReduced['Product Group'].str.upper() #make uppercase to simplify code\n"
          ]
        }
      ]
    },
    {
      "cell_type": "markdown",
      "source": [
        "---\n",
        "#More item name cleaning\n",
        "\n",
        "---"
      ],
      "metadata": {
        "id": "d0ZmAoOTeQSq"
      }
    },
    {
      "cell_type": "code",
      "source": [
        "#label others meats that are not already labeled\n",
        "meat_not_labeled = (DDReduced['Product Group'].str.contains('MEAT', regex = True) | \\\n",
        "                    DDReduced['Product Group'].str.contains('MEATS', regex = True)) & \\\n",
        "                    ~(DDReduced['Product Group'].str.contains('SUBSTITUTE', regex = True)) \n",
        "                    #mask meats not labeled, but not substitutes\n",
        "vendor_item_na = (DDReduced['Vendor Item'].isna())\n",
        "\n",
        "#if meat not labeled, but `Vendor Item` is NaN, read first word of `Vendor Item Description`\n",
        "DDReduced.loc[meat_not_labeled & vendor_item_na, 'Vendor Item'] = \\\n",
        "    (DDReduced.loc[meat_not_labeled & vendor_item_na, 'Vendor Item Description'].str.split(' ').str[0])\n",
        "\n",
        "#meat substitute labeling part 1\n",
        "is_meat_sub = (DDReduced['Vendor Item'].str.contains('SUB')) | \\\n",
        "              (DDReduced['Vendor Item'] == 'BEAN')\n",
        "DDReduced.loc[is_meat_sub & meat_not_labeled, 'Product Group'] = 'MEAT SUBSTITUTE'\n",
        "\n",
        "#dictionary of known meats, if not in dictionary, read next word\n",
        "meat_dict = ['SUB', 'BEAN', 'SAUSAGE', 'PEPPERONI', 'HOT DOG', 'CORN DOG', \\\n",
        "             'DOG', 'SALAMI', 'MEATBALL', 'CHICKEN', 'TURKEY', 'DUCK', \\\n",
        "             'CORNISH HEN', 'BEEF', 'CORNED BEEF', 'ROAST', 'PASTRAMI', \\\n",
        "             'GYRO MEAT', 'LAMB', 'PORK', 'HAM', 'BACON', 'CRAB CAKE', \\\n",
        "             'CRABMEAT', 'COD', 'SALMON', 'MAHI MAHI', 'SHRIMP', 'TUNA', \\\n",
        "             'CATFISH', 'MUSSEL', 'FLOUNDER', 'FISH', 'SURIMI', 'POLLOCK', \\\n",
        "             'SCALLOP', 'LOBSTER', 'GROUPER', 'CRAWFISH', 'ALL-BEEF', 'CHUCK']\n",
        "meat_in_dict = ~DDReduced['Vendor Item'].isin(meat_dict)\n",
        "\n",
        "#iterate through words until meat is found\n",
        "def extract_vendor_item(description):\n",
        "    words = description.split()\n",
        "    for word in words:\n",
        "        if word in meat_dict:\n",
        "            return word\n",
        "    return\n",
        "DDReduced.loc[meat_in_dict & meat_not_labeled, 'Vendor Item'] = \\\n",
        "        DDReduced.loc[meat_in_dict & meat_not_labeled, 'Vendor Item Description'].apply(lambda x: extract_vendor_item(x))\n",
        "\n",
        "#label meat sub again if missed in first run\n",
        "is_meat_sub = (DDReduced['Vendor Item'].str.contains('SUB')) | \\\n",
        "              (DDReduced['Vendor Item'] == 'BEAN')\n",
        "DDReduced.loc[is_meat_sub & meat_not_labeled, 'Product Group'] = 'MEAT SUBSTITUTE'\n",
        "\n",
        "#label sausage and sausage-related foods\n",
        "sausage_like = (DDReduced['Vendor Item'].str.contains('SAUSAGE')) | \\\n",
        "               (DDReduced['Vendor Item'] == 'PEPPERONI') | \\\n",
        "               (DDReduced['Vendor Item'].str.contains('DOG')) | \\\n",
        "               (DDReduced['Vendor Item'] == 'SALAMI')\n",
        "DDReduced.loc[sausage_like, 'Product Group'] = 'SAUSAGE'\n",
        "\n",
        "#label meatballs (half pork, half beef)\n",
        "is_meatball = (DDReduced['Vendor Item'] == 'MEATBALL')\n",
        "DDReduced.loc[is_meatball, 'Product Group'] = 'MEATBALL'\n",
        "\n",
        "#label poultry\n",
        "is_poultry = (DDReduced['Vendor Item'] == 'CHICKEN') | \\\n",
        "             (DDReduced['Vendor Item'] == 'TURKEY') | \\\n",
        "             (DDReduced['Vendor Item'] == 'DUCK') | \\\n",
        "             (DDReduced['Vendor Item'].str.contains('HEN'))\n",
        "DDReduced.loc[is_poultry & meat_not_labeled, 'Product Group'] = 'POULTRY'\n",
        "\n",
        "#label beef\n",
        "is_beef = (DDReduced['Vendor Item'].str.contains('BEEF')) | \\\n",
        "          (DDReduced['Vendor Item'].str.contains('ROAST')) | \\\n",
        "          (DDReduced['Vendor Item'] == 'PASTRAMI') | \\\n",
        "          (DDReduced['Vendor Item'] == 'CHUCK')\n",
        "DDReduced.loc[is_beef & meat_not_labeled, 'Product Group'] = 'BEEF'\n",
        "\n",
        "#label gyro meat\n",
        "is_gyro_meat = (DDReduced['Vendor Item'].str.contains('GYRO MEAT')) | \\\n",
        "               (DDReduced['Vendor Item'] == 'LAMB')\n",
        "DDReduced.loc[is_gyro_meat & meat_not_labeled, 'Product Group'] = 'LAMB' \n",
        "#most common ingredient in gyro meat, technically has beef but the numbers are very similar\n",
        "\n",
        "#label pork\n",
        "is_pork = (DDReduced['Vendor Item'] == 'PORK') | \\\n",
        "          (DDReduced['Vendor Item'] == 'HAM') | \\\n",
        "          (DDReduced['Vendor Item'] == 'BACON')\n",
        "DDReduced.loc[is_pork & meat_not_labeled, 'Product Group'] = 'PORK'\n",
        "\n",
        "#label seafood\n",
        "is_seafood = (DDReduced['Vendor Item'].str.contains('CRAB')) | \\\n",
        "          (DDReduced['Vendor Item'] == 'COD') | \\\n",
        "          (DDReduced['Vendor Item'] == 'SALMON') | \\\n",
        "          (DDReduced['Vendor Item'] == 'MAHI MAHI') | \\\n",
        "          (DDReduced['Vendor Item'] == 'SHRIMP') | \\\n",
        "          (DDReduced['Vendor Item'] == 'TUNA') | \\\n",
        "          (DDReduced['Vendor Item'] == 'CATFISH') | \\\n",
        "          (DDReduced['Vendor Item'] == 'MUSSEL') | \\\n",
        "          (DDReduced['Vendor Item'] == 'FLOUNDER') | \\\n",
        "          (DDReduced['Vendor Item'] == 'FISH') | \\\n",
        "          (DDReduced['Vendor Item'] == 'SURIMI') | \\\n",
        "          (DDReduced['Vendor Item'] == 'POLLOCK') | \\\n",
        "          (DDReduced['Vendor Item'] == 'SCALLOP') | \\\n",
        "          (DDReduced['Vendor Item'] == 'LOBSTER') | \\\n",
        "          (DDReduced['Vendor Item'] == 'GROUPER') | \\\n",
        "          (DDReduced['Vendor Item'] == 'CRAWFISH')\n",
        "#Surimi is made of fish\n",
        "DDReduced.loc[is_seafood & meat_not_labeled, 'Product Group'] = 'SEAFOOD'\n",
        "\n",
        "#label sodas\n",
        "is_soda = DDReduced['Brand'] == 'Durham Coca Cola'\n",
        "DDReduced.loc[is_soda, 'Product Group'] = 'SODA'\n",
        "\n",
        "#print((DDReduced.iloc[45284]))"
      ],
      "metadata": {
        "id": "QCCi_esIeP8z"
      },
      "execution_count": 5,
      "outputs": []
    },
    {
      "cell_type": "markdown",
      "source": [
        "---\n",
        "#Explore Data\n",
        "\n",
        "---"
      ],
      "metadata": {
        "id": "lmX7APDAdmPE"
      }
    },
    {
      "cell_type": "code",
      "source": [
        "#print(DDReduced[(DDReduced['Product Group'] == 'Beverages') & (DDReduced['Vendor Item'].isna())][0:20])\n",
        "print(DDReduced[DDReduced['Product Group'] == '651401 LOCAL MEATS'])"
      ],
      "metadata": {
        "colab": {
          "base_uri": "https://localhost:8080/"
        },
        "id": "7E1M-cuqdlyO",
        "outputId": "2e2d2c18-14f9-4150-eefb-9e5d4e3e91fd"
      },
      "execution_count": 6,
      "outputs": [
        {
          "output_type": "stream",
          "name": "stdout",
          "text": [
            "Empty DataFrame\n",
            "Columns: [Unit Name, Vendor, Purchase Date, Vendor Item ID, Vendor Item Description, Vendor Item Purchase Unit, Product Group, Brand, Receive Quantity, Priority 1, Priority 2, Priority 3, Unit, Vendor Item, Total Amount, Total Amount(g), Total Amount(kg)]\n",
            "Index: []\n"
          ]
        }
      ]
    },
    {
      "cell_type": "markdown",
      "source": [
        "---\n",
        "####Load the csv with CO2 numbers and find numbers for carbon emissions\n",
        "\n",
        "---"
      ],
      "metadata": {
        "id": "d_F8fSgfo3RI"
      }
    },
    {
      "cell_type": "code",
      "source": [
        "CO2 = pd.read_csv('CO2 values for FACCWTHA v1.1 - Foods.csv')\n",
        "\n",
        "#replace values below if need to update values\n",
        "#CURRENT VALUES: from CO2 spreadsheet above (Poore and Nemecek 2018) (6/5/23)\n",
        "beef_emission_ratio = 21.3 #US for retail beef, 65% of CW, https://www.sciencedirect.com/science/article/pii/S0308521X18305675?via%3Dihub#s0085\n",
        "pork_emission_ratio = 10 #pork (PN18)\n",
        "poultry_emission_ratio = 4.9 #chicken for North America (PN18)\n",
        "lamb_emission_ratio = 40.0 #using global avg, lower than europe avg.\n",
        "seafood_emission_ratio = CO2[CO2['FoodAisle'] == 'Fish']['CO2eRatioSLBBook'].mean() #average of three common fish\n",
        "eggs_emission_ratio = 3.7 #avg for US (PN18)\n",
        "meatsub_emission_ratio = 2.19 #(https://www.ncbi.nlm.nih.gov/pmc/articles/PMC9936781/ , Mejia et al., 2020)\n",
        "meatball_emission_ratio = .5 * beef_emission_ratio + .5 * pork_emission_ratio\n",
        "sausage_emission_ratio = 6.4 #Ph.D. thesis Frankowska 2019, which is a more recent calculation\n",
        "#add more values here as the data gets more clean\n",
        "#later, replace means/averages with weighted averages depending on how often eaten and average amount eaten each instance\n",
        "\n",
        "print(\"beef: \", beef_emission_ratio, 'kg CO2e/kg')\n",
        "print(\"pork: \", pork_emission_ratio, 'kg CO2e/kg')\n",
        "print(\"poultry: \", poultry_emission_ratio, 'kg CO2e/kg')\n",
        "print(\"lamb: \", lamb_emission_ratio, 'kg CO2e/kg')\n",
        "print(\"seafood: \", seafood_emission_ratio, 'kg CO2e/kg')\n",
        "print(\"eggs: \", eggs_emission_ratio, 'kg CO2e/kg')\n",
        "print(\"meatsub: \", meatsub_emission_ratio, 'kg CO2e/kg')\n",
        "print(\"meatball: \", meatball_emission_ratio, 'kg CO2e/kg')\n",
        "print(\"sausage: \", sausage_emission_ratio, 'kg CO2e/kg')\n",
        "\n",
        "#print(CO2.head())"
      ],
      "metadata": {
        "colab": {
          "base_uri": "https://localhost:8080/"
        },
        "id": "hRVwXabqo36T",
        "outputId": "6526e86a-6b7c-4c11-f889-0797aca866d5"
      },
      "execution_count": 7,
      "outputs": [
        {
          "output_type": "stream",
          "name": "stdout",
          "text": [
            "beef:  21.3 kg CO2e/kg\n",
            "pork:  10 kg CO2e/kg\n",
            "poultry:  4.9 kg CO2e/kg\n",
            "lamb:  40.0 kg CO2e/kg\n",
            "seafood:  5.133333333333334 kg CO2e/kg\n",
            "eggs:  3.7 kg CO2e/kg\n",
            "meatsub:  2.19 kg CO2e/kg\n",
            "meatball:  15.65 kg CO2e/kg\n",
            "sausage:  6.4 kg CO2e/kg\n"
          ]
        }
      ]
    },
    {
      "cell_type": "markdown",
      "source": [
        "---\n",
        "#CALCULATING CARBON EMISSIONS\n",
        "\n",
        "Currently includes: Meats, Meat Alternatives, and Eggs\n",
        "\n",
        "NOTE: 651400 meats, 651401 local meats, processed meat, and specialty meats are excluded as of now, for a total of 3964 rows\n",
        "\n",
        "---"
      ],
      "metadata": {
        "id": "JyTNQtI4e4i3"
      }
    },
    {
      "cell_type": "code",
      "source": [
        "#print(DDReduced['Product Group'].value_counts())\n",
        "\n",
        "def calc_emissions(row):\n",
        "    if row['Product Group'] == 'BEEF':\n",
        "        return row['Total Amount(kg)'] * beef_emission_ratio\n",
        "    if row['Product Group'] == 'PORK':\n",
        "        return row['Total Amount(kg)'] * pork_emission_ratio\n",
        "    if row['Product Group'] == 'SEAFOOD':\n",
        "        return row['Total Amount(kg)'] * seafood_emission_ratio\n",
        "    if row['Product Group'] == 'MEAT SUBSTITUTE':\n",
        "        return row['Total Amount(kg)'] * meatsub_emission_ratio\n",
        "    if row['Product Group'] == 'LAMB':\n",
        "        return row['Total Amount(kg)'] * lamb_emission_ratio\n",
        "    if (row['Product Group'] == 'CHICKEN') | (row['Product Group'] == 'POULTRY') | \\\n",
        "       (row['Product Group'] == 'TURKEY') | (row['Product Group'] == 'DUCK'):\n",
        "        return row['Total Amount(kg)'] * beef_emission_ratio\n",
        "    if row['Product Group'] == 'EGGS':\n",
        "        return row['Total Amount(kg)'] * eggs_emission_ratio\n",
        "    if row['Product Group'] == 'MEATBALL':\n",
        "        return row['Total Amount(kg)'] * meatball_emission_ratio\n",
        "    if row['Product Group'] == 'SAUSAGE':\n",
        "        return row['Total Amount(kg)'] * sausage_emission_ratio\n",
        "    return 0\n",
        "\n",
        "DDReduced['CO2e(kg)'] = DDReduced.apply(calc_emissions, axis = 1)\n",
        "\n",
        "total_food_amount_kg = DDReduced['Total Amount(kg)'].sum()\n",
        "total_food_amount_calced_kg = DDReduced[DDReduced['CO2e(kg)'] != 0]['Total Amount(kg)'].sum()\n",
        "percent_food_calced = total_food_amount_calced_kg / total_food_amount_kg * 100\n",
        "\n",
        "print('The percentage of food (by weight) with calculated carbon emissions so far is: ', percent_food_calced, \"%\")"
      ],
      "metadata": {
        "colab": {
          "base_uri": "https://localhost:8080/"
        },
        "id": "beM1jtkMe44Q",
        "outputId": "39a9ab50-c2f5-4267-add9-c4d368a8be0e"
      },
      "execution_count": 8,
      "outputs": [
        {
          "output_type": "stream",
          "name": "stdout",
          "text": [
            "The percentage of food (by weight) with calculated carbon emissions so far is:  63.20357160427223 %\n"
          ]
        }
      ]
    },
    {
      "cell_type": "markdown",
      "source": [
        "---\n",
        "###Making one dataset for each location and each year\n",
        "\n",
        "---"
      ],
      "metadata": {
        "id": "slofxOZkptua"
      }
    },
    {
      "cell_type": "code",
      "source": [
        "location_col = DDReduced['Unit Name']\n",
        "DDMarketplace = DDReduced[location_col == \"Marketplace\"]\n",
        "DDDuML = DDReduced[location_col == \"DuML\"]\n",
        "DDTrinity = DDReduced[location_col == \"Trinity\"]\n",
        "DDFreeman = DDReduced[location_col == \"Freeman\"]\n",
        "\n",
        "date_col = DDReduced['Purchase Date']\n",
        "DD19 = DDReduced[(date_col >= pd.Timestamp(2019, 1, 1).date()) & (date_col < pd.Timestamp(2020, 1, 1).date())]\n",
        "DD20 = DDReduced[(date_col >= pd.Timestamp(2020, 1, 1).date()) & (date_col < pd.Timestamp(2021, 1, 1).date())]\n",
        "DD21 = DDReduced[(date_col >= pd.Timestamp(2021, 1, 1).date()) & (date_col < pd.Timestamp(2022, 1, 1).date())]\n",
        "DD22 = DDReduced[(date_col >= pd.Timestamp(2022, 1, 1).date()) & (date_col < pd.Timestamp(2023, 1, 1).date())]\n",
        "DD23 = DDReduced[(date_col >= pd.Timestamp(2023, 1, 1).date()) & (date_col < pd.Timestamp(2024, 1, 1).date())]"
      ],
      "metadata": {
        "id": "mJYaZdBsykLC"
      },
      "execution_count": 9,
      "outputs": []
    },
    {
      "cell_type": "markdown",
      "source": [
        "---\n",
        "#Analysis\n",
        "\n",
        "---"
      ],
      "metadata": {
        "id": "E69_jgCrxFUj"
      }
    },
    {
      "cell_type": "code",
      "source": [
        "total_food_emissions_2022 = DD22['CO2e(kg)'].sum()\n",
        "total_duke_emissions_2022 = 194346000 #in kg, from 2022 GHG emissions\n",
        "\n",
        "total_food_amount_kg_2022 = DD22['Total Amount(kg)'].sum()\n",
        "total_food_amount_calced_kg_2022 = DD22[DD22['CO2e(kg)'] != 0]['Total Amount(kg)'].sum()\n",
        "percent_food_calced_2022 = total_food_amount_calced_kg_2022 / total_food_amount_kg_2022 * 100\n",
        "\n",
        "print('The percentage of food (by weight) with calculated carbon emissions so far in 2022 is: ', percent_food_calced_2022, \"%\")\n",
        "print('')\n",
        "print(\"Of what has been calculated, food is \", total_food_emissions_2022 / total_duke_emissions_2022 * 100, \"% of Duke's total GHG emissions in 2022\")\n",
        "print(\"The value in Metric Tons is: \", total_food_emissions_2022 / 1000)\n",
        "print(\"If food is not included in Duke's calculations, then the reported amount is: \", total_duke_emissions_2022 / (total_duke_emissions_2022 + total_food_emissions_2022) * 100, \"% of the real total emissions\")"
      ],
      "metadata": {
        "colab": {
          "base_uri": "https://localhost:8080/"
        },
        "id": "m5s8NMgNxExG",
        "outputId": "197cbd59-6c3a-4d02-96de-6cf394880d9e"
      },
      "execution_count": 10,
      "outputs": [
        {
          "output_type": "stream",
          "name": "stdout",
          "text": [
            "The percentage of food (by weight) with calculated carbon emissions so far in 2022 is:  65.66172707397952 %\n",
            "\n",
            "Of what has been calculated, food is  16.635280606474577 % of Duke's total GHG emissions in 2022\n",
            "The value in Metric Tons is:  32330.00244745908\n",
            "If food is not included in Duke's calculations, then the reported amount is:  85.73735106566792 % of the real total emissions\n"
          ]
        }
      ]
    },
    {
      "cell_type": "markdown",
      "source": [
        "---\n",
        "#Visualize\n",
        "\n",
        "---"
      ],
      "metadata": {
        "id": "rhlN76m9WNEc"
      }
    },
    {
      "cell_type": "code",
      "source": [
        "data = [16.635, 83.365]\n",
        "explode = [0.1, 0]\n",
        "keys = ['Meat Emissions\\n(32330 Megatons CO2e)', \\\n",
        "        'All Other Emissions\\n(194346 Megatons CO2e)']\n",
        "\n",
        "palette_color = seaborn.color_palette('pastel')\n",
        "  \n",
        "plt.pie(data, labels=keys, colors=palette_color, autopct='%.3f%%', \\\n",
        "        explode = explode)\n",
        "plt.suptitle('Percent of Duke\\'s 2022 Carbon Emissions from Meat', fontsize = 15)\n",
        "plt.title('(Meat is ~65% of Duke\\'s food purchases by weight in 2022)', fontsize = 10)\n",
        "\n",
        "plt.show()"
      ],
      "metadata": {
        "colab": {
          "base_uri": "https://localhost:8080/",
          "height": 454
        },
        "id": "7bP6p08XWMwN",
        "outputId": "0fff88bf-e5d8-4812-d49b-6990f14d9baa"
      },
      "execution_count": 38,
      "outputs": [
        {
          "output_type": "display_data",
          "data": {
            "text/plain": [
              "<Figure size 640x480 with 1 Axes>"
            ],
            "image/png": "[encoded data removed]"
          },
          "metadata": {}
        }
      ]
    },
    {
      "cell_type": "code",
      "source": [
        "#from google.colab import files\n",
        "\n",
        "#DD22.to_csv('DD22.csv', encoding = 'utf-8-sig') \n",
        "#files.download('DD22.csv')"
      ],
      "metadata": {
        "id": "Z9RuX09thkeN"
      },
      "execution_count": 12,
      "outputs": []
    }
  ]
}